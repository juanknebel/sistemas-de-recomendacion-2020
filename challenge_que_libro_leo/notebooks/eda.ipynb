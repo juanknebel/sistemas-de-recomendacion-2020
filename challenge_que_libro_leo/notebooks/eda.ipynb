{
 "cells": [
  {
   "cell_type": "code",
   "execution_count": 1,
   "metadata": {},
   "outputs": [],
   "source": [
    "import os\n",
    "import sys\n",
    "module_path = os.path.abspath(os.path.join('..'))\n",
    "if module_path not in sys.path:\n",
    "    sys.path.append(module_path)"
   ]
  },
  {
   "cell_type": "code",
   "execution_count": 2,
   "metadata": {},
   "outputs": [],
   "source": [
    "import pandas as pd\n",
    "import numpy as np\n",
    "from tqdm import tqdm\n",
    "\n",
    "from sklearn.model_selection import train_test_split\n",
    "from sklearn.linear_model import LinearRegression\n",
    "from sklearn.metrics import mean_squared_error, r2_score\n",
    "import surprise as sp\n",
    "import lightgbm\n",
    "import xgboost\n",
    "\n",
    "from src.surprise_model import _tune_train, _train, _fit, _generate_submission"
   ]
  },
  {
   "cell_type": "code",
   "execution_count": 3,
   "metadata": {},
   "outputs": [],
   "source": [
    "df_train = pd.read_csv('../data/01_raw/opiniones_train.csv')\n",
    "df_users = pd.read_csv('../data/01_raw/usuarios.csv')\n",
    "df_books = pd.read_csv('../data/01_raw/libros.csv')\n",
    "df_test = pd.read_csv('../data/01_raw/opiniones_test.csv')"
   ]
  },
  {
   "cell_type": "code",
   "execution_count": 4,
   "metadata": {},
   "outputs": [],
   "source": [
    "df_books.loc[(df_books.idioma.isna()) & (df_books.isbn == 'Español'), 'idioma'] = 'Español'\n",
    "df_books = df_books[df_books.anio.notna()]\n",
    "df_books.loc[df_books.anio == '(200', 'anio'] = '2002'\n",
    "not_years = list(filter(lambda y: len(y) != 4, [x for x in df_books.anio.unique().tolist()]))\n",
    "df_books = df_books[~(df_books.anio.isin(not_years))]\n",
    "df_books.loc[df_books.isbn == 'Español', 'isbn'] = np.nan"
   ]
  },
  {
   "cell_type": "markdown",
   "metadata": {},
   "source": [
    "## Predictions"
   ]
  },
  {
   "cell_type": "code",
   "execution_count": 5,
   "metadata": {},
   "outputs": [],
   "source": [
    "# Separo mi train & test\n",
    "X_train, X_test, y_train, y_test =\\\n",
    "    train_test_split(df_train.drop(['puntuacion'], axis=1), df_train.puntuacion, test_size=0.3, random_state=0)"
   ]
  },
  {
   "cell_type": "code",
   "execution_count": null,
   "metadata": {},
   "outputs": [],
   "source": [
    "y_train"
   ]
  },
  {
   "cell_type": "markdown",
   "metadata": {},
   "source": [
    "### Surprise"
   ]
  },
  {
   "cell_type": "markdown",
   "metadata": {},
   "source": [
    "### SVD"
   ]
  },
  {
   "cell_type": "code",
   "execution_count": 7,
   "metadata": {},
   "outputs": [
    {
     "output_type": "stream",
     "name": "stderr",
     "text": [
      "2020-11-17 17:08:30,042  surprise: INFO: Tunning SVD ...\n",
      "2020-11-17 17:09:21,546  surprise: INFO: Training SVD ...\n",
      "RMSE: 1.5814\n"
     ]
    }
   ],
   "source": [
    "scale = (1.0, 10.0)\n",
    "algorithm = sp.prediction_algorithms.SVD\n",
    "param_grid = {\n",
    "    \"n_epochs\": [90],\n",
    "    \"lr_all\": [0.001, 0.0015, 0.002, 0.003, 0.005, 0.007],\n",
    "    \"reg_all\": [0.2, 0.4, 0.42, 0.45, 0.49, 0.6],\n",
    "}\n",
    "\n",
    "best_params = _tune_train(X_train[['usuario', 'libro']], y_train, algorithm, param_grid, scale, n_jobs=-1)\n",
    "model = _train(df_train[['usuario', 'libro', 'puntuacion']], algorithm, best_params, scale)\n",
    "predictions = _fit(zip(df_test.usuario, df_test.libro), model)\n",
    "submission = pd.DataFrame({'id': df_test.id, 'puntuacion': predictions})"
   ]
  },
  {
   "cell_type": "code",
   "execution_count": null,
   "metadata": {},
   "outputs": [],
   "source": [
    "_generate_submission(submission, './submission_surprise_svd.csv')"
   ]
  },
  {
   "cell_type": "markdown",
   "metadata": {},
   "source": [
    "Resultado a mejorar\n",
    "\n",
    "Algoritmo | RMSE | Surprise lib\n",
    "- | - | -\n",
    "SVD | 1.5925 | 1.5925182858830331"
   ]
  },
  {
   "cell_type": "code",
   "execution_count": null,
   "metadata": {},
   "outputs": [],
   "source": [
    "!kaggle competitions submit -c prediccion-de-opiniones-de-libros-fcen-2020 -f submission_surprise_svd.csv -m \"Con libreria surprise SVD with tune\""
   ]
  },
  {
   "cell_type": "markdown",
   "metadata": {},
   "source": [
    "### KNN"
   ]
  },
  {
   "cell_type": "code",
   "execution_count": 6,
   "metadata": {},
   "outputs": [
    {
     "output_type": "stream",
     "name": "stderr",
     "text": [
      "2020-11-17 17:05:51,030  surprise: INFO: Tunning KNNBasic ...\n",
      "2020-11-17 17:06:53,205  surprise: INFO: Training KNNBasic ...\n",
      "Computing the msd similarity matrix...\n",
      "Done computing similarity matrix.\n",
      "RMSE: 1.6860\n",
      "Computing the msd similarity matrix...\n",
      "Done computing similarity matrix.\n"
     ]
    }
   ],
   "source": [
    "scale = (1.0, 10.0)\n",
    "algorithm = sp.prediction_algorithms.knns.KNNBasic\n",
    "param_grid = {'k': [15, 40, 70], 'min_k': [1, 3, 9],\n",
    "              'sim_options': {'name': ['msd', 'cosine'],\n",
    "                              'user_based': [False]}}\n",
    "\n",
    "best_params = _tune_train(X_train[['usuario', 'libro']], y_train, algorithm, param_grid, scale, n_jobs=4)\n",
    "model = _train(df_train[['usuario', 'libro', 'puntuacion']], algorithm, best_params, scale)\n",
    "predictions = _fit(zip(df_test.usuario, df_test.libro), model)\n",
    "submission = pd.DataFrame({'id': df_test.id, 'puntuacion': predictions})"
   ]
  },
  {
   "cell_type": "code",
   "execution_count": null,
   "metadata": {},
   "outputs": [],
   "source": [
    "_generate_submission(submission, './submission_surprise_knn.csv')"
   ]
  },
  {
   "cell_type": "code",
   "execution_count": null,
   "metadata": {},
   "outputs": [],
   "source": [
    "!kaggle competitions submit -c prediccion-de-opiniones-de-libros-fcen-2020 -f submission_surprise_knn.csv -m \"Con libreria surprise KNN with tune\""
   ]
  }
 ],
 "metadata": {
  "kernelspec": {
   "display_name": "Python 3",
   "language": "python",
   "name": "python3"
  },
  "language_info": {
   "codemirror_mode": {
    "name": "ipython",
    "version": 3
   },
   "file_extension": ".py",
   "mimetype": "text/x-python",
   "name": "python",
   "nbconvert_exporter": "python",
   "pygments_lexer": "ipython3",
   "version": "3.8.5-final"
  }
 },
 "nbformat": 4,
 "nbformat_minor": 2
}