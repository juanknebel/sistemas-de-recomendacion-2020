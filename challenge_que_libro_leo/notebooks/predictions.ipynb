{
 "cells": [
  {
   "cell_type": "code",
   "execution_count": 21,
   "metadata": {},
   "outputs": [],
   "source": [
    "import os\n",
    "import sys\n",
    "module_path = os.path.abspath(os.path.join('..'))\n",
    "if module_path not in sys.path:\n",
    "    sys.path.append(module_path)\n",
    "\n",
    "import pandas as pd\n",
    "import numpy as np\n",
    "from tqdm import tqdm, tqdm_notebook\n",
    "import math\n",
    "\n",
    "from sklearn.model_selection import train_test_split\n",
    "from sklearn.metrics import mean_squared_error, r2_score\n",
    "import surprise as sp\n",
    "import lightgbm\n",
    "import xgboost\n",
    "from random import randint\n",
    "\n",
    "import src.surprise_model\n",
    "import src.lightgbm_model"
   ]
  },
  {
   "cell_type": "code",
   "execution_count": 22,
   "metadata": {},
   "outputs": [],
   "source": [
    "df_train = pd.read_csv('../data/01_raw/opiniones_train.csv')\n",
    "df_users = pd.read_csv('../data/01_raw/usuarios.csv')\n",
    "df_books = pd.read_csv('../data/01_raw/libros.csv')\n",
    "df_test = pd.read_csv('../data/01_raw/opiniones_test.csv')"
   ]
  },
  {
   "cell_type": "code",
   "execution_count": 23,
   "metadata": {},
   "outputs": [],
   "source": [
    "df_books.loc[(df_books.idioma.isna()) & (df_books.isbn == 'Español'), 'idioma'] = 'Español'\n",
    "df_books = df_books[df_books.anio.notna()]\n",
    "df_books.loc[df_books.anio == '(200', 'anio'] = '2002'\n",
    "not_years = list(filter(lambda y: len(y) != 4, [x for x in df_books.anio.unique().tolist()]))\n",
    "df_books = df_books[~(df_books.anio.isin(not_years))]\n",
    "df_books.loc[df_books.isbn == 'Español', 'isbn'] = np.nan"
   ]
  },
  {
   "cell_type": "markdown",
   "metadata": {},
   "source": [
    "## Predictions"
   ]
  },
  {
   "cell_type": "code",
   "execution_count": 24,
   "metadata": {},
   "outputs": [],
   "source": [
    "# Separo mi train & test\n",
    "X_train, X_test, y_train, y_test =\\\n",
    "    train_test_split(df_train.drop(['puntuacion'], axis=1), df_train.puntuacion, test_size=0.3, random_state=0)"
   ]
  },
  {
   "cell_type": "markdown",
   "metadata": {},
   "source": [
    "### Surprise"
   ]
  },
  {
   "cell_type": "markdown",
   "metadata": {},
   "source": [
    "### SVD"
   ]
  },
  {
   "cell_type": "code",
   "execution_count": 30,
   "metadata": {},
   "outputs": [],
   "source": [
    "scale = (1.0, 10.0)\n",
    "algorithm = sp.prediction_algorithms.SVD\n",
    "param_grid = {\n",
    "    \"n_epochs\": [300, 700, 1000],\n",
    "    \"lr_all\": [0.001, 0.0015, 0.002, 0.003, 0.005, 0.007],\n",
    "    \"reg_all\": [0.2, 0.4, 0.42, 0.45, 0.49, 0.6],\n",
    "    'n_factors': range(40, 130, 5)\n",
    "}"
   ]
  },
  {
   "cell_type": "code",
   "execution_count": 31,
   "metadata": {},
   "outputs": [
    {
     "output_type": "stream",
     "name": "stderr",
     "text": [
      "2020-11-18 19:58:31,528  surprise: INFO: Tunning SVD ...\n",
      "2020-11-18 20:04:50,424  surprise: INFO: Training SVD ...\n",
      "RMSE: 1.5841\n",
      "2020-11-18 20:05:29,875  surprise: INFO: Fitting test ...\n",
      "2020-11-18 20:05:29,953  surprise: INFO: Saving submission to ./submission_surprise_svd.csv ...\n"
     ]
    }
   ],
   "source": [
    "best_params = src.surprise_model._tune_train(X_train[['usuario', 'libro']], y_train, algorithm, param_grid, scale, n_jobs=-1)\n",
    "# To save time\n",
    "#best_params = {'n_epochs': 300, 'lr_all': 0.001, 'reg_all': 0.2, 'n_factors': 55}\n",
    "\n",
    "model = src.surprise_model._train(df_train[['usuario', 'libro', 'puntuacion']], algorithm, best_params, scale)\n",
    "predictions = src.surprise_model._fit(zip(df_test.usuario, df_test.libro), model)\n",
    "submission = pd.DataFrame({'id': df_test.id, 'puntuacion': predictions})\n",
    "src.surprise_model._generate_submission(submission, './submission_surprise_svd.csv')"
   ]
  },
  {
   "cell_type": "markdown",
   "metadata": {},
   "source": [
    "Resultado a mejorar en Accuracy in test\n",
    "\n",
    "Algoritmo | RMSE | Surprise lib\n",
    "- | - | -\n",
    "SVD | 1.5841 | 1.5841499502324747"
   ]
  },
  {
   "cell_type": "code",
   "execution_count": 32,
   "metadata": {},
   "outputs": [
    {
     "output_type": "stream",
     "name": "stdout",
     "text": [
      "100%|████████████████████████████████████████| 237k/237k [00:04<00:00, 48.8kB/s]\n",
      "Successfully submitted to Predicción de opiniones de libros - FCEN 2020"
     ]
    }
   ],
   "source": [
    "!kaggle competitions submit -c prediccion-de-opiniones-de-libros-fcen-2020 -f submission_surprise_svd.csv -m \"Con libreria surprise SVD with tune\""
   ]
  },
  {
   "cell_type": "code",
   "execution_count": 16,
   "metadata": {},
   "outputs": [
    {
     "output_type": "stream",
     "name": "stderr",
     "text": [
      "2020-11-18 16:14:01,195  surprise: INFO: Tunning SVD ...\n"
     ]
    },
    {
     "output_type": "display_data",
     "data": {
      "text/plain": "HBox(children=(HTML(value=''), FloatProgress(value=0.0, max=10.0), HTML(value='')))",
      "application/vnd.jupyter.widget-view+json": {
       "version_major": 2,
       "version_minor": 0,
       "model_id": "e8b399a9cd144cf4833c7065302c0168"
      }
     },
     "metadata": {}
    },
    {
     "output_type": "stream",
     "name": "stderr",
     "text": [
      "2020-11-18 16:20:56,490  surprise: INFO: Training SVD ...\n",
      "RMSE: 1.5997\n",
      "2020-11-18 16:22:45,389  surprise: INFO: Training SVD ...\n",
      "RMSE: 1.6002\n",
      "2020-11-18 16:24:31,549  surprise: INFO: Training SVD ...\n",
      "RMSE: 1.5977\n",
      "2020-11-18 16:26:11,227  surprise: INFO: Training SVD ...\n",
      "RMSE: 1.5997\n",
      "2020-11-18 16:27:50,513  surprise: INFO: Training SVD ...\n",
      "RMSE: 1.5988\n",
      "2020-11-18 16:29:30,089  surprise: INFO: Training SVD ...\n",
      "RMSE: 1.6001\n",
      "2020-11-18 16:31:07,742  surprise: INFO: Training SVD ...\n",
      "RMSE: 1.5983\n",
      "2020-11-18 16:32:46,180  surprise: INFO: Training SVD ...\n",
      "RMSE: 1.6009\n",
      "2020-11-18 16:34:23,883  surprise: INFO: Training SVD ...\n",
      "RMSE: 1.6010\n",
      "2020-11-18 16:36:01,578  surprise: INFO: Training SVD ...\n",
      "RMSE: 1.5994\n",
      "\n"
     ]
    }
   ],
   "source": [
    "best_params = src.surprise_model._tune_train(X_train[['usuario', 'libro']], y_train, algorithm, param_grid, scale, n_jobs=-1)\n",
    "for iteration in tqdm_notebook(range(10)):\n",
    "    best_params['random_state'] = randint(0, 1000)\n",
    "    model = src.surprise_model._train(df_train[['usuario', 'libro', 'puntuacion']], algorithm, best_params, scale)\n",
    "    predictions_train = src.surprise_model._fit(zip(df_train.usuario, df_train.libro), model)\n",
    "    df_train[f'model_{iteration}'] = predictions_train\n",
    "    predictions = src.surprise_model._fit(zip(df_test.usuario, df_test.libro), model)\n",
    "    df_test[f'model_{iteration}'] = predictions"
   ]
  },
  {
   "cell_type": "code",
   "execution_count": 19,
   "metadata": {},
   "outputs": [],
   "source": [
    "df_test.to_csv('../data/03_primary/opiniones_test_01.csv', index=False)\n",
    "df_train.to_csv('../data/03_primary/opiniones_train_01.csv', index=False)"
   ]
  },
  {
   "cell_type": "markdown",
   "metadata": {},
   "source": [
    "### KNN"
   ]
  },
  {
   "cell_type": "code",
   "execution_count": 6,
   "metadata": {},
   "outputs": [
    {
     "name": "stderr",
     "output_type": "stream",
     "text": [
      "2020-11-17 17:05:51,030  surprise: INFO: Tunning KNNBasic ...\n",
      "2020-11-17 17:06:53,205  surprise: INFO: Training KNNBasic ...\n",
      "Computing the msd similarity matrix...\n",
      "Done computing similarity matrix.\n",
      "RMSE: 1.6860\n",
      "Computing the msd similarity matrix...\n",
      "Done computing similarity matrix.\n"
     ]
    }
   ],
   "source": [
    "scale = (1.0, 10.0)\n",
    "algorithm = sp.prediction_algorithms.knns.KNNBasic\n",
    "param_grid = {'k': [15, 40, 70], 'min_k': [1, 3, 9],\n",
    "              'sim_options': {'name': ['msd', 'cosine'],\n",
    "                              'user_based': [False]}}\n",
    "\n",
    "best_params = _tune_train(X_train[['usuario', 'libro']], y_train, algorithm, param_grid, scale, n_jobs=4)\n",
    "model = _train(df_train[['usuario', 'libro', 'puntuacion']], algorithm, best_params, scale)\n",
    "predictions = _fit(zip(df_test.usuario, df_test.libro), model)\n",
    "submission = pd.DataFrame({'id': df_test.id, 'puntuacion': predictions})"
   ]
  },
  {
   "cell_type": "code",
   "execution_count": null,
   "metadata": {},
   "outputs": [],
   "source": [
    "_generate_submission(submission, './submission_surprise_knn.csv')"
   ]
  },
  {
   "cell_type": "code",
   "execution_count": null,
   "metadata": {},
   "outputs": [],
   "source": [
    "!kaggle competitions submit -c prediccion-de-opiniones-de-libros-fcen-2020 -f submission_surprise_knn.csv -m \"Con libreria surprise KNN with tune\""
   ]
  },
  {
   "source": [
    "### LGB con modelos"
   ],
   "cell_type": "markdown",
   "metadata": {}
  },
  {
   "cell_type": "code",
   "execution_count": 1,
   "metadata": {},
   "outputs": [],
   "source": [
    "import os\n",
    "import sys\n",
    "module_path = os.path.abspath(os.path.join('..'))\n",
    "if module_path not in sys.path:\n",
    "    sys.path.append(module_path)\n",
    "\n",
    "import pandas as pd\n",
    "import numpy as np\n",
    "from tqdm import tqdm, tqdm_notebook\n",
    "import math\n",
    "\n",
    "from sklearn.model_selection import train_test_split\n",
    "from sklearn.metrics import mean_squared_error, r2_score\n",
    "import surprise as sp\n",
    "import lightgbm\n",
    "import xgboost\n",
    "from random import randint\n",
    "\n",
    "import src.surprise_model\n",
    "import src.lightgbm_model"
   ]
  },
  {
   "cell_type": "code",
   "execution_count": 2,
   "metadata": {},
   "outputs": [],
   "source": [
    "df_train = pd.read_csv('../data/03_primary/opiniones_train_01.csv')\n",
    "df_test = pd.read_csv('../data/03_primary/opiniones_test_01.csv')"
   ]
  },
  {
   "cell_type": "code",
   "execution_count": 3,
   "metadata": {},
   "outputs": [],
   "source": [
    "df_train['libro'] = df_train['libro'].astype('category')\n",
    "df_test['libro'] = df_test['libro'].astype('category')"
   ]
  },
  {
   "cell_type": "code",
   "execution_count": 4,
   "metadata": {},
   "outputs": [],
   "source": [
    "# Separo mi train & test\n",
    "X_train, X_test, y_train, y_test =\\\n",
    "    train_test_split(df_train.drop(['puntuacion'], axis=1), df_train.puntuacion, test_size=0.3, random_state=0)"
   ]
  },
  {
   "cell_type": "code",
   "execution_count": 17,
   "metadata": {},
   "outputs": [
    {
     "output_type": "stream",
     "name": "stderr",
     "text": [
      "2020-11-18 19:37:15,251  lightgbm: INFO: Tunning lgbm ...\n",
      "Fitting 5 folds for each of 10 candidates, totalling 50 fits\n",
      "[Parallel(n_jobs=-1)]: Using backend LokyBackend with 12 concurrent workers.\n",
      "[Parallel(n_jobs=-1)]: Done  26 tasks      | elapsed:    5.6s\n",
      "[Parallel(n_jobs=-1)]: Done  50 out of  50 | elapsed:    9.7s finished\n",
      "[LightGBM] [Warning] min_data_in_leaf is set=10, min_child_samples=20 will be ignored. Current value: min_data_in_leaf=10\n",
      "[LightGBM] [Warning] min_sum_hessian_in_leaf is set=0.0001, min_child_weight=0.001 will be ignored. Current value: min_sum_hessian_in_leaf=0.0001\n",
      "2020-11-18 19:37:26,607  lightgbm: INFO: Training lgbm ...\n"
     ]
    }
   ],
   "source": [
    "# Random search\n",
    "grid_params = {\n",
    "    'learning_rate': [0.001, 0.01, 0.05],\n",
    "    'num_leaves': [4, 15],\n",
    "    'boosting_type' : ['gbdt', 'goss'],\n",
    "    'max_depth' : [-1, 8, 15],\n",
    "    'random_state' : [42],\n",
    "    'n_estimators' : [100, 500, 1000],\n",
    "    'colsample_bytree' : [0.5, 0.9],\n",
    "    'subsample' : [0.7, 0.9],\n",
    "    'max_bin': [1, 5, 14],\n",
    "#    'min_split_gain' : [0.01],\n",
    "#    'min_data_in_leaf':[5, 10, 15],\n",
    "    'metric':['rmse'],\n",
    "    'reg_alpha': [0, 1e-1, 1, 2, 5, 7, 10, 50, 100],\n",
    "    'reg_lambda': [0, 1e-1, 1, 5, 10, 20, 50, 100],\n",
    "    #'early_stopping_round': [100, 500],\n",
    "    'min_data_in_leaf': [10, 20, 40],\n",
    "    'min_sum_hessian_in_leaf': [0.0001, 0.0004, 0.001, 0.1]\n",
    "    }\n",
    "algorithm = lightgbm.LGBMRegressor()\n",
    "#best_params = src.lightgbm_model._tune_train(X_train, y_train, algorithm, grid_params)\n",
    "\n",
    "# to save time\n",
    "best_params = {'subsample': 0.7, 'regression_l1': 'mae', 'regression': 'root_mean_squared_error', 'reg_lambda': 5, 'reg_alpha': 0.1, 'random_state': 42, 'num_leaves': 31, 'n_estimators': 500, 'metric': 'rmse', 'max_depth': -1, 'max_bin': 31, 'learning_rate': 0.05, 'colsample_bytree': 0.9, 'boosting_type': 'gbdt'}\n",
    "algorithm.set_params(**best_params)\n",
    "\n",
    "model = src.lightgbm_model._train(X_train, y_train, algorithm)"
   ]
  },
  {
   "cell_type": "code",
   "execution_count": 19,
   "metadata": {},
   "outputs": [
    {
     "output_type": "stream",
     "name": "stderr",
     "text": [
      "2020-11-18 19:40:00,635  lightgbm: INFO: Fitting test ...\n",
      "2020-11-18 19:40:00,765  lightgbm: INFO: Saving submission to ./submission_lgbm.csv ...\n"
     ]
    }
   ],
   "source": [
    "prediction = src.lightgbm_model._fit(df_test.drop(['id', 'puntuacion'], axis=1), model)\n",
    "submission = pd.DataFrame(\n",
    "        {'id': df_test.id, 'puntuacion': list(map(lambda p: 10.0 if p >= 10.0 else (1.0 if p <= 0.0 else p), np.round(prediction, 0)))})\n",
    "src.lightgbm_model._generate_submission(submission, './submission_lgbm.csv')"
   ]
  },
  {
   "cell_type": "code",
   "execution_count": 20,
   "metadata": {},
   "outputs": [
    {
     "output_type": "stream",
     "name": "stdout",
     "text": [
      "100%|██████████████████████████████████████| 92.6k/92.6k [00:04<00:00, 22.8kB/s]\n",
      "Successfully submitted to Predicción de opiniones de libros - FCEN 2020"
     ]
    }
   ],
   "source": [
    "!kaggle competitions submit -c prediccion-de-opiniones-de-libros-fcen-2020 -f submission_lgbm.csv -m \"Lgbm con modelos de surprise\""
   ]
  },
  {
   "cell_type": "code",
   "execution_count": null,
   "metadata": {},
   "outputs": [],
   "source": []
  }
 ],
 "metadata": {
  "kernelspec": {
   "name": "python3",
   "display_name": "Python 3.8.6 64-bit",
   "metadata": {
    "interpreter": {
     "hash": "1ea00a3795e16b407956d4eb0aac7cb201c887dacb2013ac73b2810736caf374"
    }
   }
  },
  "language_info": {
   "codemirror_mode": {
    "name": "ipython",
    "version": 3
   },
   "file_extension": ".py",
   "mimetype": "text/x-python",
   "name": "python",
   "nbconvert_exporter": "python",
   "pygments_lexer": "ipython3",
   "version": "3.8.6-final"
  }
 },
 "nbformat": 4,
 "nbformat_minor": 2
}