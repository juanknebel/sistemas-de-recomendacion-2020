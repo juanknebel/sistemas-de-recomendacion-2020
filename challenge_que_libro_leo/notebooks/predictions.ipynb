{
 "cells": [
  {
   "cell_type": "code",
   "execution_count": 1,
   "metadata": {},
   "outputs": [],
   "source": [
    "import os\n",
    "import sys\n",
    "module_path = os.path.abspath(os.path.join('..'))\n",
    "if module_path not in sys.path:\n",
    "    sys.path.append(module_path)\n",
    "\n",
    "import pandas as pd\n",
    "import numpy as np\n",
    "from tqdm import tqdm, tqdm_notebook\n",
    "import math\n",
    "\n",
    "from sklearn.model_selection import train_test_split, KFold, GroupKFold\n",
    "from sklearn.metrics import mean_squared_error, r2_score\n",
    "import surprise as sp\n",
    "import lightgbm\n",
    "import xgboost\n",
    "from random import randint\n",
    "\n",
    "import src.surprise_model\n",
    "import src.lightgbm_model\n",
    "from src.utils import split_in, extended_describe"
   ]
  },
  {
   "cell_type": "markdown",
   "metadata": {},
   "source": [
    "## Predictions"
   ]
  },
  {
   "source": [
    "### LGB con modelos"
   ],
   "cell_type": "markdown",
   "metadata": {}
  },
  {
   "cell_type": "code",
   "execution_count": 4,
   "metadata": {},
   "outputs": [],
   "source": [
    "df_users = pd.read_csv('../data/01_raw/usuarios.csv')\n",
    "df_books = pd.read_csv('../data/01_raw/libros.csv')\n",
    "df_train = pd.read_csv('../data/02_intermediate/opiniones_train_modelos.csv')\n",
    "df_test = pd.read_csv('../data/02_intermediate/opiniones_test_modelos.csv')"
   ]
  },
  {
   "cell_type": "code",
   "execution_count": 9,
   "metadata": {},
   "outputs": [],
   "source": [
    "# Separo mi train & test\n",
    "X_train, X_test, y_train, y_test = train_test_split(\n",
    "    df_train.drop([\"puntuacion\"], axis=1),\n",
    "    df_train.puntuacion,\n",
    "    test_size=0.2,\n",
    "    random_state=0,\n",
    ")"
   ]
  },
  {
   "cell_type": "code",
   "execution_count": 14,
   "metadata": {},
   "outputs": [],
   "source": [
    "a = pd.read_csv(\"../data/03_primary/opiniones_train_final.csv\")\n",
    "b = pd.read_csv(\"../data/03_primary/opiniones_test_final.csv\")"
   ]
  },
  {
   "cell_type": "code",
   "execution_count": 169,
   "metadata": {},
   "outputs": [
    {
     "output_type": "stream",
     "name": "stdout",
     "text": [
      "100%|██████████████████████████████████████| 92.6k/92.6k [00:02<00:00, 33.5kB/s]\n",
      "Successfully submitted to Predicción de opiniones de libros - FCEN 2020"
     ]
    }
   ],
   "source": [
    "!kaggle competitions submit -c prediccion-de-opiniones-de-libros-fcen-2020 -f submission_lgbm.csv -m \"Lgbm con modelos de surprise\""
   ]
  },
  {
   "cell_type": "markdown",
   "metadata": {},
   "source": [
    "Resultado a mejorar en Accuracy in test\n",
    "\n",
    "Algoritmo | RMSE | Notas\n",
    "- | - | -\n",
    "SVD | 1.584 | NA\n",
    "KNN | 1.683 | NA\n",
    "LGBM | 1.555 | Con dos columnas de modelos de SVD y KNN\n",
    "LGBM | 1.674 | Con genero y anio\n",
    "LGBM | 1.323 | Con promedios -> esta overfitteando"
   ]
  },
  {
   "cell_type": "code",
   "execution_count": null,
   "metadata": {},
   "outputs": [],
   "source": []
  }
 ],
 "metadata": {
  "kernelspec": {
   "name": "python3",
   "display_name": "Python 3.8.6 64-bit",
   "metadata": {
    "interpreter": {
     "hash": "1ea00a3795e16b407956d4eb0aac7cb201c887dacb2013ac73b2810736caf374"
    }
   }
  },
  "language_info": {
   "codemirror_mode": {
    "name": "ipython",
    "version": 3
   },
   "file_extension": ".py",
   "mimetype": "text/x-python",
   "name": "python",
   "nbconvert_exporter": "python",
   "pygments_lexer": "ipython3",
   "version": "3.8.6-final"
  }
 },
 "nbformat": 4,
 "nbformat_minor": 2
}