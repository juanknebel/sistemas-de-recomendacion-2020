{
 "cells": [
  {
   "cell_type": "code",
   "execution_count": null,
   "metadata": {},
   "outputs": [],
   "source": [
    "import os\n",
    "import sys\n",
    "module_path = os.path.abspath(os.path.join('..'))\n",
    "if module_path not in sys.path:\n",
    "    sys.path.append(module_path)\n",
    "\n",
    "import pandas as pd\n",
    "import numpy as np\n",
    "from tqdm import tqdm, tqdm_notebook\n",
    "import math\n",
    "\n",
    "from sklearn.model_selection import train_test_split, KFold, GroupKFold\n",
    "from sklearn.metrics import mean_squared_error, r2_score\n",
    "from random import randint\n",
    "from src.utils import split_in, extended_describe"
   ]
  },
  {
   "cell_type": "code",
   "execution_count": null,
   "metadata": {},
   "outputs": [],
   "source": [
    "df_users = pd.read_csv('../data/01_raw/usuarios.csv')\n",
    "df_books = pd.read_csv('../data/01_raw/libros.csv')\n",
    "df_train = pd.read_csv('../data/01_raw/opiniones_train.csv')\n",
    "df_test = pd.read_csv('../data/01_raw/opiniones_test.csv')"
   ]
  },
  {
   "cell_type": "markdown",
   "metadata": {},
   "source": [
    "Cada dataset completo con la cantidad de opiniones"
   ]
  },
  {
   "cell_type": "code",
   "execution_count": null,
   "metadata": {},
   "outputs": [],
   "source": [
    "opinions_by_user = df_train.groupby('usuario').agg('count').reset_index()[['usuario', 'libro']].rename(columns={'libro': 'cantidad_opiniones'})\n",
    "opinions_by_user_test = df_test.groupby('usuario').agg('count').reset_index()[['usuario', 'libro']].rename(columns={'libro': 'cantidad_opiniones'})"
   ]
  },
  {
   "cell_type": "code",
   "execution_count": null,
   "metadata": {},
   "outputs": [],
   "source": [
    "df_train = df_train.merge(opinions_by_user, left_on='usuario', right_on='usuario')\n",
    "df_test = df_test.merge(opinions_by_user_test, left_on='usuario', right_on='usuario')"
   ]
  },
  {
   "cell_type": "code",
   "execution_count": null,
   "metadata": {},
   "outputs": [],
   "source": [
    "df_train.to_csv('../data/02_intermediate/opiniones_train_opiniones_1.csv', index=False)\n",
    "df_test.to_csv('../data/02_intermediate/opiniones_test_opiniones_1.csv', index=False)"
   ]
  },
  {
   "cell_type": "markdown",
   "metadata": {},
   "source": [
    "Pongo en test la cantidad de opiniones de train y completo los na con 0"
   ]
  },
  {
   "cell_type": "code",
   "execution_count": null,
   "metadata": {},
   "outputs": [],
   "source": [
    "df_train = pd.read_csv('../data/01_raw/opiniones_train.csv')\n",
    "df_test = pd.read_csv('../data/01_raw/opiniones_test.csv')"
   ]
  },
  {
   "cell_type": "code",
   "execution_count": null,
   "metadata": {},
   "outputs": [],
   "source": [
    "opinions_by_user = df_train.groupby('usuario').agg('count').reset_index()[['usuario', 'libro']].rename(columns={'libro': 'cantidad_opiniones'})"
   ]
  },
  {
   "cell_type": "code",
   "execution_count": null,
   "metadata": {},
   "outputs": [],
   "source": [
    "df_train = df_train.merge(opinions_by_user, left_on='usuario', right_on='usuario')\n",
    "df_test = df_test.merge(opinions_by_user, left_on='usuario', right_on='usuario')"
   ]
  },
  {
   "cell_type": "code",
   "execution_count": null,
   "metadata": {},
   "outputs": [],
   "source": [
    "df_test[df_test.cantidad_opiniones.isna()]"
   ]
  },
  {
   "cell_type": "code",
   "execution_count": null,
   "metadata": {},
   "outputs": [],
   "source": [
    "df_test.to_csv('../data/02_intermediate/opiniones_test_opiniones_2.csv', index=False)"
   ]
  },
  {
   "cell_type": "code",
   "execution_count": null,
   "metadata": {},
   "outputs": [],
   "source": [
    "a=pd.DataFrame({'a': [11,12], 'b': [21,22], 'c': [31,32]})\n",
    "x=pd.Series([41,42])\n",
    "\n",
    "b=pd.DataFrame({'a': [13,14], 'b': [23,24], 'c': [33,34]})\n",
    "y=pd.Series([43,44])"
   ]
  },
  {
   "cell_type": "code",
   "execution_count": null,
   "metadata": {},
   "outputs": [],
   "source": [
    "aa=pd.concat([a, pd.DataFrame(x)], axis=1)\n",
    "bb=pd.concat([b, pd.DataFrame(y)], axis=1)"
   ]
  },
  {
   "cell_type": "code",
   "execution_count": null,
   "metadata": {},
   "outputs": [],
   "source": [
    "aa"
   ]
  },
  {
   "cell_type": "code",
   "execution_count": null,
   "metadata": {},
   "outputs": [],
   "source": [
    "bb"
   ]
  },
  {
   "cell_type": "code",
   "execution_count": null,
   "metadata": {},
   "outputs": [],
   "source": [
    "pd.concat([a,b], axis=0)"
   ]
  },
  {
   "cell_type": "code",
   "execution_count": null,
   "metadata": {},
   "outputs": [],
   "source": [
    "pd.concat([x,y], axis=0)"
   ]
  },
  {
   "cell_type": "code",
   "execution_count": 1,
   "metadata": {},
   "outputs": [],
   "source": [
    "import os\n",
    "import sys\n",
    "module_path = os.path.abspath(os.path.join('..'))\n",
    "if module_path not in sys.path:\n",
    "    sys.path.append(module_path)\n",
    "import pandas as pd\n",
    "from src.light_gbm import PredictLightGbm\n",
    "from sklearn.model_selection import train_test_split\n",
    "df_train = pd.read_csv(\"../data/02_intermediate/opiniones_train_opiniones_1.csv\").head(200)\n",
    "df_test = pd.read_csv(\"../data/02_intermediate/opiniones_test_opiniones_2.csv\").head(200)\n",
    "df_train[\"libro\"] = df_train[\"libro\"].astype(\"category\")\n",
    "df_test[\"libro\"] = df_test[\"libro\"].astype(\"category\")"
   ]
  },
  {
   "cell_type": "code",
   "execution_count": 2,
   "metadata": {},
   "outputs": [],
   "source": [
    "X_train, X_test, y_train, y_test = train_test_split(df_train.drop(columns=[\"puntuacion\"], axis=1),df_train.puntuacion,test_size=0.2,random_state=0,)"
   ]
  },
  {
   "cell_type": "code",
   "execution_count": 3,
   "metadata": {},
   "outputs": [
    {
     "output_type": "stream",
     "name": "stderr",
     "text": [
      "2020-11-28 19:12:25,775  lightgbm: INFO: Entering tune ...\n",
      "Fitting 5 folds for each of 10 candidates, totalling 50 fits\n",
      "[Parallel(n_jobs=-1)]: Using backend LokyBackend with 12 concurrent workers.\n",
      "[Parallel(n_jobs=-1)]: Done  26 tasks      | elapsed:    1.4s\n",
      "[Parallel(n_jobs=-1)]: Done  50 out of  50 | elapsed:    1.6s finished\n",
      "2020-11-28 19:12:27,490  lightgbm: INFO: Best score tunning: -0.014364523625876258\n",
      "2020-11-28 19:12:27,490  lightgbm: INFO: Best params tunning: {'subsample': 0.9, 'reg_lambda': 20, 'reg_alpha': 0.1, 'random_state': 42, 'num_leaves': 4, 'n_estimators': 1000, 'min_sum_hessian_in_leaf': 0.0004, 'min_split_gain': 0.01, 'metric': 'rmse', 'max_depth': 20, 'max_bin': 20, 'learning_rate': 0.01, 'colsample_bytree': 0.7, 'boosting_type': 'dart'}\n",
      "2020-11-28 19:12:27,513  lightgbm: INFO: rmse in validation: 1.434807816185762\n",
      "2020-11-28 19:12:27,515  lightgbm: INFO: Entering train ...\n",
      "[LightGBM] [Warning] min_sum_hessian_in_leaf is set=0.0004, min_child_weight=0.001 will be ignored. Current value: min_sum_hessian_in_leaf=0.0004\n",
      "[LightGBM] [Warning] min_sum_hessian_in_leaf is set=0.0004, min_child_weight=0.001 will be ignored. Current value: min_sum_hessian_in_leaf=0.0004\n",
      "2020-11-28 19:12:27,624  lightgbm: INFO: Entering predict ...\n",
      "[7.06875 7.06875 7.06875 7.06875 7.06875 7.06875 7.06875 7.06875 7.06875\n",
      " 7.06875 7.06875 7.06875 7.06875 7.06875 7.06875 7.06875 7.06875 7.06875\n",
      " 7.06875 7.06875 7.06875 7.06875 7.06875 7.06875 7.06875 7.06875 7.06875\n",
      " 7.06875 7.06875 7.06875 7.06875 7.06875 7.06875 7.06875 7.06875 7.06875\n",
      " 7.06875 7.06875 7.06875 7.06875]\n"
     ]
    }
   ],
   "source": [
    "predictor = PredictLightGbm()\n",
    "predictor.tune(X_train, y_train)\n",
    "predictor.train(X_train, y_train)\n",
    "y_prediction = predictor.predict(X_test)\n",
    "print(y_prediction)\n"
   ]
  },
  {
   "cell_type": "code",
   "execution_count": 5,
   "metadata": {},
   "outputs": [
    {
     "output_type": "stream",
     "name": "stderr",
     "text": [
      "2020-11-28 19:00:43,115  lightgbm: INFO: Entering predict ...\n"
     ]
    }
   ],
   "source": [
    "#predictor.train(X_train, y_train)\n",
    "predictor.predict(X_train)"
   ]
  },
  {
   "cell_type": "code",
   "execution_count": null,
   "metadata": {},
   "outputs": [],
   "source": [
    "rmse = predictor.rmse(y_test, y_prediction)\n",
    "logger.info(f\"lightgbm_rmse in test: {rmse}\")\n",
    "\n",
    "all_x = pd.concat([X_train, X_test], axis=0)\n",
    "all_y = pd.concat([y_train, y_test], axis=0)\n",
    "predictor.train(all_x, all_y)"
   ]
  },
  {
   "cell_type": "code",
   "execution_count": 6,
   "metadata": {},
   "outputs": [],
   "source": [
    "import lightgbm"
   ]
  },
  {
   "cell_type": "code",
   "execution_count": 17,
   "metadata": {},
   "outputs": [],
   "source": [
    "def lgmb():\n",
    "    gbm = lightgbm.LGBMRegressor()\n",
    "    gbm.set_params(**predictor.best_params())\n",
    "    gbm.fit(X_train, y_train)\n",
    "    return gbm.predict(X_test)\n",
    "    "
   ]
  },
  {
   "cell_type": "code",
   "execution_count": 19,
   "metadata": {},
   "outputs": [
    {
     "output_type": "stream",
     "name": "stdout",
     "text": [
      "[LightGBM] [Warning] min_sum_hessian_in_leaf is set=0.001, min_child_weight=0.001 will be ignored. Current value: min_sum_hessian_in_leaf=0.001\n"
     ]
    },
    {
     "output_type": "execute_result",
     "data": {
      "text/plain": [
       "array([7.06875, 7.06875, 7.06875, 7.06875, 7.06875, 7.06875, 7.06875,\n",
       "       7.06875, 7.06875, 7.06875, 7.06875, 7.06875, 7.06875, 7.06875,\n",
       "       7.06875, 7.06875, 7.06875, 7.06875, 7.06875, 7.06875, 7.06875,\n",
       "       7.06875, 7.06875, 7.06875, 7.06875, 7.06875, 7.06875, 7.06875,\n",
       "       7.06875, 7.06875, 7.06875, 7.06875, 7.06875, 7.06875, 7.06875,\n",
       "       7.06875, 7.06875, 7.06875, 7.06875, 7.06875])"
      ]
     },
     "metadata": {},
     "execution_count": 19
    }
   ],
   "source": [
    "lgmb()"
   ]
  },
  {
   "cell_type": "code",
   "execution_count": 10,
   "metadata": {},
   "outputs": [
    {
     "output_type": "execute_result",
     "data": {
      "text/plain": [
       "134    216\n",
       "66     216\n",
       "26     216\n",
       "113    216\n",
       "168    216\n",
       "      ... \n",
       "67     216\n",
       "192    216\n",
       "117    216\n",
       "47     216\n",
       "172    216\n",
       "Name: usuario, Length: 160, dtype: int64"
      ]
     },
     "metadata": {},
     "execution_count": 10
    }
   ],
   "source": [
    "X_train.iloc[:,1]"
   ]
  },
  {
   "cell_type": "code",
   "execution_count": null,
   "metadata": {},
   "outputs": [],
   "source": []
  }
 ],
 "metadata": {
  "kernelspec": {
   "display_name": "Python 3",
   "language": "python",
   "name": "python3"
  },
  "language_info": {
   "codemirror_mode": {
    "name": "ipython",
    "version": 3
   },
   "file_extension": ".py",
   "mimetype": "text/x-python",
   "name": "python",
   "nbconvert_exporter": "python",
   "pygments_lexer": "ipython3",
   "version": "3.8.6-final"
  }
 },
 "nbformat": 4,
 "nbformat_minor": 2
}