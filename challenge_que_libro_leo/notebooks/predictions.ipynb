{
 "cells": [
  {
   "cell_type": "code",
   "execution_count": null,
   "metadata": {},
   "outputs": [],
   "source": [
    "import os\n",
    "import sys\n",
    "module_path = os.path.abspath(os.path.join('..'))\n",
    "if module_path not in sys.path:\n",
    "    sys.path.append(module_path)\n",
    "\n",
    "import pandas as pd\n",
    "import numpy as np\n",
    "from tqdm import tqdm, tqdm_notebook\n",
    "import math\n",
    "\n",
    "from sklearn.model_selection import train_test_split, KFold, GroupKFold\n",
    "from sklearn.metrics import mean_squared_error, r2_score\n",
    "from random import randint\n",
    "from src.utils import split_in, extended_describe"
   ]
  },
  {
   "cell_type": "code",
   "execution_count": null,
   "metadata": {},
   "outputs": [],
   "source": [
    "df_users = pd.read_csv('../data/01_raw/usuarios.csv')\n",
    "df_books = pd.read_csv('../data/01_raw/libros.csv')\n",
    "df_train = pd.read_csv('../data/01_raw/opiniones_train.csv')\n",
    "df_test = pd.read_csv('../data/01_raw/opiniones_test.csv')"
   ]
  },
  {
   "cell_type": "markdown",
   "metadata": {},
   "source": [
    "Cada dataset completo con la cantidad de opiniones"
   ]
  },
  {
   "cell_type": "code",
   "execution_count": null,
   "metadata": {},
   "outputs": [],
   "source": [
    "opinions_by_user = df_train.groupby('usuario').agg('count').reset_index()[['usuario', 'libro']].rename(columns={'libro': 'cantidad_opiniones'})\n",
    "opinions_by_user_test = df_test.groupby('usuario').agg('count').reset_index()[['usuario', 'libro']].rename(columns={'libro': 'cantidad_opiniones'})"
   ]
  },
  {
   "cell_type": "code",
   "execution_count": null,
   "metadata": {},
   "outputs": [],
   "source": [
    "df_train = df_train.merge(opinions_by_user, left_on='usuario', right_on='usuario')\n",
    "df_test = df_test.merge(opinions_by_user_test, left_on='usuario', right_on='usuario')"
   ]
  },
  {
   "cell_type": "code",
   "execution_count": null,
   "metadata": {},
   "outputs": [],
   "source": [
    "df_train.to_csv('../data/02_intermediate/opiniones_train_opiniones_1.csv', index=False)\n",
    "df_test.to_csv('../data/02_intermediate/opiniones_test_opiniones_1.csv', index=False)"
   ]
  },
  {
   "cell_type": "markdown",
   "metadata": {},
   "source": [
    "Pongo en test la cantidad de opiniones de train y completo los na con 0"
   ]
  },
  {
   "cell_type": "code",
   "execution_count": null,
   "metadata": {},
   "outputs": [],
   "source": [
    "df_train = pd.read_csv('../data/01_raw/opiniones_train.csv')\n",
    "df_test = pd.read_csv('../data/01_raw/opiniones_test.csv')"
   ]
  },
  {
   "cell_type": "code",
   "execution_count": null,
   "metadata": {},
   "outputs": [],
   "source": [
    "opinions_by_user = df_train.groupby('usuario').agg('count').reset_index()[['usuario', 'libro']].rename(columns={'libro': 'cantidad_opiniones'})"
   ]
  },
  {
   "cell_type": "code",
   "execution_count": null,
   "metadata": {},
   "outputs": [],
   "source": [
    "df_train = df_train.merge(opinions_by_user, left_on='usuario', right_on='usuario')\n",
    "df_test = df_test.merge(opinions_by_user, left_on='usuario', right_on='usuario')"
   ]
  },
  {
   "cell_type": "code",
   "execution_count": null,
   "metadata": {},
   "outputs": [],
   "source": [
    "df_test[df_test.cantidad_opiniones.isna()]"
   ]
  },
  {
   "cell_type": "code",
   "execution_count": null,
   "metadata": {},
   "outputs": [],
   "source": [
    "df_test.to_csv('../data/02_intermediate/opiniones_test_opiniones_2.csv', index=False)"
   ]
  },
  {
   "cell_type": "code",
   "execution_count": null,
   "metadata": {},
   "outputs": [],
   "source": [
    "a=pd.DataFrame({'a': [11,12], 'b': [21,22], 'c': [31,32]})\n",
    "x=pd.Series([41,42])\n",
    "\n",
    "b=pd.DataFrame({'a': [13,14], 'b': [23,24], 'c': [33,34]})\n",
    "y=pd.Series([43,44])"
   ]
  },
  {
   "cell_type": "code",
   "execution_count": null,
   "metadata": {},
   "outputs": [],
   "source": [
    "aa=pd.concat([a, pd.DataFrame(x)], axis=1)\n",
    "bb=pd.concat([b, pd.DataFrame(y)], axis=1)"
   ]
  },
  {
   "cell_type": "code",
   "execution_count": null,
   "metadata": {},
   "outputs": [],
   "source": [
    "aa"
   ]
  },
  {
   "cell_type": "code",
   "execution_count": null,
   "metadata": {},
   "outputs": [],
   "source": [
    "bb"
   ]
  },
  {
   "cell_type": "code",
   "execution_count": null,
   "metadata": {},
   "outputs": [],
   "source": [
    "pd.concat([a,b], axis=0)"
   ]
  },
  {
   "cell_type": "code",
   "execution_count": null,
   "metadata": {},
   "outputs": [],
   "source": [
    "pd.concat([x,y], axis=0)"
   ]
  },
  {
   "cell_type": "code",
   "execution_count": 1,
   "metadata": {},
   "outputs": [],
   "source": [
    "import os\n",
    "import sys\n",
    "module_path = os.path.abspath(os.path.join('..'))\n",
    "if module_path not in sys.path:\n",
    "    sys.path.append(module_path)\n",
    "import pandas as pd\n",
    "from src.lightgbm import PredictLightgbm\n",
    "import pickle\n",
    "from sklearn.model_selection import train_test_split\n",
    "df_train = pd.read_csv(\"../data/02_intermediate/opiniones_train_opiniones_1.csv\").head(200)\n",
    "df_test = pd.read_csv(\"../data/02_intermediate/opiniones_test_opiniones_2.csv\").head(200)\n",
    "df_train[\"libro\"] = df_train[\"libro\"].astype(\"category\")\n",
    "df_test[\"libro\"] = df_test[\"libro\"].astype(\"category\")"
   ]
  },
  {
   "cell_type": "code",
   "execution_count": 2,
   "metadata": {},
   "outputs": [],
   "source": [
    "model = pickle.load(open(\"../data/06_models/svd\", 'rb'))\n"
   ]
  },
  {
   "cell_type": "code",
   "execution_count": 18,
   "metadata": {},
   "outputs": [],
   "source": [
    "model.random_state"
   ]
  },
  {
   "cell_type": "code",
   "execution_count": 16,
   "metadata": {},
   "outputs": [
    {
     "output_type": "execute_result",
     "data": {
      "text/plain": [
       "0.42"
      ]
     },
     "metadata": {},
     "execution_count": 16
    }
   ],
   "source": [
    "model.reg_bu"
   ]
  },
  {
   "cell_type": "code",
   "execution_count": 14,
   "metadata": {},
   "outputs": [
    {
     "output_type": "execute_result",
     "data": {
      "text/plain": [
       "0.001"
      ]
     },
     "metadata": {},
     "execution_count": 14
    }
   ],
   "source": [
    "model.lr_qi"
   ]
  },
  {
   "cell_type": "code",
   "execution_count": null,
   "metadata": {},
   "outputs": [],
   "source": []
  }
 ],
 "metadata": {
  "kernelspec": {
   "display_name": "Python 3",
   "language": "python",
   "name": "python3"
  },
  "language_info": {
   "codemirror_mode": {
    "name": "ipython",
    "version": 3
   },
   "file_extension": ".py",
   "mimetype": "text/x-python",
   "name": "python",
   "nbconvert_exporter": "python",
   "pygments_lexer": "ipython3",
   "version": "3.8.6-final"
  }
 },
 "nbformat": 4,
 "nbformat_minor": 2
}