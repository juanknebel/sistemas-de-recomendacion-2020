{
 "metadata": {
  "language_info": {
   "codemirror_mode": {
    "name": "ipython",
    "version": 3
   },
   "file_extension": ".py",
   "mimetype": "text/x-python",
   "name": "python",
   "nbconvert_exporter": "python",
   "pygments_lexer": "ipython3",
   "version": "3.8.5-final"
  },
  "orig_nbformat": 2,
  "kernelspec": {
   "name": "python3",
   "display_name": "Python 3"
  }
 },
 "nbformat": 4,
 "nbformat_minor": 2,
 "cells": [
  {
   "cell_type": "code",
   "execution_count": 1,
   "metadata": {},
   "outputs": [],
   "source": [
    "import pandas as pd\n",
    "import numpy as np\n",
    "from tqdm import tqdm\n",
    "\n",
    "from sklearn.model_selection import train_test_split\n",
    "from sklearn.linear_model import LinearRegression\n",
    "from sklearn.metrics import mean_squared_error, r2_score\n",
    "import surprise as sp\n",
    "import lightgbm\n",
    "import xgboost\n",
    "from lightfm import LightFM\n",
    "from lightfm.evaluation import precision_at_k"
   ]
  },
  {
   "cell_type": "code",
   "execution_count": 2,
   "metadata": {},
   "outputs": [],
   "source": [
    "#df_actors = pd.read_csv('./data/movie_actors.csv')\n",
    "#df_countries = pd.read_csv('./data/movie_countries.csv')\n",
    "#df_directors = pd.read_csv('./data/movie_directors.csv')\n",
    "#df_genres = pd.read_csv('./data/movie_genres.csv')\n",
    "#df_imdb = pd.read_csv('./data/movie_imdb.csv')\n",
    "#df_locations = pd.read_csv('./data/movie_locations.csv')\n",
    "#df_tags = pd.read_csv('./data/movie_tags.csv')\n",
    "#df_rottem = pd.read_csv('./data/movies_rt.csv')\n",
    "#df_movies = pd.read_csv('./data/movies.csv')\n",
    "\n",
    "df_ratings = pd.read_csv('./data/ratings_train.csv')\n",
    "df_test = pd.read_csv('./data/ratings_test.csv')"
   ]
  },
  {
   "cell_type": "code",
   "execution_count": 3,
   "metadata": {},
   "outputs": [],
   "source": [
    "# Separo mi train & test\n",
    "X_train, X_test, y_train, y_test =\\\n",
    "    train_test_split(df_ratings.drop(['rating', 'ID'], axis=1), df_ratings.rating, test_size=0.3, random_state=0)"
   ]
  },
  {
   "source": [
    "### Regresión lineal"
   ],
   "cell_type": "markdown",
   "metadata": {}
  },
  {
   "cell_type": "code",
   "execution_count": 28,
   "metadata": {},
   "outputs": [
    {
     "output_type": "stream",
     "name": "stdout",
     "text": [
      "Linear regression:  0.755803270622583\n"
     ]
    }
   ],
   "source": [
    "model = LinearRegression()\n",
    "model.fit(X_train, y_train)\n",
    "y_predicted = model.predict(X_test)\n",
    "print(\"Linear regression: \", mean_squared_error(y_test, y_predicted))"
   ]
  },
  {
   "cell_type": "code",
   "execution_count": null,
   "metadata": {},
   "outputs": [],
   "source": [
    "model.fit(df_ratings.drop(['rating', 'ID'], axis=1), df_ratings.rating)\n",
    "prediction = model.predict(df_test.drop(['rating', 'ID', 'rating'], axis=1))\n",
    "submission = pd.DataFrame(\n",
    "        {'ID': df_test.ID, 'rating': np.around(prediction, 2)})\n",
    "submission.to_csv('./submission_linear.csv', index=False)"
   ]
  },
  {
   "cell_type": "code",
   "execution_count": null,
   "metadata": {},
   "outputs": [],
   "source": [
    "!kaggle competitions submit -c recomendacion-de-peliculas-fcen-2020 -f submission_linear.csv -m \"Con similaridad\""
   ]
  },
  {
   "source": [
    "### Light GBM"
   ],
   "cell_type": "markdown",
   "metadata": {}
  },
  {
   "cell_type": "code",
   "execution_count": null,
   "metadata": {},
   "outputs": [],
   "source": [
    "lgbm = lightgbm.LGBMRegressor()\n",
    "model = lgbm.fit(X_train, y_train)\n",
    "y_predicted = model.predict(X_test)\n",
    "print(\"Light GBM: \", mean_squared_error(y_test, y_predicted))"
   ]
  },
  {
   "cell_type": "code",
   "execution_count": null,
   "metadata": {},
   "outputs": [],
   "source": [
    "model.fit(df_ratings.drop(['rating', 'ID'], axis=1), df_ratings.rating)\n",
    "prediction = model.predict(df_test.drop(['rating', 'ID', 'rating'], axis=1))\n",
    "submission = pd.DataFrame(\n",
    "        {'ID': df_test.ID, 'rating': np.around(prediction, 2)})\n",
    "submission.to_csv('./submission_lgbm.csv', index=False)"
   ]
  },
  {
   "cell_type": "code",
   "execution_count": null,
   "metadata": {},
   "outputs": [],
   "source": [
    "!kaggle competitions submit -c recomendacion-de-peliculas-fcen-2020 -f submission_lgbm.csv -m \"Con similaridad lgbm\""
   ]
  },
  {
   "source": [
    "### XGBoost"
   ],
   "cell_type": "markdown",
   "metadata": {}
  },
  {
   "cell_type": "code",
   "execution_count": null,
   "metadata": {},
   "outputs": [],
   "source": [
    "xgb = xgboost.XGBRegressor()\n",
    "model = xgb.fit(X_train, y_train)\n",
    "y_predicted = model.predict(X_test)\n",
    "print(\"XGBoost: \", mean_squared_error(y_test, y_predicted))"
   ]
  },
  {
   "cell_type": "code",
   "execution_count": null,
   "metadata": {},
   "outputs": [],
   "source": [
    "model.fit(df_ratings.drop(['rating', 'ID'], axis=1), df_ratings.rating)\n",
    "prediction = model.predict(df_test.drop(['rating', 'ID', 'rating'], axis=1))\n",
    "submission = pd.DataFrame(\n",
    "        {'ID': df_test.ID, 'rating': np.around(prediction, 2)})\n",
    "submission.to_csv('./submission_xgb.csv', index=False)"
   ]
  },
  {
   "cell_type": "code",
   "execution_count": null,
   "metadata": {},
   "outputs": [],
   "source": [
    "!kaggle competitions submit -c recomendacion-de-peliculas-fcen-2020 -f submission_xgb.csv -m \"Con similaridad xgb\""
   ]
  },
  {
   "source": [
    "### Light FM"
   ],
   "cell_type": "markdown",
   "metadata": {}
  },
  {
   "cell_type": "code",
   "execution_count": 6,
   "metadata": {},
   "outputs": [],
   "source": [
    "from lightfm.datasets import fetch_movielens\n",
    "data = fetch_movielens(min_rating=5.0)"
   ]
  },
  {
   "cell_type": "code",
   "execution_count": 13,
   "metadata": {},
   "outputs": [
    {
     "output_type": "execute_result",
     "data": {
      "text/plain": [
       "dict_keys(['train', 'test', 'item_features', 'item_feature_labels', 'item_labels'])"
      ]
     },
     "metadata": {},
     "execution_count": 13
    }
   ],
   "source": [
    "data.keys()"
   ]
  },
  {
   "cell_type": "code",
   "execution_count": 16,
   "metadata": {},
   "outputs": [
    {
     "output_type": "execute_result",
     "data": {
      "text/plain": [
       "<1682x1682 sparse matrix of type '<class 'numpy.float32'>'\n",
       "\twith 1682 stored elements in Compressed Sparse Row format>"
      ]
     },
     "metadata": {},
     "execution_count": 16
    }
   ],
   "source": [
    "data['item_features']"
   ]
  },
  {
   "cell_type": "code",
   "execution_count": null,
   "metadata": {},
   "outputs": [],
   "source": [
    "# Instantiate and train the model\n",
    "model = LightFM(loss='warp')\n",
    "model.fit(data['train'], epochs=30, num_threads=2)\n",
    "\n",
    "# Evaluate the trained model\n",
    "test_precision = precision_at_k(model, data['test'], k=5).mean()"
   ]
  },
  {
   "source": [
    "### Surprise lib"
   ],
   "cell_type": "markdown",
   "metadata": {}
  },
  {
   "source": [
    "#### SVD"
   ],
   "cell_type": "markdown",
   "metadata": {}
  },
  {
   "cell_type": "code",
   "execution_count": 25,
   "metadata": {},
   "outputs": [
    {
     "output_type": "stream",
     "name": "stdout",
     "text": [
      "0.6147880689256694\n{'n_epochs': 50, 'lr_all': 0.007, 'reg_all': 0.1}\n"
     ]
    }
   ],
   "source": [
    "reader = sp.reader.Reader(rating_scale=(0.5 ,5))\n",
    "X_train_surprise = pd.concat([X_train, pd.DataFrame(y_train)], axis=1)\n",
    "data_train = sp.dataset.Dataset.load_from_df(X_train_surprise[['userID', 'movieID', 'rating']], reader)\n",
    "\n",
    "param_grid = {'n_epochs': [5, 10, 50, 70], 'lr_all': [0.001, 0.002, 0.005, 0.007],\n",
    "              'reg_all': [0.1, 0.2, 0.4, 0.6]}\n",
    "gs = sp.model_selection.search.RandomizedSearchCV(sp.prediction_algorithms.SVD, param_grid, measures=['rmse', 'mse'], cv=5, n_jobs=-1)\n",
    "gs.fit(data_train)\n",
    "# best RMSE score\n",
    "print(gs.best_score['mse'])\n",
    "# combination of parameters that gave the best RMSE score\n",
    "print(gs.best_params['mse'])"
   ]
  },
  {
   "cell_type": "code",
   "execution_count": 28,
   "metadata": {},
   "outputs": [
    {
     "output_type": "stream",
     "name": "stdout",
     "text": [
      "MSE: 0.6089\nSurprise lib:  0.6089434856685295\n"
     ]
    }
   ],
   "source": [
    "reader = sp.reader.Reader(rating_scale=(0.5 ,5))\n",
    "data = sp.dataset.Dataset.load_from_df(df_ratings[['userID', 'movieID', 'rating']], reader)\n",
    "trainset, testset = sp.model_selection.train_test_split(data, test_size=0.30, random_state=0)\n",
    "\n",
    "algo = sp.prediction_algorithms.SVD(n_epochs=50, lr_all=0.007, reg_all=0.1, random_state=0)\n",
    "algo.fit(trainset)\n",
    "y_predictions = algo.test(testset)\n",
    "print(\"Surprise lib: \", sp.accuracy.mse(y_predictions))"
   ]
  },
  {
   "cell_type": "code",
   "execution_count": 29,
   "metadata": {},
   "outputs": [],
   "source": [
    "algo.fit(data.build_full_trainset())\n",
    "prediction = df_test[['ID', 'userID', 'movieID']]\n",
    "prediction['rating']  = list(map(lambda x, y: algo.predict(x, y).est, prediction.userID.values, prediction.movieID))\n",
    "submission = prediction[['ID', 'rating']]\n",
    "submission.to_csv('./submission_surprise_svd.csv', index=False)"
   ]
  },
  {
   "cell_type": "code",
   "execution_count": 30,
   "metadata": {},
   "outputs": [
    {
     "output_type": "stream",
     "name": "stdout",
     "text": [
      "100%|███████████████████████████████████████| 2.06M/2.06M [00:10<00:00, 211kB/s]\n",
      "Successfully submitted to Recomendación de Películas - FCEN 2020"
     ]
    }
   ],
   "source": [
    "!kaggle competitions submit -c recomendacion-de-peliculas-fcen-2020 -f submission_surprise_svd.csv -m \"Con libreria surprise SVD with tune\""
   ]
  },
  {
   "cell_type": "code",
   "execution_count": 20,
   "metadata": {},
   "outputs": [
    {
     "output_type": "execute_result",
     "data": {
      "text/plain": [
       "[Prediction(uid=29202, iid=1608, r_ui=None, est=2.456659316208836, details={'was_impossible': False}),\n",
       " Prediction(uid=32283, iid=1485, r_ui=None, est=3.3188930224552307, details={'was_impossible': False}),\n",
       " Prediction(uid=32283, iid=30, r_ui=None, est=3.940630196148756, details={'was_impossible': False}),\n",
       " Prediction(uid=32283, iid=1545, r_ui=None, est=4.031069120138712, details={'was_impossible': False}),\n",
       " Prediction(uid=51198, iid=1258, r_ui=None, est=4.096084760390009, details={'was_impossible': False})]"
      ]
     },
     "metadata": {},
     "execution_count": 20
    }
   ],
   "source": [
    "list(map(lambda x, y: algo.predict(x, y), prediction.head().userID, prediction.head().movieID))"
   ]
  },
  {
   "source": [
    "#### KNN"
   ],
   "cell_type": "markdown",
   "metadata": {}
  },
  {
   "cell_type": "code",
   "execution_count": 61,
   "metadata": {},
   "outputs": [
    {
     "output_type": "stream",
     "name": "stdout",
     "text": [
      "Computing the cosine similarity matrix...\n",
      "Done computing similarity matrix.\n",
      "MSE: 0.7759\n",
      "Surprise lib:  0.7759103178921984\n"
     ]
    }
   ],
   "source": [
    "reader = sp.reader.Reader(rating_scale=(0.5 ,5))\n",
    "data = sp.dataset.Dataset.load_from_df(df_ratings[['userID', 'movieID', 'rating']], reader)\n",
    "trainset, testset = sp.model_selection.train_test_split(data, test_size=0.30, random_state=0)\n",
    "sim_options = {\n",
    "    'name': 'cosine',\n",
    "    'user_based': True #False\n",
    "}\n",
    "algo = sp.prediction_algorithms.knns.KNNBasic(k=40, min_k=1, sim_options=sim_options)\n",
    "algo.fit(trainset)\n",
    "y_predictions = algo.test(testset)\n",
    "print(\"Surprise lib: \", sp.accuracy.mse(y_predictions))"
   ]
  },
  {
   "cell_type": "code",
   "execution_count": 62,
   "metadata": {},
   "outputs": [
    {
     "output_type": "stream",
     "name": "stdout",
     "text": [
      "Computing the cosine similarity matrix...\n",
      "Done computing similarity matrix.\n"
     ]
    }
   ],
   "source": [
    "algo.fit(data.build_full_trainset())\n",
    "prediction = df_test[['ID', 'userID', 'movieID']]\n",
    "prediction['rating']  = list(map(lambda x, y: algo.predict(x, y).est, prediction.userID.values, prediction.movieID))\n",
    "submission = prediction[['ID', 'rating']]\n",
    "submission.to_csv('./submission_surprise_knn.csv', index=False)"
   ]
  },
  {
   "cell_type": "code",
   "execution_count": 63,
   "metadata": {},
   "outputs": [
    {
     "output_type": "stream",
     "name": "stdout",
     "text": [
      "100%|███████████████████████████████████████| 2.06M/2.06M [00:05<00:00, 408kB/s]\n",
      "Successfully submitted to Recomendación de Películas - FCEN 2020"
     ]
    }
   ],
   "source": [
    "!kaggle competitions submit -c recomendacion-de-peliculas-fcen-2020 -f submission_surprise_knn.csv -m \"Con libreria surprise KNN\""
   ]
  },
  {
   "cell_type": "code",
   "execution_count": null,
   "metadata": {},
   "outputs": [],
   "source": []
  }
 ]
}