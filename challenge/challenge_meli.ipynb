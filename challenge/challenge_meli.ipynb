{
 "cells": [
  {
   "source": [
    "# Challenge MeLi"
   ],
   "cell_type": "markdown",
   "metadata": {}
  },
  {
   "cell_type": "code",
   "execution_count": 1,
   "metadata": {},
   "outputs": [],
   "source": [
    "import pandas as pd\n",
    "from tqdm import tqdm, tqdm_notebook, tqdm_gui, tqdm_pandas\n",
    "import numpy as np\n",
    "import time"
   ]
  },
  {
   "cell_type": "code",
   "execution_count": 2,
   "metadata": {},
   "outputs": [],
   "source": [
    "df_train = pd.read_csv('./data/03_primary/train_dataset.csv')"
   ]
  },
  {
   "cell_type": "code",
   "execution_count": 3,
   "metadata": {},
   "outputs": [
    {
     "output_type": "execute_result",
     "data": {
      "text/plain": [
       "   user_id          event_info               event_timestamp event_type  \\\n",
       "0        0             1786148  2019-10-19T11:25:42.444-0400       view   \n",
       "1        0             1786148  2019-10-19T11:25:57.487-0400       view   \n",
       "2        0  RELOGIO SMARTWATCH  2019-10-19T11:26:07.063-0400     search   \n",
       "3        0             1615991  2019-10-19T11:27:26.879-0400       view   \n",
       "4        0             1615991  2019-10-19T11:28:36.558-0400       view   \n",
       "\n",
       "   item_bought  \n",
       "0      1748830  \n",
       "1      1748830  \n",
       "2      1748830  \n",
       "3      1748830  \n",
       "4      1748830  "
      ],
      "text/html": "<div>\n<style scoped>\n    .dataframe tbody tr th:only-of-type {\n        vertical-align: middle;\n    }\n\n    .dataframe tbody tr th {\n        vertical-align: top;\n    }\n\n    .dataframe thead th {\n        text-align: right;\n    }\n</style>\n<table border=\"1\" class=\"dataframe\">\n  <thead>\n    <tr style=\"text-align: right;\">\n      <th></th>\n      <th>user_id</th>\n      <th>event_info</th>\n      <th>event_timestamp</th>\n      <th>event_type</th>\n      <th>item_bought</th>\n    </tr>\n  </thead>\n  <tbody>\n    <tr>\n      <th>0</th>\n      <td>0</td>\n      <td>1786148</td>\n      <td>2019-10-19T11:25:42.444-0400</td>\n      <td>view</td>\n      <td>1748830</td>\n    </tr>\n    <tr>\n      <th>1</th>\n      <td>0</td>\n      <td>1786148</td>\n      <td>2019-10-19T11:25:57.487-0400</td>\n      <td>view</td>\n      <td>1748830</td>\n    </tr>\n    <tr>\n      <th>2</th>\n      <td>0</td>\n      <td>RELOGIO SMARTWATCH</td>\n      <td>2019-10-19T11:26:07.063-0400</td>\n      <td>search</td>\n      <td>1748830</td>\n    </tr>\n    <tr>\n      <th>3</th>\n      <td>0</td>\n      <td>1615991</td>\n      <td>2019-10-19T11:27:26.879-0400</td>\n      <td>view</td>\n      <td>1748830</td>\n    </tr>\n    <tr>\n      <th>4</th>\n      <td>0</td>\n      <td>1615991</td>\n      <td>2019-10-19T11:28:36.558-0400</td>\n      <td>view</td>\n      <td>1748830</td>\n    </tr>\n  </tbody>\n</table>\n</div>"
     },
     "metadata": {},
     "execution_count": 3
    }
   ],
   "source": [
    "df_train.head()"
   ]
  },
  {
   "cell_type": "code",
   "execution_count": null,
   "metadata": {},
   "outputs": [],
   "source": []
  }
 ],
 "metadata": {
  "kernelspec": {
   "display_name": "Python 3",
   "language": "python3",
   "name": "python3"
  },
  "language_info": {
   "codemirror_mode": {
    "name": "ipython",
    "version": 3
   },
   "file_extension": ".py",
   "mimetype": "text/x-python",
   "name": "python",
   "nbconvert_exporter": "python",
   "pygments_lexer": "ipython3",
   "version": "3.8.5-final"
  }
 },
 "nbformat": 4,
 "nbformat_minor": 4
}