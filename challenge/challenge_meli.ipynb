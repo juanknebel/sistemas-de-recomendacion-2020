{
 "cells": [
  {
   "source": [
    "# Challenge MeLi"
   ],
   "cell_type": "markdown",
   "metadata": {}
  },
  {
   "cell_type": "code",
   "execution_count": 1,
   "metadata": {},
   "outputs": [],
   "source": [
    "import pandas as pd\n",
    "from tqdm import tqdm, tqdm_notebook\n",
    "import numpy as np\n",
    "import time\n",
    "import math\n",
    "from random import sample\n",
    "import gc\n",
    "\n",
    "\n",
    "#del variable\n",
    "#gc.collect()"
   ]
  },
  {
   "cell_type": "code",
   "execution_count": 7,
   "metadata": {},
   "outputs": [],
   "source": [
    "#df_train = pd.read_csv('./data/03_primary/train_dataset.csv')\n",
    "#df_test = pd.read_csv('./data/03_primary/test_dataset.csv')\n",
    "dtype ={\"item_id\": \"int\", \"title\": \"str\", \"domain_id\": \"str\", \"price\": \"float\", \"category_id\": \"str\", \"condition\": \"str\", \"site\": \"str\"}\n",
    "df_item = pd.read_csv('./data/02_intermediate/item_data.csv', dtype=dtype)\n",
    "#df_item.set_index('item_id')\n",
    "df_train = pd.read_csv('./data/02_intermediate/train_reduce_1.csv')"
   ]
  },
  {
   "cell_type": "code",
   "execution_count": 10,
   "metadata": {},
   "outputs": [
    {
     "output_type": "execute_result",
     "data": {
      "text/plain": [
       "                                                     title          domain_id  \\\n",
       "count                                              2102277            2102277   \n",
       "unique                                             1925296               7894   \n",
       "top      Xiaomi Redmi Note 7 (48 Mpx) Dual Sim 64 Gb Sp...  MLB-CARS_AND_VANS   \n",
       "freq                                                   143              41420   \n",
       "missing                                                  0                  0   \n",
       "\n",
       "        category_id condition     site  \n",
       "count       2102277   2102277  2102277  \n",
       "unique        11493         3        2  \n",
       "top         MLB1744       new      MLB  \n",
       "freq          41204   1866333  1723826  \n",
       "missing           0         0        0  "
      ],
      "text/html": "<div>\n<style scoped>\n    .dataframe tbody tr th:only-of-type {\n        vertical-align: middle;\n    }\n\n    .dataframe tbody tr th {\n        vertical-align: top;\n    }\n\n    .dataframe thead th {\n        text-align: right;\n    }\n</style>\n<table border=\"1\" class=\"dataframe\">\n  <thead>\n    <tr style=\"text-align: right;\">\n      <th></th>\n      <th>title</th>\n      <th>domain_id</th>\n      <th>category_id</th>\n      <th>condition</th>\n      <th>site</th>\n    </tr>\n  </thead>\n  <tbody>\n    <tr>\n      <th>count</th>\n      <td>2102277</td>\n      <td>2102277</td>\n      <td>2102277</td>\n      <td>2102277</td>\n      <td>2102277</td>\n    </tr>\n    <tr>\n      <th>unique</th>\n      <td>1925296</td>\n      <td>7894</td>\n      <td>11493</td>\n      <td>3</td>\n      <td>2</td>\n    </tr>\n    <tr>\n      <th>top</th>\n      <td>Xiaomi Redmi Note 7 (48 Mpx) Dual Sim 64 Gb Sp...</td>\n      <td>MLB-CARS_AND_VANS</td>\n      <td>MLB1744</td>\n      <td>new</td>\n      <td>MLB</td>\n    </tr>\n    <tr>\n      <th>freq</th>\n      <td>143</td>\n      <td>41420</td>\n      <td>41204</td>\n      <td>1866333</td>\n      <td>1723826</td>\n    </tr>\n    <tr>\n      <th>missing</th>\n      <td>0</td>\n      <td>0</td>\n      <td>0</td>\n      <td>0</td>\n      <td>0</td>\n    </tr>\n  </tbody>\n</table>\n</div>"
     },
     "metadata": {},
     "execution_count": 10
    }
   ],
   "source": [
    "from pandas_utils import extended_describe\n",
    "extended_describe(df_item, 2, ['O'])"
   ]
  },
  {
   "cell_type": "code",
   "execution_count": 11,
   "metadata": {},
   "outputs": [
    {
     "output_type": "execute_result",
     "data": {
      "text/plain": [
       "            item_id         price\n",
       "count    2102277.00  2.102277e+06\n",
       "mean     1051138.00  1.348849e+05\n",
       "std       606875.24  2.299328e+07\n",
       "min            0.00 -1.000000e+00\n",
       "25%       525569.00  6.990000e+01\n",
       "50%      1051138.00  1.749000e+02\n",
       "75%      1576707.00  5.729400e+02\n",
       "max      2102276.00  1.000000e+10\n",
       "missing        0.00  0.000000e+00"
      ],
      "text/html": "<div>\n<style scoped>\n    .dataframe tbody tr th:only-of-type {\n        vertical-align: middle;\n    }\n\n    .dataframe tbody tr th {\n        vertical-align: top;\n    }\n\n    .dataframe thead th {\n        text-align: right;\n    }\n</style>\n<table border=\"1\" class=\"dataframe\">\n  <thead>\n    <tr style=\"text-align: right;\">\n      <th></th>\n      <th>item_id</th>\n      <th>price</th>\n    </tr>\n  </thead>\n  <tbody>\n    <tr>\n      <th>count</th>\n      <td>2102277.00</td>\n      <td>2.102277e+06</td>\n    </tr>\n    <tr>\n      <th>mean</th>\n      <td>1051138.00</td>\n      <td>1.348849e+05</td>\n    </tr>\n    <tr>\n      <th>std</th>\n      <td>606875.24</td>\n      <td>2.299328e+07</td>\n    </tr>\n    <tr>\n      <th>min</th>\n      <td>0.00</td>\n      <td>-1.000000e+00</td>\n    </tr>\n    <tr>\n      <th>25%</th>\n      <td>525569.00</td>\n      <td>6.990000e+01</td>\n    </tr>\n    <tr>\n      <th>50%</th>\n      <td>1051138.00</td>\n      <td>1.749000e+02</td>\n    </tr>\n    <tr>\n      <th>75%</th>\n      <td>1576707.00</td>\n      <td>5.729400e+02</td>\n    </tr>\n    <tr>\n      <th>max</th>\n      <td>2102276.00</td>\n      <td>1.000000e+10</td>\n    </tr>\n    <tr>\n      <th>missing</th>\n      <td>0.00</td>\n      <td>0.000000e+00</td>\n    </tr>\n  </tbody>\n</table>\n</div>"
     },
     "metadata": {},
     "execution_count": 11
    }
   ],
   "source": [
    "extended_describe(df_item, 2)"
   ]
  },
  {
   "cell_type": "code",
   "execution_count": 12,
   "metadata": {},
   "outputs": [],
   "source": [
    "list_of_domains = df_item.domain_id.unique().tolist()\n",
    "list_of_domains.sort()"
   ]
  },
  {
   "cell_type": "code",
   "execution_count": 13,
   "metadata": {},
   "outputs": [
    {
     "output_type": "display_data",
     "data": {
      "text/plain": "HBox(children=(HTML(value=''), FloatProgress(value=0.0, max=5000.0), HTML(value='')))",
      "application/vnd.jupyter.widget-view+json": {
       "version_major": 2,
       "version_minor": 0,
       "model_id": "ee79a841b6bc44b08c232b0054d2763a"
      }
     },
     "metadata": {}
    },
    {
     "output_type": "stream",
     "name": "stdout",
     "text": [
      "\n"
     ]
    }
   ],
   "source": [
    "items_view_by_session = {}\n",
    "for name, group in tqdm_notebook(df_train.groupby('session_id')):\n",
    "    list_of_items = group[group.event_type == \"view\"].event_info.unique().tolist()\n",
    "    items_view_by_session[name] = list_of_items"
   ]
  },
  {
   "cell_type": "code",
   "execution_count": 14,
   "metadata": {},
   "outputs": [],
   "source": [
    "temp = df_train[['session_id', 'event_info', 'event_type']]\n",
    "temp = temp[df_train.event_type == 'view']\n",
    "temp.drop(columns='event_type', inplace=True)\n",
    "temp.event_info = pd.to_numeric(temp.event_info)"
   ]
  },
  {
   "cell_type": "code",
   "execution_count": 15,
   "metadata": {},
   "outputs": [],
   "source": [
    "temp_merge = temp.merge(df_item[['item_id', 'domain_id']], left_on='event_info', right_on='item_id')[['session_id', 'domain_id']]\n"
   ]
  },
  {
   "cell_type": "code",
   "execution_count": 16,
   "metadata": {},
   "outputs": [
    {
     "output_type": "display_data",
     "data": {
      "text/plain": "HBox(children=(HTML(value=''), FloatProgress(value=0.0, max=4655.0), HTML(value='')))",
      "application/vnd.jupyter.widget-view+json": {
       "version_major": 2,
       "version_minor": 0,
       "model_id": "a2714693dd6b4dd08c266c405e83c897"
      }
     },
     "metadata": {}
    },
    {
     "output_type": "stream",
     "name": "stdout",
     "text": [
      "\n"
     ]
    }
   ],
   "source": [
    "items_view_by_session = {}\n",
    "for name, group in tqdm_notebook(temp_merge.groupby('session_id')):\n",
    "    items_view_by_session[name] = group.domain_id.unique().tolist()"
   ]
  },
  {
   "cell_type": "code",
   "execution_count": null,
   "metadata": {
    "tags": []
   },
   "outputs": [],
   "source": [
    "set_of_values = set()\n",
    "for elem in items_view_by_session.values():\n",
    "    for el in elem:\n",
    "        set_of_values.add(el)"
   ]
  },
  {
   "cell_type": "code",
   "execution_count": null,
   "metadata": {},
   "outputs": [],
   "source": [
    "len(set_of_values)"
   ]
  },
  {
   "cell_type": "code",
   "execution_count": null,
   "metadata": {},
   "outputs": [],
   "source": [
    "list(items_view_by_session.values())[0]"
   ]
  },
  {
   "source": [
    "### Base line tomando algun elemento de la lista que vio"
   ],
   "cell_type": "markdown",
   "metadata": {}
  },
  {
   "cell_type": "code",
   "execution_count": 66,
   "metadata": {},
   "outputs": [],
   "source": [
    "def dcg(predicted, effective_item):\n",
    "    dcg = 0\n",
    "    #map(lambda p, e: relevance(p, e, items), predicted, effective)\n",
    "    for pos, (item, domain) in enumerate(predicted.items()):\n",
    "        dcg += relevance((item, domain), effective_item) / (math.log10(2 + pos))\n",
    "    return dcg\n",
    "\n",
    "\n",
    "def relevance(predicted_item, effective_item):\n",
    "    if predicted_item[0] == effective_item[0]:\n",
    "        return 12\n",
    "    elif (predicted_item[1] == effective_item[1]):\n",
    "        return 1\n",
    "    else:\n",
    "        return 0\n",
    "\n",
    "\n",
    "def idcg(number_of_items=10):\n",
    "    # 12/math.log10(1 + 1) + 1/math.log10(1 + 2) + 1/math.log10(1 + 3) .... \n",
    "    first = 12 / math.log10(1 + 1)\n",
    "    all_except_first = sum(map(lambda position: 1 / math.log10(1 + position), range(2, number_of_items + 1)))\n",
    "    return first + all_except_first\n",
    "\n",
    "\n",
    "def ndcg(predicted, effective_item, items):\n",
    "    predicted_dict = {}\n",
    "    for one_item in predicted:\n",
    "        predicted_dict[one_item] = items[items.item_id == one_item].domain_id.iloc[0]\n",
    "    effective_item = (\n",
    "        effective_item, items[items.item_id == effective_item].domain_id.iloc[0]\n",
    "    )\n",
    "    return (dcg(predicted_dict, effective_item) / idcg())\n"
   ]
  },
  {
   "cell_type": "code",
   "execution_count": 17,
   "metadata": {},
   "outputs": [],
   "source": [
    "def split_train_test_ids(list_of_ids, percentage=70):\n",
    "    total = len(list_of_ids) * (percentage / 100)\n",
    "    session_id_train = sample(list_of_ids, int(total))\n",
    "    session_id_test = list(filter(lambda id: id not in session_id_train, list_of_ids))\n",
    "    return session_id_train, session_id_test"
   ]
  },
  {
   "cell_type": "code",
   "execution_count": 18,
   "metadata": {},
   "outputs": [],
   "source": [
    "train_id, test_id = split_train_test_ids(df_train.session_id.unique().tolist(), 70)"
   ]
  },
  {
   "cell_type": "code",
   "execution_count": 19,
   "metadata": {},
   "outputs": [],
   "source": [
    "train = df_train[df_train.session_id.isin(train_id)]"
   ]
  },
  {
   "cell_type": "code",
   "execution_count": 74,
   "metadata": {},
   "outputs": [
    {
     "output_type": "display_data",
     "data": {
      "text/plain": "HBox(children=(HTML(value=''), FloatProgress(value=0.0, max=3500.0), HTML(value='')))",
      "application/vnd.jupyter.widget-view+json": {
       "version_major": 2,
       "version_minor": 0,
       "model_id": "4bc2dfbf71af4c24a265c373723cff7f"
      }
     },
     "metadata": {}
    },
    {
     "output_type": "stream",
     "name": "stdout",
     "text": [
      "\n"
     ]
    }
   ],
   "source": [
    "# genero un diccionario por session con otro diccionario que tiene el id del item visto y la cantidad de veces que lo vio. Ordenado desde el último visto como primero del diccionario\n",
    "# {session_id: {item_id: how_many_times_saw}, ....}\n",
    "recommended_by_session = {}\n",
    "for id, group in tqdm_notebook(train.groupby('session_id')):\n",
    "    session_records = train[train.session_id==id]\n",
    "    last_items_view = group[group.event_type == 'view'].event_info.tolist()\n",
    "    last_items_view.reverse()\n",
    "    last_items_view = list(map(lambda item: int(item), last_items_view))\n",
    "    last_items_view_quantity = {}\n",
    "    for an_item in last_items_view:\n",
    "        if an_item in last_items_view_quantity:\n",
    "            last_items_view_quantity[an_item] += 1\n",
    "        else:\n",
    "            last_items_view_quantity[an_item] = 1\n",
    "    \n",
    "    recommended_by_session[id] = last_items_view_quantity\n"
   ]
  },
  {
   "cell_type": "code",
   "execution_count": 75,
   "metadata": {},
   "outputs": [
    {
     "output_type": "execute_result",
     "data": {
      "text/plain": [
       "[1122777, 1994650, 2082574, 1214201, 1940290, 823109, 1352620, 1838988]"
      ]
     },
     "metadata": {},
     "execution_count": 75
    }
   ],
   "source": [
    "# como los primeros predictos tomo la lista de items vistos sin repetir\n",
    "items = recommended_by_session[4]\n",
    "predicted = list(items.keys())[:10]\n",
    "predicted"
   ]
  },
  {
   "cell_type": "code",
   "execution_count": 23,
   "metadata": {},
   "outputs": [
    {
     "output_type": "execute_result",
     "data": {
      "text/plain": [
       "1122777"
      ]
     },
     "metadata": {},
     "execution_count": 23
    }
   ],
   "source": [
    "# ordeno por cantidad de vistas\n",
    "sorted_items = {k: v for k, v in sorted(items.items(), key=lambda item: item[1], reverse=True)}\n",
    "most_viewed = list(sorted_items.keys())[0]\n",
    "most_viewed"
   ]
  },
  {
   "cell_type": "code",
   "execution_count": 24,
   "metadata": {},
   "outputs": [
    {
     "output_type": "execute_result",
     "data": {
      "text/plain": [
       "'MLM-CELLPHONE_COVERS'"
      ]
     },
     "metadata": {},
     "execution_count": 24
    }
   ],
   "source": [
    "# categoria mas vista\n",
    "most_viewed_by_domain = df_item[df_item.item_id == most_viewed].domain_id.iloc[0]\n",
    "most_viewed_by_domain"
   ]
  },
  {
   "cell_type": "code",
   "execution_count": 25,
   "metadata": {},
   "outputs": [
    {
     "output_type": "execute_result",
     "data": {
      "text/plain": [
       "[1122777, 1994650, 2082574, 1214201, 1940290, 823109, 1352620, 1838988, 6, 13]"
      ]
     },
     "metadata": {},
     "execution_count": 25
    }
   ],
   "source": [
    "# elijo items al azar que pertenzcan a la categoria mas vista\n",
    "predicted += df_item[df_item.domain_id == most_viewed_by_domain][:10 - len(predicted)].index.tolist()\n",
    "predicted"
   ]
  },
  {
   "cell_type": "code",
   "execution_count": 73,
   "metadata": {},
   "outputs": [
    {
     "output_type": "execute_result",
     "data": {
      "text/plain": [
       "0.793469054614242"
      ]
     },
     "metadata": {},
     "execution_count": 73
    }
   ],
   "source": [
    "ndcg(predicted, 1122777, df_item)"
   ]
  },
  {
   "cell_type": "code",
   "execution_count": 104,
   "metadata": {},
   "outputs": [
    {
     "output_type": "execute_result",
     "data": {
      "text/plain": [
       "1725842"
      ]
     },
     "metadata": {},
     "execution_count": 104
    }
   ],
   "source": [
    "df_item.loc[randint(0, len(df_item) -1 )].item_id"
   ]
  },
  {
   "cell_type": "code",
   "execution_count": 78,
   "metadata": {},
   "outputs": [
    {
     "output_type": "execute_result",
     "data": {
      "text/plain": [
       "   item_id                                              title  \\\n",
       "0   111260  Casa Sola En Venta Con Gran Patio Solo Pago De...   \n",
       "1   871377  Resident Evil Origins Collection Nintendo Swit...   \n",
       "2   490232                      Falda De Imitación Piel Negra   \n",
       "3  1150706       Powercolor Red Devil Radeon Rx 580 8gb Gddr5   \n",
       "4   934912  Laptop Hp Nx6320 Core Duo Con Puerto Db9 Windo...   \n",
       "\n",
       "                        domain_id       price category_id condition site  \n",
       "0  MLM-INDIVIDUAL_HOUSES_FOR_SALE  1150000.00   MLM170527       new  MLM  \n",
       "1                 MLM-VIDEO_GAMES     1392.83   MLM151595       new  MLM  \n",
       "2                      MLM-SKIRTS      350.00     MLM7697       new  MLM  \n",
       "3              MLM-GRAPHICS_CARDS     3200.00     MLM9761      used  MLM  \n",
       "4                   MLM-NOTEBOOKS     1599.00     MLM1652      used  MLM  "
      ],
      "text/html": "<div>\n<style scoped>\n    .dataframe tbody tr th:only-of-type {\n        vertical-align: middle;\n    }\n\n    .dataframe tbody tr th {\n        vertical-align: top;\n    }\n\n    .dataframe thead th {\n        text-align: right;\n    }\n</style>\n<table border=\"1\" class=\"dataframe\">\n  <thead>\n    <tr style=\"text-align: right;\">\n      <th></th>\n      <th>item_id</th>\n      <th>title</th>\n      <th>domain_id</th>\n      <th>price</th>\n      <th>category_id</th>\n      <th>condition</th>\n      <th>site</th>\n    </tr>\n  </thead>\n  <tbody>\n    <tr>\n      <th>0</th>\n      <td>111260</td>\n      <td>Casa Sola En Venta Con Gran Patio Solo Pago De...</td>\n      <td>MLM-INDIVIDUAL_HOUSES_FOR_SALE</td>\n      <td>1150000.00</td>\n      <td>MLM170527</td>\n      <td>new</td>\n      <td>MLM</td>\n    </tr>\n    <tr>\n      <th>1</th>\n      <td>871377</td>\n      <td>Resident Evil Origins Collection Nintendo Swit...</td>\n      <td>MLM-VIDEO_GAMES</td>\n      <td>1392.83</td>\n      <td>MLM151595</td>\n      <td>new</td>\n      <td>MLM</td>\n    </tr>\n    <tr>\n      <th>2</th>\n      <td>490232</td>\n      <td>Falda De Imitación Piel Negra</td>\n      <td>MLM-SKIRTS</td>\n      <td>350.00</td>\n      <td>MLM7697</td>\n      <td>new</td>\n      <td>MLM</td>\n    </tr>\n    <tr>\n      <th>3</th>\n      <td>1150706</td>\n      <td>Powercolor Red Devil Radeon Rx 580 8gb Gddr5</td>\n      <td>MLM-GRAPHICS_CARDS</td>\n      <td>3200.00</td>\n      <td>MLM9761</td>\n      <td>used</td>\n      <td>MLM</td>\n    </tr>\n    <tr>\n      <th>4</th>\n      <td>934912</td>\n      <td>Laptop Hp Nx6320 Core Duo Con Puerto Db9 Windo...</td>\n      <td>MLM-NOTEBOOKS</td>\n      <td>1599.00</td>\n      <td>MLM1652</td>\n      <td>used</td>\n      <td>MLM</td>\n    </tr>\n  </tbody>\n</table>\n</div>"
     },
     "metadata": {},
     "execution_count": 78
    }
   ],
   "source": [
    "df_item.head()"
   ]
  },
  {
   "cell_type": "code",
   "execution_count": 126,
   "metadata": {},
   "outputs": [],
   "source": [
    "with open('./data/07_model_output/submission_baseline_1.csv') as file:\n",
    "    for pos, line in enumerate(file.read().splitlines()):\n",
    "        split_line = line.split(',')\n",
    "        if len(split_line) != 10:\n",
    "            print(pos, len(split_line))"
   ]
  },
  {
   "cell_type": "code",
   "execution_count": 118,
   "metadata": {},
   "outputs": [],
   "source": [
    "for i in range(0):\n",
    "    print(i)"
   ]
  },
  {
   "cell_type": "code",
   "execution_count": 111,
   "metadata": {},
   "outputs": [
    {
     "output_type": "execute_result",
     "data": {
      "text/plain": [
       "['1615991',\n",
       " '1786148',\n",
       " '1661244',\n",
       " '515041',\n",
       " '1516428',\n",
       " '1336169',\n",
       " '113161',\n",
       " '1576116',\n",
       " '357137',\n",
       " '1131224\\n']"
      ]
     },
     "metadata": {},
     "execution_count": 111
    }
   ],
   "source": [
    "b.split(',')"
   ]
  },
  {
   "cell_type": "code",
   "execution_count": 122,
   "metadata": {},
   "outputs": [
    {
     "output_type": "execute_result",
     "data": {
      "text/plain": [
       "[1, 2]"
      ]
     },
     "metadata": {},
     "execution_count": 122
    }
   ],
   "source": [
    "b=[1]\n",
    "b.append(2)\n",
    "b"
   ]
  },
  {
   "cell_type": "code",
   "execution_count": null,
   "metadata": {},
   "outputs": [],
   "source": []
  }
 ],
 "metadata": {
  "kernelspec": {
   "display_name": "Python 3",
   "language": "python3",
   "name": "python3"
  },
  "language_info": {
   "codemirror_mode": {
    "name": "ipython",
    "version": 3
   },
   "file_extension": ".py",
   "mimetype": "text/x-python",
   "name": "python",
   "nbconvert_exporter": "python",
   "pygments_lexer": "ipython3",
   "version": "3.8.5-final"
  }
 },
 "nbformat": 4,
 "nbformat_minor": 4
}