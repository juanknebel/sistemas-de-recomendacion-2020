{
 "metadata": {
  "language_info": {
   "codemirror_mode": {
    "name": "ipython",
    "version": 3
   },
   "file_extension": ".py",
   "mimetype": "text/x-python",
   "name": "python",
   "nbconvert_exporter": "python",
   "pygments_lexer": "ipython3",
   "version": "3.8.5-final"
  },
  "orig_nbformat": 2,
  "kernelspec": {
   "name": "python3",
   "display_name": "Python 3"
  }
 },
 "nbformat": 4,
 "nbformat_minor": 2,
 "cells": [
  {
   "cell_type": "code",
   "execution_count": 1,
   "metadata": {},
   "outputs": [],
   "source": [
    "import pandas as pd"
   ]
  },
  {
   "cell_type": "code",
   "execution_count": 2,
   "metadata": {},
   "outputs": [],
   "source": [
    "js_train = pd.read_json('./data/train_dataset.jl', lines=True)"
   ]
  },
  {
   "cell_type": "code",
   "execution_count": 18,
   "metadata": {},
   "outputs": [],
   "source": [
    "events = js_train.head(1)"
   ]
  },
  {
   "cell_type": "code",
   "execution_count": 19,
   "metadata": {},
   "outputs": [],
   "source": [
    "item_bought = events.item_bought\n",
    "events = events.user_history[0]"
   ]
  },
  {
   "cell_type": "code",
   "execution_count": 20,
   "metadata": {},
   "outputs": [
    {
     "output_type": "execute_result",
     "data": {
      "text/plain": [
       "    user_id                                             events\n",
       "0         1  {'event_info': 1786148, 'event_timestamp': '20...\n",
       "1         1  {'event_info': 1786148, 'event_timestamp': '20...\n",
       "2         1  {'event_info': 'RELOGIO SMARTWATCH', 'event_ti...\n",
       "3         1  {'event_info': 1615991, 'event_timestamp': '20...\n",
       "4         1  {'event_info': 1615991, 'event_timestamp': '20...\n",
       "5         1  {'event_info': 1615991, 'event_timestamp': '20...\n",
       "6         1  {'event_info': 1615991, 'event_timestamp': '20...\n",
       "7         1  {'event_info': 1615991, 'event_timestamp': '20...\n",
       "8         1  {'event_info': 1615991, 'event_timestamp': '20...\n",
       "9         1  {'event_info': 1615991, 'event_timestamp': '20...\n",
       "10        1  {'event_info': 1615991, 'event_timestamp': '20...\n",
       "11        1  {'event_info': 1615991, 'event_timestamp': '20...\n",
       "12        1  {'event_info': 1615991, 'event_timestamp': '20...\n",
       "13        1  {'event_info': 1615991, 'event_timestamp': '20...\n",
       "14        1  {'event_info': 1615991, 'event_timestamp': '20...\n",
       "15        1  {'event_info': 1615991, 'event_timestamp': '20...\n",
       "16        1  {'event_info': 1615991, 'event_timestamp': '20...\n",
       "17        1  {'event_info': 1615991, 'event_timestamp': '20...\n",
       "18        1  {'event_info': 1615991, 'event_timestamp': '20..."
      ],
      "text/html": "<div>\n<style scoped>\n    .dataframe tbody tr th:only-of-type {\n        vertical-align: middle;\n    }\n\n    .dataframe tbody tr th {\n        vertical-align: top;\n    }\n\n    .dataframe thead th {\n        text-align: right;\n    }\n</style>\n<table border=\"1\" class=\"dataframe\">\n  <thead>\n    <tr style=\"text-align: right;\">\n      <th></th>\n      <th>user_id</th>\n      <th>events</th>\n    </tr>\n  </thead>\n  <tbody>\n    <tr>\n      <th>0</th>\n      <td>1</td>\n      <td>{'event_info': 1786148, 'event_timestamp': '20...</td>\n    </tr>\n    <tr>\n      <th>1</th>\n      <td>1</td>\n      <td>{'event_info': 1786148, 'event_timestamp': '20...</td>\n    </tr>\n    <tr>\n      <th>2</th>\n      <td>1</td>\n      <td>{'event_info': 'RELOGIO SMARTWATCH', 'event_ti...</td>\n    </tr>\n    <tr>\n      <th>3</th>\n      <td>1</td>\n      <td>{'event_info': 1615991, 'event_timestamp': '20...</td>\n    </tr>\n    <tr>\n      <th>4</th>\n      <td>1</td>\n      <td>{'event_info': 1615991, 'event_timestamp': '20...</td>\n    </tr>\n    <tr>\n      <th>5</th>\n      <td>1</td>\n      <td>{'event_info': 1615991, 'event_timestamp': '20...</td>\n    </tr>\n    <tr>\n      <th>6</th>\n      <td>1</td>\n      <td>{'event_info': 1615991, 'event_timestamp': '20...</td>\n    </tr>\n    <tr>\n      <th>7</th>\n      <td>1</td>\n      <td>{'event_info': 1615991, 'event_timestamp': '20...</td>\n    </tr>\n    <tr>\n      <th>8</th>\n      <td>1</td>\n      <td>{'event_info': 1615991, 'event_timestamp': '20...</td>\n    </tr>\n    <tr>\n      <th>9</th>\n      <td>1</td>\n      <td>{'event_info': 1615991, 'event_timestamp': '20...</td>\n    </tr>\n    <tr>\n      <th>10</th>\n      <td>1</td>\n      <td>{'event_info': 1615991, 'event_timestamp': '20...</td>\n    </tr>\n    <tr>\n      <th>11</th>\n      <td>1</td>\n      <td>{'event_info': 1615991, 'event_timestamp': '20...</td>\n    </tr>\n    <tr>\n      <th>12</th>\n      <td>1</td>\n      <td>{'event_info': 1615991, 'event_timestamp': '20...</td>\n    </tr>\n    <tr>\n      <th>13</th>\n      <td>1</td>\n      <td>{'event_info': 1615991, 'event_timestamp': '20...</td>\n    </tr>\n    <tr>\n      <th>14</th>\n      <td>1</td>\n      <td>{'event_info': 1615991, 'event_timestamp': '20...</td>\n    </tr>\n    <tr>\n      <th>15</th>\n      <td>1</td>\n      <td>{'event_info': 1615991, 'event_timestamp': '20...</td>\n    </tr>\n    <tr>\n      <th>16</th>\n      <td>1</td>\n      <td>{'event_info': 1615991, 'event_timestamp': '20...</td>\n    </tr>\n    <tr>\n      <th>17</th>\n      <td>1</td>\n      <td>{'event_info': 1615991, 'event_timestamp': '20...</td>\n    </tr>\n    <tr>\n      <th>18</th>\n      <td>1</td>\n      <td>{'event_info': 1615991, 'event_timestamp': '20...</td>\n    </tr>\n  </tbody>\n</table>\n</div>"
     },
     "metadata": {},
     "execution_count": 20
    }
   ],
   "source": [
    "pd.DataFrame({'user_id': [1]*len(events), 'events': events})"
   ]
  },
  {
   "cell_type": "code",
   "execution_count": 21,
   "metadata": {},
   "outputs": [
    {
     "output_type": "execute_result",
     "data": {
      "text/plain": [
       "[{'event_info': 1786148,\n",
       "  'event_timestamp': '2019-10-19T11:25:42.444-0400',\n",
       "  'event_type': 'view'},\n",
       " {'event_info': 1786148,\n",
       "  'event_timestamp': '2019-10-19T11:25:57.487-0400',\n",
       "  'event_type': 'view'},\n",
       " {'event_info': 'RELOGIO SMARTWATCH',\n",
       "  'event_timestamp': '2019-10-19T11:26:07.063-0400',\n",
       "  'event_type': 'search'},\n",
       " {'event_info': 1615991,\n",
       "  'event_timestamp': '2019-10-19T11:27:26.879-0400',\n",
       "  'event_type': 'view'},\n",
       " {'event_info': 1615991,\n",
       "  'event_timestamp': '2019-10-19T11:28:36.558-0400',\n",
       "  'event_type': 'view'},\n",
       " {'event_info': 1615991,\n",
       "  'event_timestamp': '2019-10-19T11:28:40.827-0400',\n",
       "  'event_type': 'view'},\n",
       " {'event_info': 1615991,\n",
       "  'event_timestamp': '2019-10-19T11:30:42.089-0400',\n",
       "  'event_type': 'view'},\n",
       " {'event_info': 1615991,\n",
       "  'event_timestamp': '2019-10-19T21:51:29.622-0400',\n",
       "  'event_type': 'view'},\n",
       " {'event_info': 1615991,\n",
       "  'event_timestamp': '2019-10-19T21:52:09.281-0400',\n",
       "  'event_type': 'view'},\n",
       " {'event_info': 1615991,\n",
       "  'event_timestamp': '2019-10-19T21:52:41.863-0400',\n",
       "  'event_type': 'view'},\n",
       " {'event_info': 1615991,\n",
       "  'event_timestamp': '2019-10-19T21:54:16.119-0400',\n",
       "  'event_type': 'view'},\n",
       " {'event_info': 1615991,\n",
       "  'event_timestamp': '2019-10-19T21:54:40.629-0400',\n",
       "  'event_type': 'view'},\n",
       " {'event_info': 1615991,\n",
       "  'event_timestamp': '2019-10-19T21:54:57.329-0400',\n",
       "  'event_type': 'view'},\n",
       " {'event_info': 1615991,\n",
       "  'event_timestamp': '2019-10-19T22:00:04.577-0400',\n",
       "  'event_type': 'view'},\n",
       " {'event_info': 1615991,\n",
       "  'event_timestamp': '2019-10-20T10:36:47.525-0400',\n",
       "  'event_type': 'view'},\n",
       " {'event_info': 1615991,\n",
       "  'event_timestamp': '2019-10-20T10:37:23.202-0400',\n",
       "  'event_type': 'view'},\n",
       " {'event_info': 1615991,\n",
       "  'event_timestamp': '2019-10-20T10:37:47.699-0400',\n",
       "  'event_type': 'view'},\n",
       " {'event_info': 1615991,\n",
       "  'event_timestamp': '2019-10-20T19:28:14.619-0400',\n",
       "  'event_type': 'view'},\n",
       " {'event_info': 1615991,\n",
       "  'event_timestamp': '2019-10-20T19:28:41.646-0400',\n",
       "  'event_type': 'view'}]"
      ]
     },
     "metadata": {},
     "execution_count": 21
    }
   ],
   "source": [
    "events"
   ]
  },
  {
   "cell_type": "code",
   "execution_count": null,
   "metadata": {},
   "outputs": [],
   "source": []
  }
 ]
}