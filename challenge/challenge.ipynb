{
 "metadata": {
  "language_info": {
   "codemirror_mode": {
    "name": "ipython",
    "version": 3
   },
   "file_extension": ".py",
   "mimetype": "text/x-python",
   "name": "python",
   "nbconvert_exporter": "python",
   "pygments_lexer": "ipython3",
   "version": "3.8.5-final"
  },
  "orig_nbformat": 2,
  "kernelspec": {
   "name": "python3",
   "display_name": "Python 3"
  }
 },
 "nbformat": 4,
 "nbformat_minor": 2,
 "cells": [
  {
   "cell_type": "code",
   "execution_count": 2,
   "metadata": {},
   "outputs": [],
   "source": [
    "import pandas as pd\n",
    "from tqdm import tqdm"
   ]
  },
  {
   "cell_type": "code",
   "execution_count": 3,
   "metadata": {},
   "outputs": [],
   "source": [
    "js_train = pd.read_json('./data/train_dataset.jl', lines=True)"
   ]
  },
  {
   "cell_type": "code",
   "execution_count": 14,
   "metadata": {},
   "outputs": [
    {
     "output_type": "execute_result",
     "data": {
      "text/plain": [
       "   user_id                                       user_history  item_bought\n",
       "0        0  [{'event_info': 1786148, 'event_timestamp': '2...      1748830\n",
       "1        1  [{'event_info': 643652, 'event_timestamp': '20...       228737\n",
       "2        2  [{'event_info': 248595, 'event_timestamp': '20...      1909110\n",
       "3        3  [{'event_info': 'RADIOBOSS', 'event_timestamp'...      1197370\n",
       "4        4  [{'event_info': 'AMAZFIT BIP', 'event_timestam...      2049207"
      ],
      "text/html": "<div>\n<style scoped>\n    .dataframe tbody tr th:only-of-type {\n        vertical-align: middle;\n    }\n\n    .dataframe tbody tr th {\n        vertical-align: top;\n    }\n\n    .dataframe thead th {\n        text-align: right;\n    }\n</style>\n<table border=\"1\" class=\"dataframe\">\n  <thead>\n    <tr style=\"text-align: right;\">\n      <th></th>\n      <th>user_id</th>\n      <th>user_history</th>\n      <th>item_bought</th>\n    </tr>\n  </thead>\n  <tbody>\n    <tr>\n      <th>0</th>\n      <td>0</td>\n      <td>[{'event_info': 1786148, 'event_timestamp': '2...</td>\n      <td>1748830</td>\n    </tr>\n    <tr>\n      <th>1</th>\n      <td>1</td>\n      <td>[{'event_info': 643652, 'event_timestamp': '20...</td>\n      <td>228737</td>\n    </tr>\n    <tr>\n      <th>2</th>\n      <td>2</td>\n      <td>[{'event_info': 248595, 'event_timestamp': '20...</td>\n      <td>1909110</td>\n    </tr>\n    <tr>\n      <th>3</th>\n      <td>3</td>\n      <td>[{'event_info': 'RADIOBOSS', 'event_timestamp'...</td>\n      <td>1197370</td>\n    </tr>\n    <tr>\n      <th>4</th>\n      <td>4</td>\n      <td>[{'event_info': 'AMAZFIT BIP', 'event_timestam...</td>\n      <td>2049207</td>\n    </tr>\n  </tbody>\n</table>\n</div>"
     },
     "metadata": {},
     "execution_count": 14
    }
   ],
   "source": [
    "df = js_train.head()\n",
    "df.insert(0, 'user_id', range(len(df)))\n",
    "df"
   ]
  },
  {
   "cell_type": "code",
   "execution_count": 1,
   "metadata": {},
   "outputs": [
    {
     "output_type": "error",
     "ename": "NameError",
     "evalue": "name 'pd' is not defined",
     "traceback": [
      "\u001b[0;31m---------------------------------------------------------------------------\u001b[0m",
      "\u001b[0;31mNameError\u001b[0m                                 Traceback (most recent call last)",
      "\u001b[0;32m<ipython-input-1-7148c8b0ea0b>\u001b[0m in \u001b[0;36m<module>\u001b[0;34m\u001b[0m\n\u001b[0;32m----> 1\u001b[0;31m \u001b[0mdf_event_user\u001b[0m \u001b[0;34m=\u001b[0m \u001b[0mpd\u001b[0m\u001b[0;34m.\u001b[0m\u001b[0mDataFrame\u001b[0m\u001b[0;34m(\u001b[0m\u001b[0;34m)\u001b[0m\u001b[0;34m\u001b[0m\u001b[0;34m\u001b[0m\u001b[0m\n\u001b[0m\u001b[1;32m      2\u001b[0m \u001b[0;32mfor\u001b[0m \u001b[0mrow\u001b[0m \u001b[0;32min\u001b[0m \u001b[0mtqdm\u001b[0m\u001b[0;34m(\u001b[0m\u001b[0mdf\u001b[0m\u001b[0;34m.\u001b[0m\u001b[0mhead\u001b[0m\u001b[0;34m(\u001b[0m\u001b[0;34m)\u001b[0m\u001b[0;34m.\u001b[0m\u001b[0mitertuples\u001b[0m\u001b[0;34m(\u001b[0m\u001b[0;34m)\u001b[0m\u001b[0;34m)\u001b[0m\u001b[0;34m:\u001b[0m\u001b[0;34m\u001b[0m\u001b[0;34m\u001b[0m\u001b[0m\n\u001b[1;32m      3\u001b[0m     \u001b[0mdf_temp\u001b[0m \u001b[0;34m=\u001b[0m \u001b[0mpd\u001b[0m\u001b[0;34m.\u001b[0m\u001b[0mDataFrame\u001b[0m\u001b[0;34m(\u001b[0m\u001b[0mrow\u001b[0m\u001b[0;34m.\u001b[0m\u001b[0muser_history\u001b[0m\u001b[0;34m)\u001b[0m\u001b[0;34m\u001b[0m\u001b[0;34m\u001b[0m\u001b[0m\n\u001b[1;32m      4\u001b[0m     \u001b[0mdf_temp\u001b[0m\u001b[0;34m.\u001b[0m\u001b[0minsert\u001b[0m\u001b[0;34m(\u001b[0m\u001b[0;36m0\u001b[0m\u001b[0;34m,\u001b[0m \u001b[0;34m'user_id'\u001b[0m\u001b[0;34m,\u001b[0m \u001b[0;34m[\u001b[0m\u001b[0mrow\u001b[0m\u001b[0;34m.\u001b[0m\u001b[0muser_id\u001b[0m\u001b[0;34m]\u001b[0m\u001b[0;34m*\u001b[0m\u001b[0mlen\u001b[0m\u001b[0;34m(\u001b[0m\u001b[0mdf_temp\u001b[0m\u001b[0;34m)\u001b[0m\u001b[0;34m)\u001b[0m\u001b[0;34m\u001b[0m\u001b[0;34m\u001b[0m\u001b[0m\n\u001b[1;32m      5\u001b[0m     \u001b[0mdf_event_user\u001b[0m \u001b[0;34m=\u001b[0m \u001b[0mdf_event_user\u001b[0m\u001b[0;34m.\u001b[0m\u001b[0mappend\u001b[0m\u001b[0;34m(\u001b[0m\u001b[0mdf_temp\u001b[0m\u001b[0;34m)\u001b[0m\u001b[0;34m\u001b[0m\u001b[0;34m\u001b[0m\u001b[0m\n",
      "\u001b[0;31mNameError\u001b[0m: name 'pd' is not defined"
     ]
    }
   ],
   "source": [
    "df_event_user = pd.DataFrame()\n",
    "for row in tqdm(df.head().itertuples()):\n",
    "    df_temp = pd.DataFrame(row.user_history)\n",
    "    df_temp.insert(0, 'user_id', [row.user_id]*len(df_temp))\n",
    "    df_event_user = df_event_user.append(df_temp)"
   ]
  },
  {
   "cell_type": "code",
   "execution_count": 36,
   "metadata": {},
   "outputs": [
    {
     "output_type": "execute_result",
     "data": {
      "text/plain": [
       "    user_id          event_info               event_timestamp event_type\n",
       "0         0             1786148  2019-10-19T11:25:42.444-0400       view\n",
       "1         0             1786148  2019-10-19T11:25:57.487-0400       view\n",
       "2         0  RELOGIO SMARTWATCH  2019-10-19T11:26:07.063-0400     search\n",
       "3         0             1615991  2019-10-19T11:27:26.879-0400       view\n",
       "4         0             1615991  2019-10-19T11:28:36.558-0400       view\n",
       "..      ...                 ...                           ...        ...\n",
       "64        4         FONE XIAOMI  2019-09-30T14:48:57.112-0400     search\n",
       "65        4               86082  2019-09-30T14:48:59.704-0400       view\n",
       "66        4               86082  2019-09-30T14:53:01.640-0400       view\n",
       "67        4         FONE XIAOMI  2019-09-30T14:53:01.883-0400     search\n",
       "68        4         GALAXY BUDS  2019-09-30T14:53:03.520-0400     search\n",
       "\n",
       "[116 rows x 4 columns]"
      ],
      "text/html": "<div>\n<style scoped>\n    .dataframe tbody tr th:only-of-type {\n        vertical-align: middle;\n    }\n\n    .dataframe tbody tr th {\n        vertical-align: top;\n    }\n\n    .dataframe thead th {\n        text-align: right;\n    }\n</style>\n<table border=\"1\" class=\"dataframe\">\n  <thead>\n    <tr style=\"text-align: right;\">\n      <th></th>\n      <th>user_id</th>\n      <th>event_info</th>\n      <th>event_timestamp</th>\n      <th>event_type</th>\n    </tr>\n  </thead>\n  <tbody>\n    <tr>\n      <th>0</th>\n      <td>0</td>\n      <td>1786148</td>\n      <td>2019-10-19T11:25:42.444-0400</td>\n      <td>view</td>\n    </tr>\n    <tr>\n      <th>1</th>\n      <td>0</td>\n      <td>1786148</td>\n      <td>2019-10-19T11:25:57.487-0400</td>\n      <td>view</td>\n    </tr>\n    <tr>\n      <th>2</th>\n      <td>0</td>\n      <td>RELOGIO SMARTWATCH</td>\n      <td>2019-10-19T11:26:07.063-0400</td>\n      <td>search</td>\n    </tr>\n    <tr>\n      <th>3</th>\n      <td>0</td>\n      <td>1615991</td>\n      <td>2019-10-19T11:27:26.879-0400</td>\n      <td>view</td>\n    </tr>\n    <tr>\n      <th>4</th>\n      <td>0</td>\n      <td>1615991</td>\n      <td>2019-10-19T11:28:36.558-0400</td>\n      <td>view</td>\n    </tr>\n    <tr>\n      <th>...</th>\n      <td>...</td>\n      <td>...</td>\n      <td>...</td>\n      <td>...</td>\n    </tr>\n    <tr>\n      <th>64</th>\n      <td>4</td>\n      <td>FONE XIAOMI</td>\n      <td>2019-09-30T14:48:57.112-0400</td>\n      <td>search</td>\n    </tr>\n    <tr>\n      <th>65</th>\n      <td>4</td>\n      <td>86082</td>\n      <td>2019-09-30T14:48:59.704-0400</td>\n      <td>view</td>\n    </tr>\n    <tr>\n      <th>66</th>\n      <td>4</td>\n      <td>86082</td>\n      <td>2019-09-30T14:53:01.640-0400</td>\n      <td>view</td>\n    </tr>\n    <tr>\n      <th>67</th>\n      <td>4</td>\n      <td>FONE XIAOMI</td>\n      <td>2019-09-30T14:53:01.883-0400</td>\n      <td>search</td>\n    </tr>\n    <tr>\n      <th>68</th>\n      <td>4</td>\n      <td>GALAXY BUDS</td>\n      <td>2019-09-30T14:53:03.520-0400</td>\n      <td>search</td>\n    </tr>\n  </tbody>\n</table>\n<p>116 rows × 4 columns</p>\n</div>"
     },
     "metadata": {},
     "execution_count": 36
    }
   ],
   "source": [
    "df_event_user"
   ]
  },
  {
   "cell_type": "code",
   "execution_count": 95,
   "metadata": {},
   "outputs": [
    {
     "output_type": "execute_result",
     "data": {
      "text/plain": [
       "     user_id          event_info               event_timestamp event_type  \\\n",
       "0          0             1786148  2019-10-19T11:25:42.444-0400       view   \n",
       "1          0             1786148  2019-10-19T11:25:57.487-0400       view   \n",
       "2          0  RELOGIO SMARTWATCH  2019-10-19T11:26:07.063-0400     search   \n",
       "3          0             1615991  2019-10-19T11:27:26.879-0400       view   \n",
       "4          0             1615991  2019-10-19T11:28:36.558-0400       view   \n",
       "..       ...                 ...                           ...        ...   \n",
       "111        4         FONE XIAOMI  2019-09-30T14:48:57.112-0400     search   \n",
       "112        4               86082  2019-09-30T14:48:59.704-0400       view   \n",
       "113        4               86082  2019-09-30T14:53:01.640-0400       view   \n",
       "114        4         FONE XIAOMI  2019-09-30T14:53:01.883-0400     search   \n",
       "115        4         GALAXY BUDS  2019-09-30T14:53:03.520-0400     search   \n",
       "\n",
       "     item_bought  \n",
       "0        1748830  \n",
       "1        1748830  \n",
       "2        1748830  \n",
       "3        1748830  \n",
       "4        1748830  \n",
       "..           ...  \n",
       "111      2049207  \n",
       "112      2049207  \n",
       "113      2049207  \n",
       "114      2049207  \n",
       "115      2049207  \n",
       "\n",
       "[116 rows x 5 columns]"
      ],
      "text/html": "<div>\n<style scoped>\n    .dataframe tbody tr th:only-of-type {\n        vertical-align: middle;\n    }\n\n    .dataframe tbody tr th {\n        vertical-align: top;\n    }\n\n    .dataframe thead th {\n        text-align: right;\n    }\n</style>\n<table border=\"1\" class=\"dataframe\">\n  <thead>\n    <tr style=\"text-align: right;\">\n      <th></th>\n      <th>user_id</th>\n      <th>event_info</th>\n      <th>event_timestamp</th>\n      <th>event_type</th>\n      <th>item_bought</th>\n    </tr>\n  </thead>\n  <tbody>\n    <tr>\n      <th>0</th>\n      <td>0</td>\n      <td>1786148</td>\n      <td>2019-10-19T11:25:42.444-0400</td>\n      <td>view</td>\n      <td>1748830</td>\n    </tr>\n    <tr>\n      <th>1</th>\n      <td>0</td>\n      <td>1786148</td>\n      <td>2019-10-19T11:25:57.487-0400</td>\n      <td>view</td>\n      <td>1748830</td>\n    </tr>\n    <tr>\n      <th>2</th>\n      <td>0</td>\n      <td>RELOGIO SMARTWATCH</td>\n      <td>2019-10-19T11:26:07.063-0400</td>\n      <td>search</td>\n      <td>1748830</td>\n    </tr>\n    <tr>\n      <th>3</th>\n      <td>0</td>\n      <td>1615991</td>\n      <td>2019-10-19T11:27:26.879-0400</td>\n      <td>view</td>\n      <td>1748830</td>\n    </tr>\n    <tr>\n      <th>4</th>\n      <td>0</td>\n      <td>1615991</td>\n      <td>2019-10-19T11:28:36.558-0400</td>\n      <td>view</td>\n      <td>1748830</td>\n    </tr>\n    <tr>\n      <th>...</th>\n      <td>...</td>\n      <td>...</td>\n      <td>...</td>\n      <td>...</td>\n      <td>...</td>\n    </tr>\n    <tr>\n      <th>111</th>\n      <td>4</td>\n      <td>FONE XIAOMI</td>\n      <td>2019-09-30T14:48:57.112-0400</td>\n      <td>search</td>\n      <td>2049207</td>\n    </tr>\n    <tr>\n      <th>112</th>\n      <td>4</td>\n      <td>86082</td>\n      <td>2019-09-30T14:48:59.704-0400</td>\n      <td>view</td>\n      <td>2049207</td>\n    </tr>\n    <tr>\n      <th>113</th>\n      <td>4</td>\n      <td>86082</td>\n      <td>2019-09-30T14:53:01.640-0400</td>\n      <td>view</td>\n      <td>2049207</td>\n    </tr>\n    <tr>\n      <th>114</th>\n      <td>4</td>\n      <td>FONE XIAOMI</td>\n      <td>2019-09-30T14:53:01.883-0400</td>\n      <td>search</td>\n      <td>2049207</td>\n    </tr>\n    <tr>\n      <th>115</th>\n      <td>4</td>\n      <td>GALAXY BUDS</td>\n      <td>2019-09-30T14:53:03.520-0400</td>\n      <td>search</td>\n      <td>2049207</td>\n    </tr>\n  </tbody>\n</table>\n<p>116 rows × 5 columns</p>\n</div>"
     },
     "metadata": {},
     "execution_count": 95
    }
   ],
   "source": [
    "df_event_user.merge(df[['user_id', 'item_bought']], left_on='user_id', right_on='user_id')"
   ]
  },
  {
   "cell_type": "code",
   "execution_count": 97,
   "metadata": {},
   "outputs": [
    {
     "output_type": "execute_result",
     "data": {
      "text/plain": [
       "   user_id                                       user_history  item_bought\n",
       "0        0  [{'event_info': 1786148, 'event_timestamp': '2...      1748830\n",
       "1        1  [{'event_info': 643652, 'event_timestamp': '20...       228737\n",
       "2        2  [{'event_info': 248595, 'event_timestamp': '20...      1909110\n",
       "3        3  [{'event_info': 'RADIOBOSS', 'event_timestamp'...      1197370\n",
       "4        4  [{'event_info': 'AMAZFIT BIP', 'event_timestam...      2049207"
      ],
      "text/html": "<div>\n<style scoped>\n    .dataframe tbody tr th:only-of-type {\n        vertical-align: middle;\n    }\n\n    .dataframe tbody tr th {\n        vertical-align: top;\n    }\n\n    .dataframe thead th {\n        text-align: right;\n    }\n</style>\n<table border=\"1\" class=\"dataframe\">\n  <thead>\n    <tr style=\"text-align: right;\">\n      <th></th>\n      <th>user_id</th>\n      <th>user_history</th>\n      <th>item_bought</th>\n    </tr>\n  </thead>\n  <tbody>\n    <tr>\n      <th>0</th>\n      <td>0</td>\n      <td>[{'event_info': 1786148, 'event_timestamp': '2...</td>\n      <td>1748830</td>\n    </tr>\n    <tr>\n      <th>1</th>\n      <td>1</td>\n      <td>[{'event_info': 643652, 'event_timestamp': '20...</td>\n      <td>228737</td>\n    </tr>\n    <tr>\n      <th>2</th>\n      <td>2</td>\n      <td>[{'event_info': 248595, 'event_timestamp': '20...</td>\n      <td>1909110</td>\n    </tr>\n    <tr>\n      <th>3</th>\n      <td>3</td>\n      <td>[{'event_info': 'RADIOBOSS', 'event_timestamp'...</td>\n      <td>1197370</td>\n    </tr>\n    <tr>\n      <th>4</th>\n      <td>4</td>\n      <td>[{'event_info': 'AMAZFIT BIP', 'event_timestam...</td>\n      <td>2049207</td>\n    </tr>\n  </tbody>\n</table>\n</div>"
     },
     "metadata": {},
     "execution_count": 97
    }
   ],
   "source": [
    "df"
   ]
  },
  {
   "cell_type": "code",
   "execution_count": null,
   "metadata": {},
   "outputs": [],
   "source": []
  }
 ]
}