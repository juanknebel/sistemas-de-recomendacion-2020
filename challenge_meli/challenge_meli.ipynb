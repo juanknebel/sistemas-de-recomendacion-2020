{
 "cells": [
  {
   "source": [
    "# Challenge MeLi"
   ],
   "cell_type": "markdown",
   "metadata": {}
  },
  {
   "cell_type": "code",
   "execution_count": 66,
   "metadata": {},
   "outputs": [],
   "source": [
    "import pandas as pd\n",
    "from tqdm import tqdm, tqdm_notebook\n",
    "import numpy as np\n",
    "import time\n",
    "import math\n",
    "from random import sample, shuffle, seed, randint\n",
    "import gc\n",
    "\n",
    "\n",
    "SEED=42\n",
    "\n",
    "#del variable\n",
    "#gc.collect()"
   ]
  },
  {
   "cell_type": "code",
   "execution_count": 2,
   "metadata": {},
   "outputs": [
    {
     "output_type": "execute_result",
     "data": {
      "text/plain": [
       "                                                     title  \\\n",
       "item_id                                                      \n",
       "111260   Casa Sola En Venta Con Gran Patio Solo Pago De...   \n",
       "871377   Resident Evil Origins Collection Nintendo Swit...   \n",
       "490232                       Falda De Imitación Piel Negra   \n",
       "1150706       Powercolor Red Devil Radeon Rx 580 8gb Gddr5   \n",
       "934912   Laptop Hp Nx6320 Core Duo Con Puerto Db9 Windo...   \n",
       "...                                                    ...   \n",
       "1099649                             Carrinho De Bebê Stoke   \n",
       "1482187  Grelha Para Hambúrguer Preta Com Cabo Em Madei...   \n",
       "1118904      Meia Tam 7/8 Anti Embolia Trombose Antitrombo   \n",
       "237229     Pano De Boca Cremer Menina Luxo Bordado C/3 Und   \n",
       "2010306  Kit Turbo Turbina Virtual Simulador Som Apito ...   \n",
       "\n",
       "                              domain_id       price category_id condition site  \n",
       "item_id                                                                         \n",
       "111260   MLM-INDIVIDUAL_HOUSES_FOR_SALE  1150000.00   MLM170527       new  MLM  \n",
       "871377                  MLM-VIDEO_GAMES     1392.83   MLM151595       new  MLM  \n",
       "490232                       MLM-SKIRTS      350.00     MLM7697       new  MLM  \n",
       "1150706              MLM-GRAPHICS_CARDS     3200.00     MLM9761      used  MLM  \n",
       "934912                    MLM-NOTEBOOKS     1599.00     MLM1652      used  MLM  \n",
       "...                                 ...         ...         ...       ...  ...  \n",
       "1099649              MLB-BABY_STROLLERS     1600.00     MLB1386      used  MLB  \n",
       "1482187            MLB-KITCHEN_SUPPLIES       69.90   MLB193425       new  MLB  \n",
       "1118904                       MLB-SOCKS      118.00   MLB108791       new  MLB  \n",
       "237229      MLB-DISPOSABLE_BABY_DIAPERS       26.90    MLB40629       new  MLB  \n",
       "2010306         MLB-VEHICLE_ACCESSORIES       64.99   MLB117639       new  MLB  \n",
       "\n",
       "[2102277 rows x 6 columns]"
      ],
      "text/html": "<div>\n<style scoped>\n    .dataframe tbody tr th:only-of-type {\n        vertical-align: middle;\n    }\n\n    .dataframe tbody tr th {\n        vertical-align: top;\n    }\n\n    .dataframe thead th {\n        text-align: right;\n    }\n</style>\n<table border=\"1\" class=\"dataframe\">\n  <thead>\n    <tr style=\"text-align: right;\">\n      <th></th>\n      <th>title</th>\n      <th>domain_id</th>\n      <th>price</th>\n      <th>category_id</th>\n      <th>condition</th>\n      <th>site</th>\n    </tr>\n    <tr>\n      <th>item_id</th>\n      <th></th>\n      <th></th>\n      <th></th>\n      <th></th>\n      <th></th>\n      <th></th>\n    </tr>\n  </thead>\n  <tbody>\n    <tr>\n      <th>111260</th>\n      <td>Casa Sola En Venta Con Gran Patio Solo Pago De...</td>\n      <td>MLM-INDIVIDUAL_HOUSES_FOR_SALE</td>\n      <td>1150000.00</td>\n      <td>MLM170527</td>\n      <td>new</td>\n      <td>MLM</td>\n    </tr>\n    <tr>\n      <th>871377</th>\n      <td>Resident Evil Origins Collection Nintendo Swit...</td>\n      <td>MLM-VIDEO_GAMES</td>\n      <td>1392.83</td>\n      <td>MLM151595</td>\n      <td>new</td>\n      <td>MLM</td>\n    </tr>\n    <tr>\n      <th>490232</th>\n      <td>Falda De Imitación Piel Negra</td>\n      <td>MLM-SKIRTS</td>\n      <td>350.00</td>\n      <td>MLM7697</td>\n      <td>new</td>\n      <td>MLM</td>\n    </tr>\n    <tr>\n      <th>1150706</th>\n      <td>Powercolor Red Devil Radeon Rx 580 8gb Gddr5</td>\n      <td>MLM-GRAPHICS_CARDS</td>\n      <td>3200.00</td>\n      <td>MLM9761</td>\n      <td>used</td>\n      <td>MLM</td>\n    </tr>\n    <tr>\n      <th>934912</th>\n      <td>Laptop Hp Nx6320 Core Duo Con Puerto Db9 Windo...</td>\n      <td>MLM-NOTEBOOKS</td>\n      <td>1599.00</td>\n      <td>MLM1652</td>\n      <td>used</td>\n      <td>MLM</td>\n    </tr>\n    <tr>\n      <th>...</th>\n      <td>...</td>\n      <td>...</td>\n      <td>...</td>\n      <td>...</td>\n      <td>...</td>\n      <td>...</td>\n    </tr>\n    <tr>\n      <th>1099649</th>\n      <td>Carrinho De Bebê Stoke</td>\n      <td>MLB-BABY_STROLLERS</td>\n      <td>1600.00</td>\n      <td>MLB1386</td>\n      <td>used</td>\n      <td>MLB</td>\n    </tr>\n    <tr>\n      <th>1482187</th>\n      <td>Grelha Para Hambúrguer Preta Com Cabo Em Madei...</td>\n      <td>MLB-KITCHEN_SUPPLIES</td>\n      <td>69.90</td>\n      <td>MLB193425</td>\n      <td>new</td>\n      <td>MLB</td>\n    </tr>\n    <tr>\n      <th>1118904</th>\n      <td>Meia Tam 7/8 Anti Embolia Trombose Antitrombo</td>\n      <td>MLB-SOCKS</td>\n      <td>118.00</td>\n      <td>MLB108791</td>\n      <td>new</td>\n      <td>MLB</td>\n    </tr>\n    <tr>\n      <th>237229</th>\n      <td>Pano De Boca Cremer Menina Luxo Bordado C/3 Und</td>\n      <td>MLB-DISPOSABLE_BABY_DIAPERS</td>\n      <td>26.90</td>\n      <td>MLB40629</td>\n      <td>new</td>\n      <td>MLB</td>\n    </tr>\n    <tr>\n      <th>2010306</th>\n      <td>Kit Turbo Turbina Virtual Simulador Som Apito ...</td>\n      <td>MLB-VEHICLE_ACCESSORIES</td>\n      <td>64.99</td>\n      <td>MLB117639</td>\n      <td>new</td>\n      <td>MLB</td>\n    </tr>\n  </tbody>\n</table>\n<p>2102277 rows × 6 columns</p>\n</div>"
     },
     "metadata": {},
     "execution_count": 2
    }
   ],
   "source": [
    "df_train = pd.read_csv('./data/03_primary/train_dataset.csv')\n",
    "#df_test = pd.read_csv('./data/03_primary/test_dataset.csv')\n",
    "dtype ={\"item_id\": \"int\", \"title\": \"str\", \"domain_id\": \"str\", \"price\": \"float\", \"category_id\": \"str\", \"condition\": \"str\", \"site\": \"str\"}\n",
    "df_item = pd.read_csv('./data/02_intermediate/item_data.csv', dtype=dtype)\n",
    "df_item.set_index('item_id')"
   ]
  },
  {
   "cell_type": "code",
   "execution_count": 12,
   "metadata": {},
   "outputs": [],
   "source": [
    "list_of_domains = df_item.domain_id.unique().tolist()\n",
    "list_of_domains.sort()"
   ]
  },
  {
   "cell_type": "code",
   "execution_count": 13,
   "metadata": {},
   "outputs": [
    {
     "output_type": "display_data",
     "data": {
      "text/plain": "HBox(children=(HTML(value=''), FloatProgress(value=0.0, max=5000.0), HTML(value='')))",
      "application/vnd.jupyter.widget-view+json": {
       "version_major": 2,
       "version_minor": 0,
       "model_id": "ee79a841b6bc44b08c232b0054d2763a"
      }
     },
     "metadata": {}
    },
    {
     "output_type": "stream",
     "name": "stdout",
     "text": [
      "\n"
     ]
    }
   ],
   "source": [
    "items_view_by_session = {}\n",
    "for name, group in tqdm_notebook(df_train.groupby('session_id')):\n",
    "    list_of_items = group[group.event_type == \"view\"].event_info.unique().tolist()\n",
    "    items_view_by_session[name] = list_of_items"
   ]
  },
  {
   "cell_type": "code",
   "execution_count": 14,
   "metadata": {},
   "outputs": [],
   "source": [
    "temp = df_train[['session_id', 'event_info', 'event_type']]\n",
    "temp = temp[df_train.event_type == 'view']\n",
    "temp.drop(columns='event_type', inplace=True)\n",
    "temp.event_info = pd.to_numeric(temp.event_info)"
   ]
  },
  {
   "cell_type": "code",
   "execution_count": 15,
   "metadata": {},
   "outputs": [],
   "source": [
    "temp_merge = temp.merge(df_item[['item_id', 'domain_id']], left_on='event_info', right_on='item_id')[['session_id', 'domain_id']]\n"
   ]
  },
  {
   "cell_type": "code",
   "execution_count": 16,
   "metadata": {},
   "outputs": [
    {
     "output_type": "display_data",
     "data": {
      "text/plain": "HBox(children=(HTML(value=''), FloatProgress(value=0.0, max=4655.0), HTML(value='')))",
      "application/vnd.jupyter.widget-view+json": {
       "version_major": 2,
       "version_minor": 0,
       "model_id": "a2714693dd6b4dd08c266c405e83c897"
      }
     },
     "metadata": {}
    },
    {
     "output_type": "stream",
     "name": "stdout",
     "text": [
      "\n"
     ]
    }
   ],
   "source": [
    "items_view_by_session = {}\n",
    "for name, group in tqdm_notebook(temp_merge.groupby('session_id')):\n",
    "    items_view_by_session[name] = group.domain_id.unique().tolist()"
   ]
  },
  {
   "cell_type": "code",
   "execution_count": null,
   "metadata": {
    "tags": []
   },
   "outputs": [],
   "source": [
    "set_of_values = set()\n",
    "for elem in items_view_by_session.values():\n",
    "    for el in elem:\n",
    "        set_of_values.add(el)"
   ]
  },
  {
   "cell_type": "code",
   "execution_count": null,
   "metadata": {},
   "outputs": [],
   "source": [
    "len(set_of_values)"
   ]
  },
  {
   "cell_type": "code",
   "execution_count": null,
   "metadata": {},
   "outputs": [],
   "source": [
    "list(items_view_by_session.values())[0]"
   ]
  },
  {
   "source": [
    "### Base line tomando algun elemento de la lista que vio"
   ],
   "cell_type": "markdown",
   "metadata": {}
  },
  {
   "cell_type": "code",
   "execution_count": null,
   "metadata": {},
   "outputs": [],
   "source": []
  },
  {
   "cell_type": "code",
   "execution_count": 53,
   "metadata": {},
   "outputs": [],
   "source": [
    "def dcg(predicted, effective_item):\n",
    "    dcg = 0\n",
    "    for pos, (item, domain) in enumerate(predicted.items()):\n",
    "        dcg += relevance((item, domain), effective_item) / (math.log10(2 + pos))\n",
    "    return dcg\n",
    "\n",
    "\n",
    "def relevance(predicted_item, effective_item):\n",
    "    if predicted_item[0] == effective_item[0]:\n",
    "        return 12\n",
    "    elif (predicted_item[1] == effective_item[1]):\n",
    "        return 1\n",
    "    else:\n",
    "        return 0\n",
    "\n",
    "\n",
    "def idcg(number_of_items=10):\n",
    "    # 12/math.log10(1 + 1) + 1/math.log10(1 + 2) + 1/math.log10(1 + 3) .... \n",
    "    first = 12 / math.log10(1 + 1)\n",
    "    all_except_first = sum(map(lambda position: 1 / math.log10(1 + position), range(2, number_of_items + 1)))\n",
    "    return first + all_except_first\n",
    "\n",
    "\n",
    "def ndcg(predicted, effective_item, items):\n",
    "    predicted_dict = {}\n",
    "    for one_item in predicted:\n",
    "        predicted_dict[one_item] = items[items.item_id == one_item].domain_id.iloc[0]\n",
    "    effective_item = (\n",
    "        effective_item, items[items.item_id == effective_item].domain_id.iloc[0]\n",
    "    )\n",
    "    return (dcg(predicted_dict, effective_item) / idcg())\n"
   ]
  },
  {
   "cell_type": "code",
   "execution_count": 54,
   "metadata": {},
   "outputs": [],
   "source": [
    "def split_train_test_ids(list_of_ids, percentage=70):\n",
    "    until = int(len(list_of_ids) * (percentage / 100))\n",
    "    seed(SEED)\n",
    "    shuffle(list_of_ids)\n",
    "    return list_of_ids[:until], list_of_ids[until:]"
   ]
  },
  {
   "cell_type": "code",
   "execution_count": 55,
   "metadata": {},
   "outputs": [],
   "source": [
    "def generate_dictionary_by_session(session_history):\n",
    "    # genero un diccionario por session con otro diccionario que tiene el id del item visto y la cantidad de veces que lo vio. Ordenado desde el último visto como primero del diccionario\n",
    "    # {session_id: {item_id: how_many_times_saw}, ....}\n",
    "    recommended_by_session = {}\n",
    "    for id, group in tqdm(session_history.groupby(\"session_id\")):\n",
    "        last_items_view = group[group.event_type == \"view\"].event_info.tolist()\n",
    "        last_items_view.reverse()\n",
    "        last_items_view = list(map(lambda item: int(item), last_items_view))\n",
    "        last_items_view_quantity = {}\n",
    "        for an_item in last_items_view:\n",
    "            if an_item in last_items_view_quantity:\n",
    "                last_items_view_quantity[an_item] += 1\n",
    "            else:\n",
    "                last_items_view_quantity[an_item] = 1\n",
    "\n",
    "        recommended_by_session[id] = last_items_view_quantity\n",
    "\n",
    "    return recommended_by_session"
   ]
  },
  {
   "cell_type": "code",
   "execution_count": 56,
   "metadata": {},
   "outputs": [],
   "source": [
    "def generate_dictionary_by_domain(items):\n",
    "    items_by_domain = {}\n",
    "    for name, group in items.groupby(\"domain_id\"):\n",
    "        items_by_domain[name] = group.item_id.tolist()\n",
    "\n",
    "    return items_by_domain"
   ]
  },
  {
   "cell_type": "code",
   "execution_count": 57,
   "metadata": {},
   "outputs": [],
   "source": [
    "def generate_submission(filaname, predictions):\n",
    "    with open(filaname, \"w\") as file:\n",
    "        write = csv.writer(file)\n",
    "        write.writerows(predictions)"
   ]
  },
  {
   "cell_type": "code",
   "execution_count": 58,
   "metadata": {},
   "outputs": [],
   "source": [
    "def predict(recommendations, random_item, items, items_by_domain):\n",
    "    predictions = []\n",
    "    for _, recommendations in tqdm(recommendations.items()):\n",
    "        # first 10 to predict\n",
    "        predicted = list(recommendations.keys())[:10]\n",
    "\n",
    "        if len(predicted) < 10:\n",
    "            # sort items by views\n",
    "            try:\n",
    "                most_viewed = list(\n",
    "                    {\n",
    "                        k: v\n",
    "                        for k, v in sorted(\n",
    "                            recommendations.items(),\n",
    "                            key=lambda item: item[1],\n",
    "                            reverse=True,\n",
    "                        )\n",
    "                    }\n",
    "                )[0]\n",
    "            except:\n",
    "                most_viewed = random_item\n",
    "\n",
    "            most_viewed_by_domain = items[\n",
    "                items.index == most_viewed\n",
    "            ].domain_id.iloc[0]\n",
    "\n",
    "            predicted += items_by_domain[most_viewed_by_domain][\n",
    "                : 10 - len(predicted)\n",
    "            ]\n",
    "            for i in range(10 - len(predicted)):\n",
    "                seed(i)\n",
    "                onther_random_item = items.loc[\n",
    "                    randint(0, len(items) - 1)\n",
    "                ].item_id\n",
    "                predicted.append(onther_random_item)\n",
    "\n",
    "        predictions.append(predicted)\n",
    "\n",
    "    return predictions"
   ]
  },
  {
   "cell_type": "code",
   "execution_count": 67,
   "metadata": {},
   "outputs": [],
   "source": [
    "def generate_random_item(items):\n",
    "    seed(SEED)\n",
    "    return items.loc[randint(0, len(items) - 1)].item_id"
   ]
  },
  {
   "cell_type": "code",
   "execution_count": 60,
   "metadata": {},
   "outputs": [],
   "source": [
    "seed(SEED)"
   ]
  },
  {
   "cell_type": "code",
   "execution_count": 61,
   "metadata": {},
   "outputs": [],
   "source": [
    "train_id, test_id = split_train_test_ids(df_train.session_id.unique().tolist(), 70)"
   ]
  },
  {
   "cell_type": "code",
   "execution_count": 62,
   "metadata": {},
   "outputs": [],
   "source": [
    "train = df_train[df_train.session_id.isin(train_id)]"
   ]
  },
  {
   "cell_type": "code",
   "execution_count": 75,
   "metadata": {},
   "outputs": [
    {
     "output_type": "stream",
     "name": "stderr",
     "text": [
      "100%|██████████| 289214/289214 [02:04<00:00, 2320.91it/s]\n"
     ]
    }
   ],
   "source": [
    "recommendations = generate_dictionary_by_session(train)"
   ]
  },
  {
   "cell_type": "code",
   "execution_count": 64,
   "metadata": {},
   "outputs": [],
   "source": [
    "items_by_domain = generate_dictionary_by_domain(df_item)"
   ]
  },
  {
   "cell_type": "code",
   "execution_count": 68,
   "metadata": {},
   "outputs": [],
   "source": [
    "random_item = generate_random_item(df_item)"
   ]
  },
  {
   "cell_type": "code",
   "execution_count": 76,
   "metadata": {},
   "outputs": [
    {
     "output_type": "stream",
     "name": "stderr",
     "text": [
      "100%|██████████| 289214/289214 [06:20<00:00, 759.77it/s]\n"
     ]
    }
   ],
   "source": [
    "predictions = predict(recommendations, random_item, df_item, items_by_domain)"
   ]
  },
  {
   "cell_type": "code",
   "execution_count": 79,
   "metadata": {},
   "outputs": [
    {
     "output_type": "execute_result",
     "data": {
      "text/plain": [
       "289214"
      ]
     },
     "metadata": {},
     "execution_count": 79
    }
   ],
   "source": [
    "len(predictions)"
   ]
  },
  {
   "cell_type": "code",
   "execution_count": 80,
   "metadata": {},
   "outputs": [
    {
     "output_type": "execute_result",
     "data": {
      "text/plain": [
       "   session_id          event_info               event_timestamp event_type  \\\n",
       "0           0             1786148  2019-10-19T11:25:42.444-0400       view   \n",
       "1           0             1786148  2019-10-19T11:25:57.487-0400       view   \n",
       "2           0  RELOGIO SMARTWATCH  2019-10-19T11:26:07.063-0400     search   \n",
       "3           0             1615991  2019-10-19T11:27:26.879-0400       view   \n",
       "4           0             1615991  2019-10-19T11:28:36.558-0400       view   \n",
       "\n",
       "   item_bought  \n",
       "0      1748830  \n",
       "1      1748830  \n",
       "2      1748830  \n",
       "3      1748830  \n",
       "4      1748830  "
      ],
      "text/html": "<div>\n<style scoped>\n    .dataframe tbody tr th:only-of-type {\n        vertical-align: middle;\n    }\n\n    .dataframe tbody tr th {\n        vertical-align: top;\n    }\n\n    .dataframe thead th {\n        text-align: right;\n    }\n</style>\n<table border=\"1\" class=\"dataframe\">\n  <thead>\n    <tr style=\"text-align: right;\">\n      <th></th>\n      <th>session_id</th>\n      <th>event_info</th>\n      <th>event_timestamp</th>\n      <th>event_type</th>\n      <th>item_bought</th>\n    </tr>\n  </thead>\n  <tbody>\n    <tr>\n      <th>0</th>\n      <td>0</td>\n      <td>1786148</td>\n      <td>2019-10-19T11:25:42.444-0400</td>\n      <td>view</td>\n      <td>1748830</td>\n    </tr>\n    <tr>\n      <th>1</th>\n      <td>0</td>\n      <td>1786148</td>\n      <td>2019-10-19T11:25:57.487-0400</td>\n      <td>view</td>\n      <td>1748830</td>\n    </tr>\n    <tr>\n      <th>2</th>\n      <td>0</td>\n      <td>RELOGIO SMARTWATCH</td>\n      <td>2019-10-19T11:26:07.063-0400</td>\n      <td>search</td>\n      <td>1748830</td>\n    </tr>\n    <tr>\n      <th>3</th>\n      <td>0</td>\n      <td>1615991</td>\n      <td>2019-10-19T11:27:26.879-0400</td>\n      <td>view</td>\n      <td>1748830</td>\n    </tr>\n    <tr>\n      <th>4</th>\n      <td>0</td>\n      <td>1615991</td>\n      <td>2019-10-19T11:28:36.558-0400</td>\n      <td>view</td>\n      <td>1748830</td>\n    </tr>\n  </tbody>\n</table>\n</div>"
     },
     "metadata": {},
     "execution_count": 80
    }
   ],
   "source": [
    "train.head()"
   ]
  },
  {
   "cell_type": "code",
   "execution_count": 100,
   "metadata": {},
   "outputs": [
    {
     "output_type": "display_data",
     "data": {
      "text/plain": "HBox(children=(HTML(value=''), FloatProgress(value=1.0, bar_style='info', layout=Layout(width='20px'), max=1.0…",
      "application/vnd.jupyter.widget-view+json": {
       "version_major": 2,
       "version_minor": 0,
       "model_id": "bc599667172c447e81860905b337891c"
      }
     },
     "metadata": {}
    },
    {
     "output_type": "stream",
     "name": "stdout",
     "text": [
      "\n"
     ]
    },
    {
     "output_type": "error",
     "ename": "KeyboardInterrupt",
     "evalue": "",
     "traceback": [
      "\u001b[0;31m---------------------------------------------------------------------------\u001b[0m",
      "\u001b[0;31mKeyboardInterrupt\u001b[0m                         Traceback (most recent call last)",
      "\u001b[0;32m<ipython-input-100-95921f6bb80c>\u001b[0m in \u001b[0;36m<module>\u001b[0;34m\u001b[0m\n\u001b[1;32m      1\u001b[0m \u001b[0mndcg_values\u001b[0m \u001b[0;34m=\u001b[0m \u001b[0;36m0\u001b[0m\u001b[0;34m\u001b[0m\u001b[0;34m\u001b[0m\u001b[0m\n\u001b[1;32m      2\u001b[0m \u001b[0;32mfor\u001b[0m \u001b[0mindex\u001b[0m\u001b[0;34m,\u001b[0m \u001b[0;34m(\u001b[0m\u001b[0;34m(\u001b[0m\u001b[0m_\u001b[0m\u001b[0;34m,\u001b[0m \u001b[0mitem_bought\u001b[0m\u001b[0;34m)\u001b[0m\u001b[0;34m,\u001b[0m \u001b[0m_\u001b[0m\u001b[0;34m)\u001b[0m \u001b[0;32min\u001b[0m \u001b[0mtqdm_notebook\u001b[0m\u001b[0;34m(\u001b[0m\u001b[0menumerate\u001b[0m\u001b[0;34m(\u001b[0m\u001b[0mtrain\u001b[0m\u001b[0;34m.\u001b[0m\u001b[0mgroupby\u001b[0m\u001b[0;34m(\u001b[0m\u001b[0;34m[\u001b[0m\u001b[0;34m'session_id'\u001b[0m\u001b[0;34m,\u001b[0m \u001b[0;34m'item_bought'\u001b[0m\u001b[0;34m]\u001b[0m\u001b[0;34m)\u001b[0m\u001b[0;34m)\u001b[0m\u001b[0;34m)\u001b[0m\u001b[0;34m:\u001b[0m\u001b[0;34m\u001b[0m\u001b[0;34m\u001b[0m\u001b[0m\n\u001b[0;32m----> 3\u001b[0;31m     \u001b[0mndcg_values\u001b[0m \u001b[0;34m+=\u001b[0m \u001b[0mndcg\u001b[0m\u001b[0;34m(\u001b[0m\u001b[0mpredictions\u001b[0m\u001b[0;34m[\u001b[0m\u001b[0mindex\u001b[0m\u001b[0;34m]\u001b[0m\u001b[0;34m,\u001b[0m \u001b[0mitem_bought\u001b[0m\u001b[0;34m,\u001b[0m \u001b[0mdf_item\u001b[0m\u001b[0;34m)\u001b[0m\u001b[0;34m\u001b[0m\u001b[0;34m\u001b[0m\u001b[0m\n\u001b[0m",
      "\u001b[0;32m<ipython-input-53-0ebdc58bdb1a>\u001b[0m in \u001b[0;36mndcg\u001b[0;34m(predicted, effective_item, items)\u001b[0m\n\u001b[1;32m     25\u001b[0m     \u001b[0mpredicted_dict\u001b[0m \u001b[0;34m=\u001b[0m \u001b[0;34m{\u001b[0m\u001b[0;34m}\u001b[0m\u001b[0;34m\u001b[0m\u001b[0;34m\u001b[0m\u001b[0m\n\u001b[1;32m     26\u001b[0m     \u001b[0;32mfor\u001b[0m \u001b[0mone_item\u001b[0m \u001b[0;32min\u001b[0m \u001b[0mpredicted\u001b[0m\u001b[0;34m:\u001b[0m\u001b[0;34m\u001b[0m\u001b[0;34m\u001b[0m\u001b[0m\n\u001b[0;32m---> 27\u001b[0;31m         \u001b[0mpredicted_dict\u001b[0m\u001b[0;34m[\u001b[0m\u001b[0mone_item\u001b[0m\u001b[0;34m]\u001b[0m \u001b[0;34m=\u001b[0m \u001b[0mitems\u001b[0m\u001b[0;34m[\u001b[0m\u001b[0mitems\u001b[0m\u001b[0;34m.\u001b[0m\u001b[0mitem_id\u001b[0m \u001b[0;34m==\u001b[0m \u001b[0mone_item\u001b[0m\u001b[0;34m]\u001b[0m\u001b[0;34m.\u001b[0m\u001b[0mdomain_id\u001b[0m\u001b[0;34m.\u001b[0m\u001b[0miloc\u001b[0m\u001b[0;34m[\u001b[0m\u001b[0;36m0\u001b[0m\u001b[0;34m]\u001b[0m\u001b[0;34m\u001b[0m\u001b[0;34m\u001b[0m\u001b[0m\n\u001b[0m\u001b[1;32m     28\u001b[0m     effective_item = (\n\u001b[1;32m     29\u001b[0m         \u001b[0meffective_item\u001b[0m\u001b[0;34m,\u001b[0m \u001b[0mitems\u001b[0m\u001b[0;34m[\u001b[0m\u001b[0mitems\u001b[0m\u001b[0;34m.\u001b[0m\u001b[0mitem_id\u001b[0m \u001b[0;34m==\u001b[0m \u001b[0meffective_item\u001b[0m\u001b[0;34m]\u001b[0m\u001b[0;34m.\u001b[0m\u001b[0mdomain_id\u001b[0m\u001b[0;34m.\u001b[0m\u001b[0miloc\u001b[0m\u001b[0;34m[\u001b[0m\u001b[0;36m0\u001b[0m\u001b[0;34m]\u001b[0m\u001b[0;34m\u001b[0m\u001b[0;34m\u001b[0m\u001b[0m\n",
      "\u001b[0;32m~/.local/lib/python3.8/site-packages/pandas/core/ops/common.py\u001b[0m in \u001b[0;36mnew_method\u001b[0;34m(self, other)\u001b[0m\n\u001b[1;32m     63\u001b[0m         \u001b[0mother\u001b[0m \u001b[0;34m=\u001b[0m \u001b[0mitem_from_zerodim\u001b[0m\u001b[0;34m(\u001b[0m\u001b[0mother\u001b[0m\u001b[0;34m)\u001b[0m\u001b[0;34m\u001b[0m\u001b[0;34m\u001b[0m\u001b[0m\n\u001b[1;32m     64\u001b[0m \u001b[0;34m\u001b[0m\u001b[0m\n\u001b[0;32m---> 65\u001b[0;31m         \u001b[0;32mreturn\u001b[0m \u001b[0mmethod\u001b[0m\u001b[0;34m(\u001b[0m\u001b[0mself\u001b[0m\u001b[0;34m,\u001b[0m \u001b[0mother\u001b[0m\u001b[0;34m)\u001b[0m\u001b[0;34m\u001b[0m\u001b[0;34m\u001b[0m\u001b[0m\n\u001b[0m\u001b[1;32m     66\u001b[0m \u001b[0;34m\u001b[0m\u001b[0m\n\u001b[1;32m     67\u001b[0m     \u001b[0;32mreturn\u001b[0m \u001b[0mnew_method\u001b[0m\u001b[0;34m\u001b[0m\u001b[0;34m\u001b[0m\u001b[0m\n",
      "\u001b[0;32m~/.local/lib/python3.8/site-packages/pandas/core/ops/__init__.py\u001b[0m in \u001b[0;36mwrapper\u001b[0;34m(self, other)\u001b[0m\n\u001b[1;32m    368\u001b[0m         \u001b[0mrvalues\u001b[0m \u001b[0;34m=\u001b[0m \u001b[0mextract_array\u001b[0m\u001b[0;34m(\u001b[0m\u001b[0mother\u001b[0m\u001b[0;34m,\u001b[0m \u001b[0mextract_numpy\u001b[0m\u001b[0;34m=\u001b[0m\u001b[0;32mTrue\u001b[0m\u001b[0;34m)\u001b[0m\u001b[0;34m\u001b[0m\u001b[0;34m\u001b[0m\u001b[0m\n\u001b[1;32m    369\u001b[0m \u001b[0;34m\u001b[0m\u001b[0m\n\u001b[0;32m--> 370\u001b[0;31m         \u001b[0mres_values\u001b[0m \u001b[0;34m=\u001b[0m \u001b[0mcomparison_op\u001b[0m\u001b[0;34m(\u001b[0m\u001b[0mlvalues\u001b[0m\u001b[0;34m,\u001b[0m \u001b[0mrvalues\u001b[0m\u001b[0;34m,\u001b[0m \u001b[0mop\u001b[0m\u001b[0;34m)\u001b[0m\u001b[0;34m\u001b[0m\u001b[0;34m\u001b[0m\u001b[0m\n\u001b[0m\u001b[1;32m    371\u001b[0m \u001b[0;34m\u001b[0m\u001b[0m\n\u001b[1;32m    372\u001b[0m         \u001b[0;32mreturn\u001b[0m \u001b[0mself\u001b[0m\u001b[0;34m.\u001b[0m\u001b[0m_construct_result\u001b[0m\u001b[0;34m(\u001b[0m\u001b[0mres_values\u001b[0m\u001b[0;34m,\u001b[0m \u001b[0mname\u001b[0m\u001b[0;34m=\u001b[0m\u001b[0mres_name\u001b[0m\u001b[0;34m)\u001b[0m\u001b[0;34m\u001b[0m\u001b[0;34m\u001b[0m\u001b[0m\n",
      "\u001b[0;32m~/.local/lib/python3.8/site-packages/pandas/core/ops/array_ops.py\u001b[0m in \u001b[0;36mcomparison_op\u001b[0;34m(left, right, op)\u001b[0m\n\u001b[1;32m    249\u001b[0m             \u001b[0mwarnings\u001b[0m\u001b[0;34m.\u001b[0m\u001b[0msimplefilter\u001b[0m\u001b[0;34m(\u001b[0m\u001b[0;34m\"ignore\"\u001b[0m\u001b[0;34m,\u001b[0m \u001b[0mDeprecationWarning\u001b[0m\u001b[0;34m)\u001b[0m\u001b[0;34m\u001b[0m\u001b[0;34m\u001b[0m\u001b[0m\n\u001b[1;32m    250\u001b[0m             \u001b[0;32mwith\u001b[0m \u001b[0mnp\u001b[0m\u001b[0;34m.\u001b[0m\u001b[0merrstate\u001b[0m\u001b[0;34m(\u001b[0m\u001b[0mall\u001b[0m\u001b[0;34m=\u001b[0m\u001b[0;34m\"ignore\"\u001b[0m\u001b[0;34m)\u001b[0m\u001b[0;34m:\u001b[0m\u001b[0;34m\u001b[0m\u001b[0;34m\u001b[0m\u001b[0m\n\u001b[0;32m--> 251\u001b[0;31m                 \u001b[0mres_values\u001b[0m \u001b[0;34m=\u001b[0m \u001b[0mna_arithmetic_op\u001b[0m\u001b[0;34m(\u001b[0m\u001b[0mlvalues\u001b[0m\u001b[0;34m,\u001b[0m \u001b[0mrvalues\u001b[0m\u001b[0;34m,\u001b[0m \u001b[0mop\u001b[0m\u001b[0;34m,\u001b[0m \u001b[0mis_cmp\u001b[0m\u001b[0;34m=\u001b[0m\u001b[0;32mTrue\u001b[0m\u001b[0;34m)\u001b[0m\u001b[0;34m\u001b[0m\u001b[0;34m\u001b[0m\u001b[0m\n\u001b[0m\u001b[1;32m    252\u001b[0m \u001b[0;34m\u001b[0m\u001b[0m\n\u001b[1;32m    253\u001b[0m     \u001b[0;32mreturn\u001b[0m \u001b[0mres_values\u001b[0m\u001b[0;34m\u001b[0m\u001b[0;34m\u001b[0m\u001b[0m\n",
      "\u001b[0;32m~/.local/lib/python3.8/site-packages/pandas/core/ops/array_ops.py\u001b[0m in \u001b[0;36mna_arithmetic_op\u001b[0;34m(left, right, op, is_cmp)\u001b[0m\n\u001b[1;32m    141\u001b[0m \u001b[0;34m\u001b[0m\u001b[0m\n\u001b[1;32m    142\u001b[0m     \u001b[0;32mtry\u001b[0m\u001b[0;34m:\u001b[0m\u001b[0;34m\u001b[0m\u001b[0;34m\u001b[0m\u001b[0m\n\u001b[0;32m--> 143\u001b[0;31m         \u001b[0mresult\u001b[0m \u001b[0;34m=\u001b[0m \u001b[0mexpressions\u001b[0m\u001b[0;34m.\u001b[0m\u001b[0mevaluate\u001b[0m\u001b[0;34m(\u001b[0m\u001b[0mop\u001b[0m\u001b[0;34m,\u001b[0m \u001b[0mleft\u001b[0m\u001b[0;34m,\u001b[0m \u001b[0mright\u001b[0m\u001b[0;34m)\u001b[0m\u001b[0;34m\u001b[0m\u001b[0;34m\u001b[0m\u001b[0m\n\u001b[0m\u001b[1;32m    144\u001b[0m     \u001b[0;32mexcept\u001b[0m \u001b[0mTypeError\u001b[0m\u001b[0;34m:\u001b[0m\u001b[0;34m\u001b[0m\u001b[0;34m\u001b[0m\u001b[0m\n\u001b[1;32m    145\u001b[0m         \u001b[0;32mif\u001b[0m \u001b[0mis_cmp\u001b[0m\u001b[0;34m:\u001b[0m\u001b[0;34m\u001b[0m\u001b[0;34m\u001b[0m\u001b[0m\n",
      "\u001b[0;32m~/.local/lib/python3.8/site-packages/pandas/core/computation/expressions.py\u001b[0m in \u001b[0;36mevaluate\u001b[0;34m(op, a, b, use_numexpr)\u001b[0m\n\u001b[1;32m    231\u001b[0m         \u001b[0muse_numexpr\u001b[0m \u001b[0;34m=\u001b[0m \u001b[0muse_numexpr\u001b[0m \u001b[0;32mand\u001b[0m \u001b[0m_bool_arith_check\u001b[0m\u001b[0;34m(\u001b[0m\u001b[0mop_str\u001b[0m\u001b[0;34m,\u001b[0m \u001b[0ma\u001b[0m\u001b[0;34m,\u001b[0m \u001b[0mb\u001b[0m\u001b[0;34m)\u001b[0m\u001b[0;34m\u001b[0m\u001b[0;34m\u001b[0m\u001b[0m\n\u001b[1;32m    232\u001b[0m         \u001b[0;32mif\u001b[0m \u001b[0muse_numexpr\u001b[0m\u001b[0;34m:\u001b[0m\u001b[0;34m\u001b[0m\u001b[0;34m\u001b[0m\u001b[0m\n\u001b[0;32m--> 233\u001b[0;31m             \u001b[0;32mreturn\u001b[0m \u001b[0m_evaluate\u001b[0m\u001b[0;34m(\u001b[0m\u001b[0mop\u001b[0m\u001b[0;34m,\u001b[0m \u001b[0mop_str\u001b[0m\u001b[0;34m,\u001b[0m \u001b[0ma\u001b[0m\u001b[0;34m,\u001b[0m \u001b[0mb\u001b[0m\u001b[0;34m)\u001b[0m  \u001b[0;31m# type: ignore\u001b[0m\u001b[0;34m\u001b[0m\u001b[0;34m\u001b[0m\u001b[0m\n\u001b[0m\u001b[1;32m    234\u001b[0m     \u001b[0;32mreturn\u001b[0m \u001b[0m_evaluate_standard\u001b[0m\u001b[0;34m(\u001b[0m\u001b[0mop\u001b[0m\u001b[0;34m,\u001b[0m \u001b[0mop_str\u001b[0m\u001b[0;34m,\u001b[0m \u001b[0ma\u001b[0m\u001b[0;34m,\u001b[0m \u001b[0mb\u001b[0m\u001b[0;34m)\u001b[0m\u001b[0;34m\u001b[0m\u001b[0;34m\u001b[0m\u001b[0m\n\u001b[1;32m    235\u001b[0m \u001b[0;34m\u001b[0m\u001b[0m\n",
      "\u001b[0;32m~/.local/lib/python3.8/site-packages/pandas/core/computation/expressions.py\u001b[0m in \u001b[0;36m_evaluate_standard\u001b[0;34m(op, op_str, a, b)\u001b[0m\n\u001b[1;32m     66\u001b[0m         \u001b[0m_store_test_result\u001b[0m\u001b[0;34m(\u001b[0m\u001b[0;32mFalse\u001b[0m\u001b[0;34m)\u001b[0m\u001b[0;34m\u001b[0m\u001b[0;34m\u001b[0m\u001b[0m\n\u001b[1;32m     67\u001b[0m     \u001b[0;32mwith\u001b[0m \u001b[0mnp\u001b[0m\u001b[0;34m.\u001b[0m\u001b[0merrstate\u001b[0m\u001b[0;34m(\u001b[0m\u001b[0mall\u001b[0m\u001b[0;34m=\u001b[0m\u001b[0;34m\"ignore\"\u001b[0m\u001b[0;34m)\u001b[0m\u001b[0;34m:\u001b[0m\u001b[0;34m\u001b[0m\u001b[0;34m\u001b[0m\u001b[0m\n\u001b[0;32m---> 68\u001b[0;31m         \u001b[0;32mreturn\u001b[0m \u001b[0mop\u001b[0m\u001b[0;34m(\u001b[0m\u001b[0ma\u001b[0m\u001b[0;34m,\u001b[0m \u001b[0mb\u001b[0m\u001b[0;34m)\u001b[0m\u001b[0;34m\u001b[0m\u001b[0;34m\u001b[0m\u001b[0m\n\u001b[0m\u001b[1;32m     69\u001b[0m \u001b[0;34m\u001b[0m\u001b[0m\n\u001b[1;32m     70\u001b[0m \u001b[0;34m\u001b[0m\u001b[0m\n",
      "\u001b[0;31mKeyboardInterrupt\u001b[0m: "
     ]
    }
   ],
   "source": [
    "ndcg_values = 0\n",
    "for index, ((_, item_bought), _) in tqdm_notebook(enumerate(train.groupby(['session_id', 'item_bought']))):\n",
    "    ndcg_values += ndcg(predictions[index], item_bought, df_item)"
   ]
  },
  {
   "cell_type": "code",
   "execution_count": 95,
   "metadata": {},
   "outputs": [
    {
     "output_type": "stream",
     "name": "stdout",
     "text": [
      "0\n1748830\n    session_id          event_info               event_timestamp event_type  \\\n0            0             1786148  2019-10-19T11:25:42.444-0400       view   \n1            0             1786148  2019-10-19T11:25:57.487-0400       view   \n2            0  RELOGIO SMARTWATCH  2019-10-19T11:26:07.063-0400     search   \n3            0             1615991  2019-10-19T11:27:26.879-0400       view   \n4            0             1615991  2019-10-19T11:28:36.558-0400       view   \n5            0             1615991  2019-10-19T11:28:40.827-0400       view   \n6            0             1615991  2019-10-19T11:30:42.089-0400       view   \n7            0             1615991  2019-10-19T21:51:29.622-0400       view   \n8            0             1615991  2019-10-19T21:52:09.281-0400       view   \n9            0             1615991  2019-10-19T21:52:41.863-0400       view   \n10           0             1615991  2019-10-19T21:54:16.119-0400       view   \n11           0             1615991  2019-10-19T21:54:40.629-0400       view   \n12           0             1615991  2019-10-19T21:54:57.329-0400       view   \n13           0             1615991  2019-10-19T22:00:04.577-0400       view   \n14           0             1615991  2019-10-20T10:36:47.525-0400       view   \n15           0             1615991  2019-10-20T10:37:23.202-0400       view   \n16           0             1615991  2019-10-20T10:37:47.699-0400       view   \n17           0             1615991  2019-10-20T19:28:14.619-0400       view   \n18           0             1615991  2019-10-20T19:28:41.646-0400       view   \n\n    item_bought  \n0       1748830  \n1       1748830  \n2       1748830  \n3       1748830  \n4       1748830  \n5       1748830  \n6       1748830  \n7       1748830  \n8       1748830  \n9       1748830  \n10      1748830  \n11      1748830  \n12      1748830  \n13      1748830  \n14      1748830  \n15      1748830  \n16      1748830  \n17      1748830  \n18      1748830  \n"
     ]
    }
   ],
   "source": [
    "for (a,b),c in train.groupby(['session_id', 'item_bought']):\n",
    "    print(a)\n",
    "    print(b)\n",
    "    print(c)\n",
    "    break"
   ]
  },
  {
   "cell_type": "code",
   "execution_count": null,
   "metadata": {},
   "outputs": [],
   "source": []
  }
 ],
 "metadata": {
  "kernelspec": {
   "display_name": "Python 3",
   "language": "python3",
   "name": "python3"
  },
  "language_info": {
   "codemirror_mode": {
    "name": "ipython",
    "version": 3
   },
   "file_extension": ".py",
   "mimetype": "text/x-python",
   "name": "python",
   "nbconvert_exporter": "python",
   "pygments_lexer": "ipython3",
   "version": "3.8.5-final"
  }
 },
 "nbformat": 4,
 "nbformat_minor": 4
}