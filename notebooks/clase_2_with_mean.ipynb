{
 "metadata": {
  "language_info": {
   "codemirror_mode": {
    "name": "ipython",
    "version": 3
   },
   "file_extension": ".py",
   "mimetype": "text/x-python",
   "name": "python",
   "nbconvert_exporter": "python",
   "pygments_lexer": "ipython3",
   "version": "3.8.5-final"
  },
  "orig_nbformat": 2,
  "kernelspec": {
   "name": "python3",
   "display_name": "Python 3"
  }
 },
 "nbformat": 4,
 "nbformat_minor": 2,
 "cells": [
  {
   "source": [
    "## Clase 2"
   ],
   "cell_type": "markdown",
   "metadata": {}
  },
  {
   "cell_type": "code",
   "execution_count": 1,
   "metadata": {},
   "outputs": [],
   "source": [
    "import pandas as pd\n",
    "import numpy as np\n",
    "from tqdm import tqdm\n",
    "\n",
    "from sklearn.model_selection import train_test_split\n",
    "from sklearn.linear_model import LinearRegression\n",
    "from sklearn.metrics import mean_squared_error, r2_score"
   ]
  },
  {
   "cell_type": "code",
   "execution_count": 2,
   "metadata": {},
   "outputs": [],
   "source": [
    "df_ratings = pd.read_csv('./data/ratings_train.csv')\n",
    "df_test = pd.read_csv('./data/ratings_test.csv')"
   ]
  },
  {
   "cell_type": "code",
   "execution_count": 3,
   "metadata": {},
   "outputs": [
    {
     "output_type": "execute_result",
     "data": {
      "text/plain": [
       "   ID  userID  movieID  rating  date_day  date_month  date_year  date_hour  \\\n",
       "0   1   51198      608     5.0        17           9       1997         23   \n",
       "1   2   51198      141     4.0        17           9       1997         23   \n",
       "2   3   51198     1073     4.0        17           9       1997         23   \n",
       "3   4   51198      356     4.0        17           9       1997         23   \n",
       "4   5   51198     1198     5.0        17           9       1997         23   \n",
       "\n",
       "   date_minute  date_second  \n",
       "0           40           20  \n",
       "1           41           58  \n",
       "2           41            6  \n",
       "3           43           44  \n",
       "4           44           35  "
      ],
      "text/html": "<div>\n<style scoped>\n    .dataframe tbody tr th:only-of-type {\n        vertical-align: middle;\n    }\n\n    .dataframe tbody tr th {\n        vertical-align: top;\n    }\n\n    .dataframe thead th {\n        text-align: right;\n    }\n</style>\n<table border=\"1\" class=\"dataframe\">\n  <thead>\n    <tr style=\"text-align: right;\">\n      <th></th>\n      <th>ID</th>\n      <th>userID</th>\n      <th>movieID</th>\n      <th>rating</th>\n      <th>date_day</th>\n      <th>date_month</th>\n      <th>date_year</th>\n      <th>date_hour</th>\n      <th>date_minute</th>\n      <th>date_second</th>\n    </tr>\n  </thead>\n  <tbody>\n    <tr>\n      <th>0</th>\n      <td>1</td>\n      <td>51198</td>\n      <td>608</td>\n      <td>5.0</td>\n      <td>17</td>\n      <td>9</td>\n      <td>1997</td>\n      <td>23</td>\n      <td>40</td>\n      <td>20</td>\n    </tr>\n    <tr>\n      <th>1</th>\n      <td>2</td>\n      <td>51198</td>\n      <td>141</td>\n      <td>4.0</td>\n      <td>17</td>\n      <td>9</td>\n      <td>1997</td>\n      <td>23</td>\n      <td>41</td>\n      <td>58</td>\n    </tr>\n    <tr>\n      <th>2</th>\n      <td>3</td>\n      <td>51198</td>\n      <td>1073</td>\n      <td>4.0</td>\n      <td>17</td>\n      <td>9</td>\n      <td>1997</td>\n      <td>23</td>\n      <td>41</td>\n      <td>6</td>\n    </tr>\n    <tr>\n      <th>3</th>\n      <td>4</td>\n      <td>51198</td>\n      <td>356</td>\n      <td>4.0</td>\n      <td>17</td>\n      <td>9</td>\n      <td>1997</td>\n      <td>23</td>\n      <td>43</td>\n      <td>44</td>\n    </tr>\n    <tr>\n      <th>4</th>\n      <td>5</td>\n      <td>51198</td>\n      <td>1198</td>\n      <td>5.0</td>\n      <td>17</td>\n      <td>9</td>\n      <td>1997</td>\n      <td>23</td>\n      <td>44</td>\n      <td>35</td>\n    </tr>\n  </tbody>\n</table>\n</div>"
     },
     "metadata": {},
     "execution_count": 3
    }
   ],
   "source": [
    "df_ratings.head()"
   ]
  },
  {
   "cell_type": "code",
   "execution_count": 4,
   "metadata": {},
   "outputs": [],
   "source": [
    "df_movie_mean = df_ratings.groupby('movieID')['rating'].mean().reset_index()\n",
    "df_movie_mean.rename(columns={'rating': 'mean_rating'}, inplace=True)"
   ]
  },
  {
   "cell_type": "code",
   "execution_count": 5,
   "metadata": {},
   "outputs": [],
   "source": [
    "df_ratings = df_ratings.merge(df_movie_mean, how='left', left_on='movieID', right_on='movieID')\n",
    "df_test = df_test.merge(df_movie_mean, how='left', left_on='movieID', right_on='movieID')"
   ]
  },
  {
   "cell_type": "code",
   "execution_count": 6,
   "metadata": {},
   "outputs": [],
   "source": [
    "df_test.fillna(df_ratings['rating'].mean(), inplace=True)"
   ]
  },
  {
   "cell_type": "code",
   "execution_count": 10,
   "metadata": {},
   "outputs": [
    {
     "output_type": "execute_result",
     "data": {
      "text/plain": [
       "   ID  userID  movieID    rating  date_day  date_month  date_year  date_hour  \\\n",
       "0   9   29202     1608  3.438057        18           9       1997          0   \n",
       "1  18   32283     1485  3.438057        18           9       1997         15   \n",
       "2  34   32283       30  3.438057        18           9       1997         16   \n",
       "3  39   32283     1545  3.438057        18           9       1997         16   \n",
       "4  50   51198     1258  3.438057        20           9       1997          0   \n",
       "\n",
       "   date_minute  date_second  mean_rating  \n",
       "0           53           58     3.055254  \n",
       "1           45           18     3.070827  \n",
       "2           36           38     3.777778  \n",
       "3           47           39     4.000000  \n",
       "4           11           21     3.964068  "
      ],
      "text/html": "<div>\n<style scoped>\n    .dataframe tbody tr th:only-of-type {\n        vertical-align: middle;\n    }\n\n    .dataframe tbody tr th {\n        vertical-align: top;\n    }\n\n    .dataframe thead th {\n        text-align: right;\n    }\n</style>\n<table border=\"1\" class=\"dataframe\">\n  <thead>\n    <tr style=\"text-align: right;\">\n      <th></th>\n      <th>ID</th>\n      <th>userID</th>\n      <th>movieID</th>\n      <th>rating</th>\n      <th>date_day</th>\n      <th>date_month</th>\n      <th>date_year</th>\n      <th>date_hour</th>\n      <th>date_minute</th>\n      <th>date_second</th>\n      <th>mean_rating</th>\n    </tr>\n  </thead>\n  <tbody>\n    <tr>\n      <th>0</th>\n      <td>9</td>\n      <td>29202</td>\n      <td>1608</td>\n      <td>3.438057</td>\n      <td>18</td>\n      <td>9</td>\n      <td>1997</td>\n      <td>0</td>\n      <td>53</td>\n      <td>58</td>\n      <td>3.055254</td>\n    </tr>\n    <tr>\n      <th>1</th>\n      <td>18</td>\n      <td>32283</td>\n      <td>1485</td>\n      <td>3.438057</td>\n      <td>18</td>\n      <td>9</td>\n      <td>1997</td>\n      <td>15</td>\n      <td>45</td>\n      <td>18</td>\n      <td>3.070827</td>\n    </tr>\n    <tr>\n      <th>2</th>\n      <td>34</td>\n      <td>32283</td>\n      <td>30</td>\n      <td>3.438057</td>\n      <td>18</td>\n      <td>9</td>\n      <td>1997</td>\n      <td>16</td>\n      <td>36</td>\n      <td>38</td>\n      <td>3.777778</td>\n    </tr>\n    <tr>\n      <th>3</th>\n      <td>39</td>\n      <td>32283</td>\n      <td>1545</td>\n      <td>3.438057</td>\n      <td>18</td>\n      <td>9</td>\n      <td>1997</td>\n      <td>16</td>\n      <td>47</td>\n      <td>39</td>\n      <td>4.000000</td>\n    </tr>\n    <tr>\n      <th>4</th>\n      <td>50</td>\n      <td>51198</td>\n      <td>1258</td>\n      <td>3.438057</td>\n      <td>20</td>\n      <td>9</td>\n      <td>1997</td>\n      <td>0</td>\n      <td>11</td>\n      <td>21</td>\n      <td>3.964068</td>\n    </tr>\n  </tbody>\n</table>\n</div>"
     },
     "metadata": {},
     "execution_count": 10
    }
   ],
   "source": [
    "df_test.head()"
   ]
  },
  {
   "cell_type": "code",
   "execution_count": 7,
   "metadata": {},
   "outputs": [],
   "source": [
    "df_ratings.to_csv('./data/ratings_train_with_mean.csv', index=False)\n",
    "df_test.to_csv('./data/ratings_test_with_mean.csv', index=False)"
   ]
  },
  {
   "cell_type": "code",
   "execution_count": 24,
   "metadata": {},
   "outputs": [
    {
     "output_type": "stream",
     "name": "stdout",
     "text": [
      "Linear regression:  0.7585420067199617\nLinear regression R2:  0.2474867592723371\n"
     ]
    }
   ],
   "source": [
    "# Separo mi train & test\n",
    "X_train, X_test, y_train, y_test =\\\n",
    "    train_test_split(df_ratings.drop(['rating', 'ID'], axis=1), df_ratings.rating, test_size=0.3, random_state=0)\n",
    "\n",
    "# Entrenamiento regresion lineal\n",
    "model = LinearRegression()\n",
    "model.fit(X_train, y_train)\n",
    "y_predicted = model.predict(X_test)\n",
    "scores = model.score(X_test, y_test)\n",
    "print(\"Linear regression: \", mean_squared_error(y_test, y_predicted))\n",
    "print(\"Linear regression R2: \", r2_score(y_test, y_predicted))"
   ]
  },
  {
   "cell_type": "code",
   "execution_count": 25,
   "metadata": {},
   "outputs": [],
   "source": [
    "model.fit(df_ratings.drop(['rating', 'ID'], axis=1), df_ratings.rating)\n",
    "prediction = model.predict(df_test.drop(['rating', 'ID', 'rating'], axis=1))\n",
    "submission = pd.DataFrame(\n",
    "        {'ID': df_test.ID, 'rating': np.around(prediction, 2)})\n",
    "submission.to_csv('./submission_mean_rating.csv', index=False)"
   ]
  },
  {
   "cell_type": "code",
   "execution_count": null,
   "metadata": {},
   "outputs": [],
   "source": []
  }
 ]
}