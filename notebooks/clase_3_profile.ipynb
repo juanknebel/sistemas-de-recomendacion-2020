{
 "metadata": {
  "language_info": {
   "codemirror_mode": {
    "name": "ipython",
    "version": 3
   },
   "file_extension": ".py",
   "mimetype": "text/x-python",
   "name": "python",
   "nbconvert_exporter": "python",
   "pygments_lexer": "ipython3",
   "version": "3.8.5-final"
  },
  "orig_nbformat": 2,
  "kernelspec": {
   "name": "python3",
   "display_name": "Python 3"
  }
 },
 "nbformat": 4,
 "nbformat_minor": 2,
 "cells": [
  {
   "cell_type": "code",
   "execution_count": 1,
   "metadata": {},
   "outputs": [],
   "source": [
    "import pandas as pd\n",
    "from pandasgui import show\n",
    "import numpy as np\n",
    "from tqdm import tqdm\n",
    "\n",
    "from sklearn.model_selection import train_test_split\n",
    "from sklearn.linear_model import LinearRegression\n",
    "import xgboost as xgb\n",
    "from sklearn.metrics import mean_squared_error, r2_score, confusion_matrix,\\\n",
    "    classification_report, plot_roc_curve, auc\n",
    "from sklearn.impute import SimpleImputer\n",
    "\n",
    "import matplotlib.pyplot as plt\n",
    "\n",
    "import warnings\n",
    "warnings.filterwarnings(\"ignore\")"
   ]
  },
  {
   "cell_type": "code",
   "execution_count": 2,
   "metadata": {},
   "outputs": [],
   "source": [
    "df_actors = pd.read_csv('./data/movie_actors.csv')\n",
    "df_countries = pd.read_csv('./data/movie_countries.csv')\n",
    "df_directors = pd.read_csv('./data/movie_directors.csv')\n",
    "df_genres = pd.read_csv('./data/movie_genres.csv')\n",
    "df_imdb = pd.read_csv('./data/movie_imdb.csv')\n",
    "df_locations = pd.read_csv('./data/movie_locations.csv')\n",
    "df_tags = pd.read_csv('./data/movie_tags.csv')\n",
    "df_rottem = pd.read_csv('./data/movies_rt.csv')\n",
    "df_movies = pd.read_csv('./data/movies.csv')\n",
    "df_ratings = pd.read_csv('./data/ratings_train.csv')\n",
    "df_profile = pd.read_csv('./data/profile_by_user.csv')\n",
    "\n",
    "df_test = pd.read_csv('./data/ratings_test.csv')\n"
   ]
  },
  {
   "cell_type": "code",
   "execution_count": 3,
   "metadata": {},
   "outputs": [
    {
     "output_type": "execute_result",
     "data": {
      "text/plain": [
       "   id                        title  year  imdbID                         rtID\n",
       "0   1                    Toy story  1995  114709                    toy_story\n",
       "1   2                      Jumanji  1995  113497              1068044-jumanji\n",
       "2   3               Grumpy Old Men  1993  107050               grumpy_old_men\n",
       "3   4            Waiting to Exhale  1995  114885            waiting_to_exhale\n",
       "4   5  Father of the Bride Part II  1995  113041  father_of_the_bride_part_ii"
      ],
      "text/html": "<div>\n<style scoped>\n    .dataframe tbody tr th:only-of-type {\n        vertical-align: middle;\n    }\n\n    .dataframe tbody tr th {\n        vertical-align: top;\n    }\n\n    .dataframe thead th {\n        text-align: right;\n    }\n</style>\n<table border=\"1\" class=\"dataframe\">\n  <thead>\n    <tr style=\"text-align: right;\">\n      <th></th>\n      <th>id</th>\n      <th>title</th>\n      <th>year</th>\n      <th>imdbID</th>\n      <th>rtID</th>\n    </tr>\n  </thead>\n  <tbody>\n    <tr>\n      <th>0</th>\n      <td>1</td>\n      <td>Toy story</td>\n      <td>1995</td>\n      <td>114709</td>\n      <td>toy_story</td>\n    </tr>\n    <tr>\n      <th>1</th>\n      <td>2</td>\n      <td>Jumanji</td>\n      <td>1995</td>\n      <td>113497</td>\n      <td>1068044-jumanji</td>\n    </tr>\n    <tr>\n      <th>2</th>\n      <td>3</td>\n      <td>Grumpy Old Men</td>\n      <td>1993</td>\n      <td>107050</td>\n      <td>grumpy_old_men</td>\n    </tr>\n    <tr>\n      <th>3</th>\n      <td>4</td>\n      <td>Waiting to Exhale</td>\n      <td>1995</td>\n      <td>114885</td>\n      <td>waiting_to_exhale</td>\n    </tr>\n    <tr>\n      <th>4</th>\n      <td>5</td>\n      <td>Father of the Bride Part II</td>\n      <td>1995</td>\n      <td>113041</td>\n      <td>father_of_the_bride_part_ii</td>\n    </tr>\n  </tbody>\n</table>\n</div>"
     },
     "metadata": {},
     "execution_count": 3
    }
   ],
   "source": [
    "df_movies.head()"
   ]
  },
  {
   "cell_type": "code",
   "execution_count": 4,
   "metadata": {},
   "outputs": [],
   "source": [
    "list_of_genres = df_genres.genre.unique().tolist()\n",
    "list_of_genres.sort()\n",
    "df_genres['value'] = 1\n",
    "df_genres = df_genres.pivot(index='movieID', columns='genre', values='value').fillna(0).rename_axis(columns = None).reset_index()"
   ]
  },
  {
   "cell_type": "code",
   "execution_count": 5,
   "metadata": {},
   "outputs": [],
   "source": [
    "df_movies = df_movies.merge(df_genres, left_on='id', right_on='movieID')"
   ]
  },
  {
   "cell_type": "code",
   "execution_count": 6,
   "metadata": {},
   "outputs": [
    {
     "output_type": "execute_result",
     "data": {
      "text/plain": [
       "          id                        title  year   imdbID  \\\n",
       "0          1                    Toy story  1995   114709   \n",
       "1          2                      Jumanji  1995   113497   \n",
       "2          3               Grumpy Old Men  1993   107050   \n",
       "3          4            Waiting to Exhale  1995   114885   \n",
       "4          5  Father of the Bride Part II  1995   113041   \n",
       "...      ...                          ...   ...      ...   \n",
       "10192  65088              Bedtime Stories  2008   960731   \n",
       "10193  65091          Manhattan Melodrama  1934    25464   \n",
       "10194  65126                        Choke  2008  1024715   \n",
       "10195  65130           Revolutionary Road  2008   959337   \n",
       "10196  65133      Blackadder Back & Forth  1999   212579   \n",
       "\n",
       "                              rtID  movieID  Action  Adventure  Animation  \\\n",
       "0                        toy_story        1     0.0        1.0        1.0   \n",
       "1                  1068044-jumanji        2     0.0        1.0        0.0   \n",
       "2                   grumpy_old_men        3     0.0        0.0        0.0   \n",
       "3                waiting_to_exhale        4     0.0        0.0        0.0   \n",
       "4      father_of_the_bride_part_ii        5     0.0        0.0        0.0   \n",
       "...                            ...      ...     ...        ...        ...   \n",
       "10192              bedtime_stories    65088     0.0        1.0        0.0   \n",
       "10193          manhattan_melodrama    65091     0.0        0.0        0.0   \n",
       "10194                        choke    65126     0.0        0.0        0.0   \n",
       "10195           revolutionary_road    65130     0.0        0.0        0.0   \n",
       "10196        blackadder-back-forth    65133     0.0        0.0        0.0   \n",
       "\n",
       "       Children  ...  Horror  IMAX  Musical  Mystery  Romance  Sci-Fi  Short  \\\n",
       "0           1.0  ...     0.0   0.0      0.0      0.0      0.0     0.0    0.0   \n",
       "1           1.0  ...     0.0   0.0      0.0      0.0      0.0     0.0    0.0   \n",
       "2           0.0  ...     0.0   0.0      0.0      0.0      1.0     0.0    0.0   \n",
       "3           0.0  ...     0.0   0.0      0.0      0.0      1.0     0.0    0.0   \n",
       "4           0.0  ...     0.0   0.0      0.0      0.0      0.0     0.0    0.0   \n",
       "...         ...  ...     ...   ...      ...      ...      ...     ...    ...   \n",
       "10192       1.0  ...     0.0   0.0      0.0      0.0      0.0     0.0    0.0   \n",
       "10193       0.0  ...     0.0   0.0      0.0      0.0      1.0     0.0    0.0   \n",
       "10194       0.0  ...     0.0   0.0      0.0      0.0      0.0     0.0    0.0   \n",
       "10195       0.0  ...     0.0   0.0      0.0      0.0      1.0     0.0    0.0   \n",
       "10196       0.0  ...     0.0   0.0      0.0      0.0      0.0     0.0    0.0   \n",
       "\n",
       "       Thriller  War  Western  \n",
       "0           0.0  0.0      0.0  \n",
       "1           0.0  0.0      0.0  \n",
       "2           0.0  0.0      0.0  \n",
       "3           0.0  0.0      0.0  \n",
       "4           0.0  0.0      0.0  \n",
       "...         ...  ...      ...  \n",
       "10192       0.0  0.0      0.0  \n",
       "10193       0.0  0.0      0.0  \n",
       "10194       0.0  0.0      0.0  \n",
       "10195       0.0  0.0      0.0  \n",
       "10196       0.0  0.0      0.0  \n",
       "\n",
       "[10197 rows x 26 columns]"
      ],
      "text/html": "<div>\n<style scoped>\n    .dataframe tbody tr th:only-of-type {\n        vertical-align: middle;\n    }\n\n    .dataframe tbody tr th {\n        vertical-align: top;\n    }\n\n    .dataframe thead th {\n        text-align: right;\n    }\n</style>\n<table border=\"1\" class=\"dataframe\">\n  <thead>\n    <tr style=\"text-align: right;\">\n      <th></th>\n      <th>id</th>\n      <th>title</th>\n      <th>year</th>\n      <th>imdbID</th>\n      <th>rtID</th>\n      <th>movieID</th>\n      <th>Action</th>\n      <th>Adventure</th>\n      <th>Animation</th>\n      <th>Children</th>\n      <th>...</th>\n      <th>Horror</th>\n      <th>IMAX</th>\n      <th>Musical</th>\n      <th>Mystery</th>\n      <th>Romance</th>\n      <th>Sci-Fi</th>\n      <th>Short</th>\n      <th>Thriller</th>\n      <th>War</th>\n      <th>Western</th>\n    </tr>\n  </thead>\n  <tbody>\n    <tr>\n      <th>0</th>\n      <td>1</td>\n      <td>Toy story</td>\n      <td>1995</td>\n      <td>114709</td>\n      <td>toy_story</td>\n      <td>1</td>\n      <td>0.0</td>\n      <td>1.0</td>\n      <td>1.0</td>\n      <td>1.0</td>\n      <td>...</td>\n      <td>0.0</td>\n      <td>0.0</td>\n      <td>0.0</td>\n      <td>0.0</td>\n      <td>0.0</td>\n      <td>0.0</td>\n      <td>0.0</td>\n      <td>0.0</td>\n      <td>0.0</td>\n      <td>0.0</td>\n    </tr>\n    <tr>\n      <th>1</th>\n      <td>2</td>\n      <td>Jumanji</td>\n      <td>1995</td>\n      <td>113497</td>\n      <td>1068044-jumanji</td>\n      <td>2</td>\n      <td>0.0</td>\n      <td>1.0</td>\n      <td>0.0</td>\n      <td>1.0</td>\n      <td>...</td>\n      <td>0.0</td>\n      <td>0.0</td>\n      <td>0.0</td>\n      <td>0.0</td>\n      <td>0.0</td>\n      <td>0.0</td>\n      <td>0.0</td>\n      <td>0.0</td>\n      <td>0.0</td>\n      <td>0.0</td>\n    </tr>\n    <tr>\n      <th>2</th>\n      <td>3</td>\n      <td>Grumpy Old Men</td>\n      <td>1993</td>\n      <td>107050</td>\n      <td>grumpy_old_men</td>\n      <td>3</td>\n      <td>0.0</td>\n      <td>0.0</td>\n      <td>0.0</td>\n      <td>0.0</td>\n      <td>...</td>\n      <td>0.0</td>\n      <td>0.0</td>\n      <td>0.0</td>\n      <td>0.0</td>\n      <td>1.0</td>\n      <td>0.0</td>\n      <td>0.0</td>\n      <td>0.0</td>\n      <td>0.0</td>\n      <td>0.0</td>\n    </tr>\n    <tr>\n      <th>3</th>\n      <td>4</td>\n      <td>Waiting to Exhale</td>\n      <td>1995</td>\n      <td>114885</td>\n      <td>waiting_to_exhale</td>\n      <td>4</td>\n      <td>0.0</td>\n      <td>0.0</td>\n      <td>0.0</td>\n      <td>0.0</td>\n      <td>...</td>\n      <td>0.0</td>\n      <td>0.0</td>\n      <td>0.0</td>\n      <td>0.0</td>\n      <td>1.0</td>\n      <td>0.0</td>\n      <td>0.0</td>\n      <td>0.0</td>\n      <td>0.0</td>\n      <td>0.0</td>\n    </tr>\n    <tr>\n      <th>4</th>\n      <td>5</td>\n      <td>Father of the Bride Part II</td>\n      <td>1995</td>\n      <td>113041</td>\n      <td>father_of_the_bride_part_ii</td>\n      <td>5</td>\n      <td>0.0</td>\n      <td>0.0</td>\n      <td>0.0</td>\n      <td>0.0</td>\n      <td>...</td>\n      <td>0.0</td>\n      <td>0.0</td>\n      <td>0.0</td>\n      <td>0.0</td>\n      <td>0.0</td>\n      <td>0.0</td>\n      <td>0.0</td>\n      <td>0.0</td>\n      <td>0.0</td>\n      <td>0.0</td>\n    </tr>\n    <tr>\n      <th>...</th>\n      <td>...</td>\n      <td>...</td>\n      <td>...</td>\n      <td>...</td>\n      <td>...</td>\n      <td>...</td>\n      <td>...</td>\n      <td>...</td>\n      <td>...</td>\n      <td>...</td>\n      <td>...</td>\n      <td>...</td>\n      <td>...</td>\n      <td>...</td>\n      <td>...</td>\n      <td>...</td>\n      <td>...</td>\n      <td>...</td>\n      <td>...</td>\n      <td>...</td>\n      <td>...</td>\n    </tr>\n    <tr>\n      <th>10192</th>\n      <td>65088</td>\n      <td>Bedtime Stories</td>\n      <td>2008</td>\n      <td>960731</td>\n      <td>bedtime_stories</td>\n      <td>65088</td>\n      <td>0.0</td>\n      <td>1.0</td>\n      <td>0.0</td>\n      <td>1.0</td>\n      <td>...</td>\n      <td>0.0</td>\n      <td>0.0</td>\n      <td>0.0</td>\n      <td>0.0</td>\n      <td>0.0</td>\n      <td>0.0</td>\n      <td>0.0</td>\n      <td>0.0</td>\n      <td>0.0</td>\n      <td>0.0</td>\n    </tr>\n    <tr>\n      <th>10193</th>\n      <td>65091</td>\n      <td>Manhattan Melodrama</td>\n      <td>1934</td>\n      <td>25464</td>\n      <td>manhattan_melodrama</td>\n      <td>65091</td>\n      <td>0.0</td>\n      <td>0.0</td>\n      <td>0.0</td>\n      <td>0.0</td>\n      <td>...</td>\n      <td>0.0</td>\n      <td>0.0</td>\n      <td>0.0</td>\n      <td>0.0</td>\n      <td>1.0</td>\n      <td>0.0</td>\n      <td>0.0</td>\n      <td>0.0</td>\n      <td>0.0</td>\n      <td>0.0</td>\n    </tr>\n    <tr>\n      <th>10194</th>\n      <td>65126</td>\n      <td>Choke</td>\n      <td>2008</td>\n      <td>1024715</td>\n      <td>choke</td>\n      <td>65126</td>\n      <td>0.0</td>\n      <td>0.0</td>\n      <td>0.0</td>\n      <td>0.0</td>\n      <td>...</td>\n      <td>0.0</td>\n      <td>0.0</td>\n      <td>0.0</td>\n      <td>0.0</td>\n      <td>0.0</td>\n      <td>0.0</td>\n      <td>0.0</td>\n      <td>0.0</td>\n      <td>0.0</td>\n      <td>0.0</td>\n    </tr>\n    <tr>\n      <th>10195</th>\n      <td>65130</td>\n      <td>Revolutionary Road</td>\n      <td>2008</td>\n      <td>959337</td>\n      <td>revolutionary_road</td>\n      <td>65130</td>\n      <td>0.0</td>\n      <td>0.0</td>\n      <td>0.0</td>\n      <td>0.0</td>\n      <td>...</td>\n      <td>0.0</td>\n      <td>0.0</td>\n      <td>0.0</td>\n      <td>0.0</td>\n      <td>1.0</td>\n      <td>0.0</td>\n      <td>0.0</td>\n      <td>0.0</td>\n      <td>0.0</td>\n      <td>0.0</td>\n    </tr>\n    <tr>\n      <th>10196</th>\n      <td>65133</td>\n      <td>Blackadder Back &amp; Forth</td>\n      <td>1999</td>\n      <td>212579</td>\n      <td>blackadder-back-forth</td>\n      <td>65133</td>\n      <td>0.0</td>\n      <td>0.0</td>\n      <td>0.0</td>\n      <td>0.0</td>\n      <td>...</td>\n      <td>0.0</td>\n      <td>0.0</td>\n      <td>0.0</td>\n      <td>0.0</td>\n      <td>0.0</td>\n      <td>0.0</td>\n      <td>0.0</td>\n      <td>0.0</td>\n      <td>0.0</td>\n      <td>0.0</td>\n    </tr>\n  </tbody>\n</table>\n<p>10197 rows × 26 columns</p>\n</div>"
     },
     "metadata": {},
     "execution_count": 6
    }
   ],
   "source": [
    "df_movies"
   ]
  },
  {
   "cell_type": "code",
   "execution_count": 7,
   "metadata": {},
   "outputs": [
    {
     "output_type": "stream",
     "name": "stderr",
     "text": [
      "100%|██████████| 2113/2113 [31:59<00:00,  1.10it/s]\n"
     ]
    }
   ],
   "source": [
    "list_of_user_movie_similarity = []\n",
    "for user_id, group in tqdm(df_ratings.groupby('userID')):\n",
    "    for index, row in group.iterrows():\n",
    "        user_movie_similarity = dict()\n",
    "        profile = df_profile.loc[df_profile.userID == user_id][list_of_genres].values[0]\n",
    "        movie = df_movies.query(\"id == {}\".format(row.movieID))[list_of_genres].values[0]\n",
    "        similarity = np.dot(movie, profile) / (np.linalg.norm(movie) * np.linalg.norm(profile))\n",
    "        user_movie_similarity['userID'] = user_id\n",
    "        user_movie_similarity['movieID'] = row.movieID\n",
    "        user_movie_similarity['similarity'] = similarity\n",
    "        list_of_user_movie_similarity.append(user_movie_similarity)\n",
    "df_user_movie_similarity = pd.DataFrame(list_of_user_movie_similarity)"
   ]
  },
  {
   "cell_type": "code",
   "execution_count": 8,
   "metadata": {},
   "outputs": [
    {
     "output_type": "execute_result",
     "data": {
      "text/plain": [
       "   ID  userID  movieID  rating  date_day  date_month  date_year  date_hour  \\\n",
       "0   1   51198      608     5.0        17           9       1997         23   \n",
       "1   2   51198      141     4.0        17           9       1997         23   \n",
       "2   3   51198     1073     4.0        17           9       1997         23   \n",
       "3   4   51198      356     4.0        17           9       1997         23   \n",
       "4   5   51198     1198     5.0        17           9       1997         23   \n",
       "\n",
       "   date_minute  date_second  similarity  \n",
       "0           40           20    0.467004  \n",
       "1           41           58    0.221270  \n",
       "2           41            6    0.451960  \n",
       "3           43           44    0.460080  \n",
       "4           44           35    0.317708  "
      ],
      "text/html": "<div>\n<style scoped>\n    .dataframe tbody tr th:only-of-type {\n        vertical-align: middle;\n    }\n\n    .dataframe tbody tr th {\n        vertical-align: top;\n    }\n\n    .dataframe thead th {\n        text-align: right;\n    }\n</style>\n<table border=\"1\" class=\"dataframe\">\n  <thead>\n    <tr style=\"text-align: right;\">\n      <th></th>\n      <th>ID</th>\n      <th>userID</th>\n      <th>movieID</th>\n      <th>rating</th>\n      <th>date_day</th>\n      <th>date_month</th>\n      <th>date_year</th>\n      <th>date_hour</th>\n      <th>date_minute</th>\n      <th>date_second</th>\n      <th>similarity</th>\n    </tr>\n  </thead>\n  <tbody>\n    <tr>\n      <th>0</th>\n      <td>1</td>\n      <td>51198</td>\n      <td>608</td>\n      <td>5.0</td>\n      <td>17</td>\n      <td>9</td>\n      <td>1997</td>\n      <td>23</td>\n      <td>40</td>\n      <td>20</td>\n      <td>0.467004</td>\n    </tr>\n    <tr>\n      <th>1</th>\n      <td>2</td>\n      <td>51198</td>\n      <td>141</td>\n      <td>4.0</td>\n      <td>17</td>\n      <td>9</td>\n      <td>1997</td>\n      <td>23</td>\n      <td>41</td>\n      <td>58</td>\n      <td>0.221270</td>\n    </tr>\n    <tr>\n      <th>2</th>\n      <td>3</td>\n      <td>51198</td>\n      <td>1073</td>\n      <td>4.0</td>\n      <td>17</td>\n      <td>9</td>\n      <td>1997</td>\n      <td>23</td>\n      <td>41</td>\n      <td>6</td>\n      <td>0.451960</td>\n    </tr>\n    <tr>\n      <th>3</th>\n      <td>4</td>\n      <td>51198</td>\n      <td>356</td>\n      <td>4.0</td>\n      <td>17</td>\n      <td>9</td>\n      <td>1997</td>\n      <td>23</td>\n      <td>43</td>\n      <td>44</td>\n      <td>0.460080</td>\n    </tr>\n    <tr>\n      <th>4</th>\n      <td>5</td>\n      <td>51198</td>\n      <td>1198</td>\n      <td>5.0</td>\n      <td>17</td>\n      <td>9</td>\n      <td>1997</td>\n      <td>23</td>\n      <td>44</td>\n      <td>35</td>\n      <td>0.317708</td>\n    </tr>\n  </tbody>\n</table>\n</div>"
     },
     "metadata": {},
     "execution_count": 8
    }
   ],
   "source": [
    "df_ratings = df_ratings.merge(df_user_movie_similarity, left_on=['userID', 'movieID'], right_on=['userID', 'movieID'])\n",
    "df_ratings.to_csv('./data/ratings_train_similarity.csv', index=False)\n",
    "df_ratings.head()"
   ]
  },
  {
   "cell_type": "code",
   "execution_count": 9,
   "metadata": {},
   "outputs": [
    {
     "output_type": "stream",
     "name": "stderr",
     "text": [
      "100%|██████████| 2103/2103 [03:26<00:00, 10.20it/s]\n"
     ]
    }
   ],
   "source": [
    "list_of_user_movie_similarity = []\n",
    "for user_id, group in tqdm(df_test.groupby('userID')):\n",
    "    for index, row in group.iterrows():\n",
    "        user_movie_similarity = dict()\n",
    "        profile = df_profile.loc[df_profile.userID == user_id][list_of_genres].values[0]\n",
    "        movie = df_movies.query(\"id == {}\".format(row.movieID))[list_of_genres].values[0]\n",
    "        similarity = np.dot(movie, profile) / (np.linalg.norm(movie) * np.linalg.norm(profile))\n",
    "        user_movie_similarity['userID'] = user_id\n",
    "        user_movie_similarity['movieID'] = row.movieID\n",
    "        user_movie_similarity['similarity'] = similarity\n",
    "        list_of_user_movie_similarity.append(user_movie_similarity)\n",
    "df_user_movie_similarity = pd.DataFrame(list_of_user_movie_similarity)"
   ]
  },
  {
   "cell_type": "code",
   "execution_count": 10,
   "metadata": {},
   "outputs": [
    {
     "output_type": "execute_result",
     "data": {
      "text/plain": [
       "   userID  movieID  similarity\n",
       "0      75    920.0    0.416550\n",
       "1      75    173.0    0.463611\n",
       "2      75  32587.0    0.423715\n",
       "3      75  45431.0    0.452658\n",
       "4      75   1370.0    0.453020"
      ],
      "text/html": "<div>\n<style scoped>\n    .dataframe tbody tr th:only-of-type {\n        vertical-align: middle;\n    }\n\n    .dataframe tbody tr th {\n        vertical-align: top;\n    }\n\n    .dataframe thead th {\n        text-align: right;\n    }\n</style>\n<table border=\"1\" class=\"dataframe\">\n  <thead>\n    <tr style=\"text-align: right;\">\n      <th></th>\n      <th>userID</th>\n      <th>movieID</th>\n      <th>similarity</th>\n    </tr>\n  </thead>\n  <tbody>\n    <tr>\n      <th>0</th>\n      <td>75</td>\n      <td>920.0</td>\n      <td>0.416550</td>\n    </tr>\n    <tr>\n      <th>1</th>\n      <td>75</td>\n      <td>173.0</td>\n      <td>0.463611</td>\n    </tr>\n    <tr>\n      <th>2</th>\n      <td>75</td>\n      <td>32587.0</td>\n      <td>0.423715</td>\n    </tr>\n    <tr>\n      <th>3</th>\n      <td>75</td>\n      <td>45431.0</td>\n      <td>0.452658</td>\n    </tr>\n    <tr>\n      <th>4</th>\n      <td>75</td>\n      <td>1370.0</td>\n      <td>0.453020</td>\n    </tr>\n  </tbody>\n</table>\n</div>"
     },
     "metadata": {},
     "execution_count": 10
    }
   ],
   "source": [
    "df_user_movie_similarity.head()"
   ]
  },
  {
   "cell_type": "code",
   "execution_count": 11,
   "metadata": {},
   "outputs": [
    {
     "output_type": "execute_result",
     "data": {
      "text/plain": [
       "   ID  userID  movieID  rating  date_day  date_month  date_year  date_hour  \\\n",
       "0   9   29202     1608     NaN        18           9       1997          0   \n",
       "1  18   32283     1485     NaN        18           9       1997         15   \n",
       "2  34   32283       30     NaN        18           9       1997         16   \n",
       "3  39   32283     1545     NaN        18           9       1997         16   \n",
       "4  50   51198     1258     NaN        20           9       1997          0   \n",
       "\n",
       "   date_minute  date_second  similarity  \n",
       "0           53           58    0.324408  \n",
       "1           45           18    0.217213  \n",
       "2           36           38    0.324625  \n",
       "3           47           39    0.231302  \n",
       "4           11           21    0.309244  "
      ],
      "text/html": "<div>\n<style scoped>\n    .dataframe tbody tr th:only-of-type {\n        vertical-align: middle;\n    }\n\n    .dataframe tbody tr th {\n        vertical-align: top;\n    }\n\n    .dataframe thead th {\n        text-align: right;\n    }\n</style>\n<table border=\"1\" class=\"dataframe\">\n  <thead>\n    <tr style=\"text-align: right;\">\n      <th></th>\n      <th>ID</th>\n      <th>userID</th>\n      <th>movieID</th>\n      <th>rating</th>\n      <th>date_day</th>\n      <th>date_month</th>\n      <th>date_year</th>\n      <th>date_hour</th>\n      <th>date_minute</th>\n      <th>date_second</th>\n      <th>similarity</th>\n    </tr>\n  </thead>\n  <tbody>\n    <tr>\n      <th>0</th>\n      <td>9</td>\n      <td>29202</td>\n      <td>1608</td>\n      <td>NaN</td>\n      <td>18</td>\n      <td>9</td>\n      <td>1997</td>\n      <td>0</td>\n      <td>53</td>\n      <td>58</td>\n      <td>0.324408</td>\n    </tr>\n    <tr>\n      <th>1</th>\n      <td>18</td>\n      <td>32283</td>\n      <td>1485</td>\n      <td>NaN</td>\n      <td>18</td>\n      <td>9</td>\n      <td>1997</td>\n      <td>15</td>\n      <td>45</td>\n      <td>18</td>\n      <td>0.217213</td>\n    </tr>\n    <tr>\n      <th>2</th>\n      <td>34</td>\n      <td>32283</td>\n      <td>30</td>\n      <td>NaN</td>\n      <td>18</td>\n      <td>9</td>\n      <td>1997</td>\n      <td>16</td>\n      <td>36</td>\n      <td>38</td>\n      <td>0.324625</td>\n    </tr>\n    <tr>\n      <th>3</th>\n      <td>39</td>\n      <td>32283</td>\n      <td>1545</td>\n      <td>NaN</td>\n      <td>18</td>\n      <td>9</td>\n      <td>1997</td>\n      <td>16</td>\n      <td>47</td>\n      <td>39</td>\n      <td>0.231302</td>\n    </tr>\n    <tr>\n      <th>4</th>\n      <td>50</td>\n      <td>51198</td>\n      <td>1258</td>\n      <td>NaN</td>\n      <td>20</td>\n      <td>9</td>\n      <td>1997</td>\n      <td>0</td>\n      <td>11</td>\n      <td>21</td>\n      <td>0.309244</td>\n    </tr>\n  </tbody>\n</table>\n</div>"
     },
     "metadata": {},
     "execution_count": 11
    }
   ],
   "source": [
    "df_test = df_test.merge(df_user_movie_similarity, left_on=['userID', 'movieID'], right_on=['userID', 'movieID'])\n",
    "df_test.to_csv('./data/ratings_test_similarity.csv', index=False)\n",
    "df_test.head()"
   ]
  },
  {
   "cell_type": "code",
   "execution_count": 130,
   "metadata": {},
   "outputs": [
    {
     "output_type": "stream",
     "name": "stdout",
     "text": [
      "Linear regression:  0.994783422093942\nLinear regression R2:  0.013122951464400345\n"
     ]
    }
   ],
   "source": [
    "# Separo mi train & test\n",
    "X_train, X_test, y_train, y_test =\\\n",
    "    train_test_split(df_ratings.drop(['rating', 'ID'], axis=1), df_ratings.rating, test_size=0.3, random_state=0)\n",
    "\n",
    "# Entrenamiento regresion lineal\n",
    "model = LinearRegression()\n",
    "model.fit(X_train, y_train)\n",
    "y_predicted = model.predict(X_test)\n",
    "scores = model.score(X_test, y_test)\n",
    "print(\"Linear regression: \", mean_squared_error(y_test, y_predicted))\n",
    "print(\"Linear regression R2: \", r2_score(y_test, y_predicted))"
   ]
  },
  {
   "cell_type": "code",
   "execution_count": 131,
   "metadata": {},
   "outputs": [],
   "source": [
    "model.fit(df_ratings.drop(['rating', 'ID'], axis=1), df_ratings.rating)\n",
    "prediction = model.predict(df_test.drop(['rating', 'ID', 'rating'], axis=1))\n",
    "submission = pd.DataFrame(\n",
    "        {'ID': df_test.ID, 'rating': np.around(prediction, 2)})\n",
    "submission.to_csv('./submission_similarity.csv', index=False)\n",
    "# kaggle competitions submit -c recomendacion-de-peliculas-fcen-2020 -f notebooks/submission_similarity.csv -m \"Con similaridad\""
   ]
  },
  {
   "cell_type": "code",
   "execution_count": null,
   "metadata": {},
   "outputs": [],
   "source": []
  }
 ]
}