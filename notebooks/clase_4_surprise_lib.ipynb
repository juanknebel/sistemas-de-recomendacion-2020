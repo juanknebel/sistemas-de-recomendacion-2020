{
 "metadata": {
  "language_info": {
   "codemirror_mode": {
    "name": "ipython",
    "version": 3
   },
   "file_extension": ".py",
   "mimetype": "text/x-python",
   "name": "python",
   "nbconvert_exporter": "python",
   "pygments_lexer": "ipython3",
   "version": "3.8.5-final"
  },
  "orig_nbformat": 2,
  "kernelspec": {
   "name": "python3",
   "display_name": "Python 3"
  }
 },
 "nbformat": 4,
 "nbformat_minor": 2,
 "cells": [
  {
   "source": [
    "## Surprise Lib"
   ],
   "cell_type": "markdown",
   "metadata": {}
  },
  {
   "cell_type": "code",
   "execution_count": 2,
   "metadata": {},
   "outputs": [],
   "source": [
    "import pandas as pd\n",
    "import surprise as sp\n",
    "import numpy as np"
   ]
  },
  {
   "cell_type": "code",
   "execution_count": 3,
   "metadata": {},
   "outputs": [],
   "source": [
    "df_actors = pd.read_csv('./data/movie_actors.csv')\n",
    "df_countries = pd.read_csv('./data/movie_countries.csv')\n",
    "df_directors = pd.read_csv('./data/movie_directors.csv')\n",
    "df_genres = pd.read_csv('./data/movie_genres.csv')\n",
    "df_imdb = pd.read_csv('./data/movie_imdb.csv')\n",
    "df_locations = pd.read_csv('./data/movie_locations.csv')\n",
    "df_tags = pd.read_csv('./data/movie_tags.csv')\n",
    "df_rottem = pd.read_csv('./data/movies_rt.csv')\n",
    "df_movies = pd.read_csv('./data/movies.csv')\n",
    "df_ratings = pd.read_csv('./data/ratings_train.csv')\n",
    "df_profile = pd.read_csv('./data/profile_by_user.csv')\n",
    "\n",
    "df_test = pd.read_csv('./data/ratings_test.csv')"
   ]
  },
  {
   "cell_type": "code",
   "execution_count": 5,
   "metadata": {},
   "outputs": [
    {
     "output_type": "execute_result",
     "data": {
      "text/plain": [
       "   ID  userID  movieID  rating  date_day  date_month  date_year  date_hour  \\\n",
       "0   1   51198      608     5.0        17           9       1997         23   \n",
       "1   2   51198      141     4.0        17           9       1997         23   \n",
       "2   3   51198     1073     4.0        17           9       1997         23   \n",
       "3   4   51198      356     4.0        17           9       1997         23   \n",
       "4   5   51198     1198     5.0        17           9       1997         23   \n",
       "\n",
       "   date_minute  date_second  \n",
       "0           40           20  \n",
       "1           41           58  \n",
       "2           41            6  \n",
       "3           43           44  \n",
       "4           44           35  "
      ],
      "text/html": "<div>\n<style scoped>\n    .dataframe tbody tr th:only-of-type {\n        vertical-align: middle;\n    }\n\n    .dataframe tbody tr th {\n        vertical-align: top;\n    }\n\n    .dataframe thead th {\n        text-align: right;\n    }\n</style>\n<table border=\"1\" class=\"dataframe\">\n  <thead>\n    <tr style=\"text-align: right;\">\n      <th></th>\n      <th>ID</th>\n      <th>userID</th>\n      <th>movieID</th>\n      <th>rating</th>\n      <th>date_day</th>\n      <th>date_month</th>\n      <th>date_year</th>\n      <th>date_hour</th>\n      <th>date_minute</th>\n      <th>date_second</th>\n    </tr>\n  </thead>\n  <tbody>\n    <tr>\n      <th>0</th>\n      <td>1</td>\n      <td>51198</td>\n      <td>608</td>\n      <td>5.0</td>\n      <td>17</td>\n      <td>9</td>\n      <td>1997</td>\n      <td>23</td>\n      <td>40</td>\n      <td>20</td>\n    </tr>\n    <tr>\n      <th>1</th>\n      <td>2</td>\n      <td>51198</td>\n      <td>141</td>\n      <td>4.0</td>\n      <td>17</td>\n      <td>9</td>\n      <td>1997</td>\n      <td>23</td>\n      <td>41</td>\n      <td>58</td>\n    </tr>\n    <tr>\n      <th>2</th>\n      <td>3</td>\n      <td>51198</td>\n      <td>1073</td>\n      <td>4.0</td>\n      <td>17</td>\n      <td>9</td>\n      <td>1997</td>\n      <td>23</td>\n      <td>41</td>\n      <td>6</td>\n    </tr>\n    <tr>\n      <th>3</th>\n      <td>4</td>\n      <td>51198</td>\n      <td>356</td>\n      <td>4.0</td>\n      <td>17</td>\n      <td>9</td>\n      <td>1997</td>\n      <td>23</td>\n      <td>43</td>\n      <td>44</td>\n    </tr>\n    <tr>\n      <th>4</th>\n      <td>5</td>\n      <td>51198</td>\n      <td>1198</td>\n      <td>5.0</td>\n      <td>17</td>\n      <td>9</td>\n      <td>1997</td>\n      <td>23</td>\n      <td>44</td>\n      <td>35</td>\n    </tr>\n  </tbody>\n</table>\n</div>"
     },
     "metadata": {},
     "execution_count": 5
    }
   ],
   "source": [
    "df_ratings.head()"
   ]
  },
  {
   "cell_type": "code",
   "execution_count": 10,
   "metadata": {},
   "outputs": [],
   "source": [
    "reader = sp.reader.Reader(rating_scale=(0.5 ,5))\n",
    "data = sp.dataset.Dataset.load_from_df(df_ratings[['userID', 'movieID', 'rating']], reader)"
   ]
  },
  {
   "cell_type": "code",
   "execution_count": 16,
   "metadata": {},
   "outputs": [],
   "source": [
    "#algo = sp.NormalPredictor()\n",
    "sim_options = {\n",
    "    'name': 'cosine',\n",
    "    'user_based': True #False\n",
    "}\n",
    "algo = sp.prediction_algorithms.knns.KNNBasic(k=40, min_k=1, sim_options=sim_options)\n",
    "sp.model_selection.validation.cross_validate(algo, data, measures=['rmse', 'mae'], cv=5, n_jobs=-1)"
   ]
  },
  {
   "cell_type": "code",
   "execution_count": 17,
   "metadata": {},
   "outputs": [
    {
     "output_type": "execute_result",
     "data": {
      "text/plain": [
       "{'test_rmse': array([0.87867087, 0.88187263, 0.87675764, 0.87677916, 0.8815531 ]),\n",
       " 'test_mae': array([0.665235  , 0.66794612, 0.66393094, 0.66508366, 0.66748196]),\n",
       " 'fit_time': (12.485573530197144,\n",
       "  13.0160813331604,\n",
       "  13.254046201705933,\n",
       "  12.795851469039917,\n",
       "  12.402621746063232),\n",
       " 'test_time': (32.74526333808899,\n",
       "  32.2389190196991,\n",
       "  32.28514099121094,\n",
       "  31.981017351150513,\n",
       "  32.220481157302856)}"
      ]
     },
     "metadata": {},
     "execution_count": 17
    }
   ],
   "source": []
  },
  {
   "cell_type": "code",
   "execution_count": null,
   "metadata": {},
   "outputs": [],
   "source": []
  }
 ]
}