{
 "metadata": {
  "language_info": {
   "codemirror_mode": {
    "name": "ipython",
    "version": 3
   },
   "file_extension": ".py",
   "mimetype": "text/x-python",
   "name": "python",
   "nbconvert_exporter": "python",
   "pygments_lexer": "ipython3",
   "version": "3.8.5-final"
  },
  "orig_nbformat": 2,
  "kernelspec": {
   "name": "Python 3.8.5 64-bit ('datascience': conda)",
   "display_name": "Python 3.8.5 64-bit ('datascience': conda)",
   "metadata": {
    "interpreter": {
     "hash": "9975258f2a9724a7be8a239cb06c01a879b28a7dff1e7b4bf52b26bd54a03836"
    }
   }
  }
 },
 "nbformat": 4,
 "nbformat_minor": 2,
 "cells": [
  {
   "source": [
    "## Clase 3"
   ],
   "cell_type": "markdown",
   "metadata": {}
  },
  {
   "cell_type": "code",
   "execution_count": 1,
   "metadata": {},
   "outputs": [],
   "source": [
    "import pandas as pd\n",
    "import numpy as np\n",
    "from tqdm import tqdm"
   ]
  },
  {
   "cell_type": "code",
   "execution_count": 2,
   "metadata": {},
   "outputs": [],
   "source": [
    "df_genres = pd.read_csv('./data/movie_genres.csv')\n",
    "df_ratings = pd.read_csv('./data/ratings_train.csv')"
   ]
  },
  {
   "source": [
    "### Creando un perfil"
   ],
   "cell_type": "markdown",
   "metadata": {}
  },
  {
   "cell_type": "code",
   "execution_count": 3,
   "metadata": {},
   "outputs": [
    {
     "output_type": "execute_result",
     "data": {
      "text/plain": [
       "   movieID  Action  Adventure  Animation  Children  Comedy  Crime  \\\n",
       "0        1     0.0        1.0        1.0       1.0     1.0    0.0   \n",
       "1        2     0.0        1.0        0.0       1.0     0.0    0.0   \n",
       "2        3     0.0        0.0        0.0       0.0     1.0    0.0   \n",
       "3        4     0.0        0.0        0.0       0.0     1.0    0.0   \n",
       "4        5     0.0        0.0        0.0       0.0     1.0    0.0   \n",
       "\n",
       "   Documentary  Drama  Fantasy  ...  Horror  IMAX  Musical  Mystery  Romance  \\\n",
       "0          0.0    0.0      1.0  ...     0.0   0.0      0.0      0.0      0.0   \n",
       "1          0.0    0.0      1.0  ...     0.0   0.0      0.0      0.0      0.0   \n",
       "2          0.0    0.0      0.0  ...     0.0   0.0      0.0      0.0      1.0   \n",
       "3          0.0    1.0      0.0  ...     0.0   0.0      0.0      0.0      1.0   \n",
       "4          0.0    0.0      0.0  ...     0.0   0.0      0.0      0.0      0.0   \n",
       "\n",
       "   Sci-Fi  Short  Thriller  War  Western  \n",
       "0     0.0    0.0       0.0  0.0      0.0  \n",
       "1     0.0    0.0       0.0  0.0      0.0  \n",
       "2     0.0    0.0       0.0  0.0      0.0  \n",
       "3     0.0    0.0       0.0  0.0      0.0  \n",
       "4     0.0    0.0       0.0  0.0      0.0  \n",
       "\n",
       "[5 rows x 21 columns]"
      ],
      "text/html": "<div>\n<style scoped>\n    .dataframe tbody tr th:only-of-type {\n        vertical-align: middle;\n    }\n\n    .dataframe tbody tr th {\n        vertical-align: top;\n    }\n\n    .dataframe thead th {\n        text-align: right;\n    }\n</style>\n<table border=\"1\" class=\"dataframe\">\n  <thead>\n    <tr style=\"text-align: right;\">\n      <th></th>\n      <th>movieID</th>\n      <th>Action</th>\n      <th>Adventure</th>\n      <th>Animation</th>\n      <th>Children</th>\n      <th>Comedy</th>\n      <th>Crime</th>\n      <th>Documentary</th>\n      <th>Drama</th>\n      <th>Fantasy</th>\n      <th>...</th>\n      <th>Horror</th>\n      <th>IMAX</th>\n      <th>Musical</th>\n      <th>Mystery</th>\n      <th>Romance</th>\n      <th>Sci-Fi</th>\n      <th>Short</th>\n      <th>Thriller</th>\n      <th>War</th>\n      <th>Western</th>\n    </tr>\n  </thead>\n  <tbody>\n    <tr>\n      <th>0</th>\n      <td>1</td>\n      <td>0.0</td>\n      <td>1.0</td>\n      <td>1.0</td>\n      <td>1.0</td>\n      <td>1.0</td>\n      <td>0.0</td>\n      <td>0.0</td>\n      <td>0.0</td>\n      <td>1.0</td>\n      <td>...</td>\n      <td>0.0</td>\n      <td>0.0</td>\n      <td>0.0</td>\n      <td>0.0</td>\n      <td>0.0</td>\n      <td>0.0</td>\n      <td>0.0</td>\n      <td>0.0</td>\n      <td>0.0</td>\n      <td>0.0</td>\n    </tr>\n    <tr>\n      <th>1</th>\n      <td>2</td>\n      <td>0.0</td>\n      <td>1.0</td>\n      <td>0.0</td>\n      <td>1.0</td>\n      <td>0.0</td>\n      <td>0.0</td>\n      <td>0.0</td>\n      <td>0.0</td>\n      <td>1.0</td>\n      <td>...</td>\n      <td>0.0</td>\n      <td>0.0</td>\n      <td>0.0</td>\n      <td>0.0</td>\n      <td>0.0</td>\n      <td>0.0</td>\n      <td>0.0</td>\n      <td>0.0</td>\n      <td>0.0</td>\n      <td>0.0</td>\n    </tr>\n    <tr>\n      <th>2</th>\n      <td>3</td>\n      <td>0.0</td>\n      <td>0.0</td>\n      <td>0.0</td>\n      <td>0.0</td>\n      <td>1.0</td>\n      <td>0.0</td>\n      <td>0.0</td>\n      <td>0.0</td>\n      <td>0.0</td>\n      <td>...</td>\n      <td>0.0</td>\n      <td>0.0</td>\n      <td>0.0</td>\n      <td>0.0</td>\n      <td>1.0</td>\n      <td>0.0</td>\n      <td>0.0</td>\n      <td>0.0</td>\n      <td>0.0</td>\n      <td>0.0</td>\n    </tr>\n    <tr>\n      <th>3</th>\n      <td>4</td>\n      <td>0.0</td>\n      <td>0.0</td>\n      <td>0.0</td>\n      <td>0.0</td>\n      <td>1.0</td>\n      <td>0.0</td>\n      <td>0.0</td>\n      <td>1.0</td>\n      <td>0.0</td>\n      <td>...</td>\n      <td>0.0</td>\n      <td>0.0</td>\n      <td>0.0</td>\n      <td>0.0</td>\n      <td>1.0</td>\n      <td>0.0</td>\n      <td>0.0</td>\n      <td>0.0</td>\n      <td>0.0</td>\n      <td>0.0</td>\n    </tr>\n    <tr>\n      <th>4</th>\n      <td>5</td>\n      <td>0.0</td>\n      <td>0.0</td>\n      <td>0.0</td>\n      <td>0.0</td>\n      <td>1.0</td>\n      <td>0.0</td>\n      <td>0.0</td>\n      <td>0.0</td>\n      <td>0.0</td>\n      <td>...</td>\n      <td>0.0</td>\n      <td>0.0</td>\n      <td>0.0</td>\n      <td>0.0</td>\n      <td>0.0</td>\n      <td>0.0</td>\n      <td>0.0</td>\n      <td>0.0</td>\n      <td>0.0</td>\n      <td>0.0</td>\n    </tr>\n  </tbody>\n</table>\n<p>5 rows × 21 columns</p>\n</div>"
     },
     "metadata": {},
     "execution_count": 3
    }
   ],
   "source": [
    "list_of_genres = df_genres.genre.unique().tolist()\n",
    "list_of_genres.sort()\n",
    "df_genres['value'] = 1\n",
    "df_genre_matrix = df_genres.pivot(index='movieID', columns='genre', values='value').fillna(0).rename_axis(columns = None).reset_index()\n",
    "df_genre_matrix.head()"
   ]
  },
  {
   "cell_type": "code",
   "execution_count": 4,
   "metadata": {},
   "outputs": [
    {
     "output_type": "execute_result",
     "data": {
      "text/plain": [
       "   movieID  Action  Adventure  Animation  Children  Comedy  Crime  \\\n",
       "0        1     0.0        1.0        1.0       1.0     1.0    0.0   \n",
       "1        1     0.0        1.0        1.0       1.0     1.0    0.0   \n",
       "2        1     0.0        1.0        1.0       1.0     1.0    0.0   \n",
       "3        1     0.0        1.0        1.0       1.0     1.0    0.0   \n",
       "4        1     0.0        1.0        1.0       1.0     1.0    0.0   \n",
       "\n",
       "   Documentary  Drama  Fantasy  ...  Western    ID  userID  rating  date_day  \\\n",
       "0          0.0    0.0      1.0  ...      0.0   234   35886     5.0        15   \n",
       "1          0.0    0.0      1.0  ...      0.0   377    9117     5.0        10   \n",
       "2          0.0    0.0      1.0  ...      0.0   761   23172     5.0         8   \n",
       "3          0.0    0.0      1.0  ...      0.0  1002   18059     4.0         7   \n",
       "4          0.0    0.0      1.0  ...      0.0  2365   67068     3.0        30   \n",
       "\n",
       "   date_month  date_year  date_hour  date_minute  date_second  \n",
       "0          10       1997          7           55           48  \n",
       "1          11       1997         16           28           49  \n",
       "2           1       1998         19            5           24  \n",
       "3           4       1998         20            9           36  \n",
       "4           9       1998         22           36           24  \n",
       "\n",
       "[5 rows x 30 columns]"
      ],
      "text/html": "<div>\n<style scoped>\n    .dataframe tbody tr th:only-of-type {\n        vertical-align: middle;\n    }\n\n    .dataframe tbody tr th {\n        vertical-align: top;\n    }\n\n    .dataframe thead th {\n        text-align: right;\n    }\n</style>\n<table border=\"1\" class=\"dataframe\">\n  <thead>\n    <tr style=\"text-align: right;\">\n      <th></th>\n      <th>movieID</th>\n      <th>Action</th>\n      <th>Adventure</th>\n      <th>Animation</th>\n      <th>Children</th>\n      <th>Comedy</th>\n      <th>Crime</th>\n      <th>Documentary</th>\n      <th>Drama</th>\n      <th>Fantasy</th>\n      <th>...</th>\n      <th>Western</th>\n      <th>ID</th>\n      <th>userID</th>\n      <th>rating</th>\n      <th>date_day</th>\n      <th>date_month</th>\n      <th>date_year</th>\n      <th>date_hour</th>\n      <th>date_minute</th>\n      <th>date_second</th>\n    </tr>\n  </thead>\n  <tbody>\n    <tr>\n      <th>0</th>\n      <td>1</td>\n      <td>0.0</td>\n      <td>1.0</td>\n      <td>1.0</td>\n      <td>1.0</td>\n      <td>1.0</td>\n      <td>0.0</td>\n      <td>0.0</td>\n      <td>0.0</td>\n      <td>1.0</td>\n      <td>...</td>\n      <td>0.0</td>\n      <td>234</td>\n      <td>35886</td>\n      <td>5.0</td>\n      <td>15</td>\n      <td>10</td>\n      <td>1997</td>\n      <td>7</td>\n      <td>55</td>\n      <td>48</td>\n    </tr>\n    <tr>\n      <th>1</th>\n      <td>1</td>\n      <td>0.0</td>\n      <td>1.0</td>\n      <td>1.0</td>\n      <td>1.0</td>\n      <td>1.0</td>\n      <td>0.0</td>\n      <td>0.0</td>\n      <td>0.0</td>\n      <td>1.0</td>\n      <td>...</td>\n      <td>0.0</td>\n      <td>377</td>\n      <td>9117</td>\n      <td>5.0</td>\n      <td>10</td>\n      <td>11</td>\n      <td>1997</td>\n      <td>16</td>\n      <td>28</td>\n      <td>49</td>\n    </tr>\n    <tr>\n      <th>2</th>\n      <td>1</td>\n      <td>0.0</td>\n      <td>1.0</td>\n      <td>1.0</td>\n      <td>1.0</td>\n      <td>1.0</td>\n      <td>0.0</td>\n      <td>0.0</td>\n      <td>0.0</td>\n      <td>1.0</td>\n      <td>...</td>\n      <td>0.0</td>\n      <td>761</td>\n      <td>23172</td>\n      <td>5.0</td>\n      <td>8</td>\n      <td>1</td>\n      <td>1998</td>\n      <td>19</td>\n      <td>5</td>\n      <td>24</td>\n    </tr>\n    <tr>\n      <th>3</th>\n      <td>1</td>\n      <td>0.0</td>\n      <td>1.0</td>\n      <td>1.0</td>\n      <td>1.0</td>\n      <td>1.0</td>\n      <td>0.0</td>\n      <td>0.0</td>\n      <td>0.0</td>\n      <td>1.0</td>\n      <td>...</td>\n      <td>0.0</td>\n      <td>1002</td>\n      <td>18059</td>\n      <td>4.0</td>\n      <td>7</td>\n      <td>4</td>\n      <td>1998</td>\n      <td>20</td>\n      <td>9</td>\n      <td>36</td>\n    </tr>\n    <tr>\n      <th>4</th>\n      <td>1</td>\n      <td>0.0</td>\n      <td>1.0</td>\n      <td>1.0</td>\n      <td>1.0</td>\n      <td>1.0</td>\n      <td>0.0</td>\n      <td>0.0</td>\n      <td>0.0</td>\n      <td>1.0</td>\n      <td>...</td>\n      <td>0.0</td>\n      <td>2365</td>\n      <td>67068</td>\n      <td>3.0</td>\n      <td>30</td>\n      <td>9</td>\n      <td>1998</td>\n      <td>22</td>\n      <td>36</td>\n      <td>24</td>\n    </tr>\n  </tbody>\n</table>\n<p>5 rows × 30 columns</p>\n</div>"
     },
     "metadata": {},
     "execution_count": 4
    }
   ],
   "source": [
    "df_rating_genre = df_genre_matrix.merge(df_ratings, left_on='movieID', right_on='movieID')\n",
    "df_rating_genre.head()"
   ]
  },
  {
   "cell_type": "code",
   "execution_count": 5,
   "metadata": {},
   "outputs": [
    {
     "output_type": "stream",
     "name": "stderr",
     "text": [
      "100%|██████████| 2113/2113 [00:14<00:00, 146.02it/s]\n"
     ]
    }
   ],
   "source": [
    "list_of_profiles = []\n",
    "for a_user in tqdm(df_ratings.userID.unique()):\n",
    "    profile_by_user = dict()\n",
    "    profile_by_user['userID'] = a_user\n",
    "    df_user = df_rating_genre[df_rating_genre.userID == a_user]\n",
    "    \n",
    "    for a_genre in list_of_genres:\n",
    "        profile_by_user[a_genre] = df_user.loc[df_user[a_genre] == 1, \"rating\"].mean() / 5.0\n",
    "    \n",
    "    list_of_profiles.append(profile_by_user)\n",
    "    "
   ]
  },
  {
   "cell_type": "code",
   "execution_count": 6,
   "metadata": {},
   "outputs": [
    {
     "output_type": "execute_result",
     "data": {
      "text/plain": [
       "   userID    Action  Adventure  Animation  Children    Comedy     Crime  \\\n",
       "0   51198  0.783824   0.798000   0.788889  0.766667  0.779000  0.865116   \n",
       "1   29202  0.512500   0.503182   0.447059  0.433333  0.443613  0.534911   \n",
       "2   32283  0.687004   0.694545   0.806452  0.758333  0.694751  0.728571   \n",
       "3   36495  0.673034   0.677551   0.763636  0.742857  0.764198  0.767241   \n",
       "4   28350  0.653191   0.666667   0.705769  0.658915  0.632463  0.635714   \n",
       "\n",
       "   Documentary     Drama   Fantasy  ...    Horror  IMAX   Musical   Mystery  \\\n",
       "0     0.883333  0.833028  0.796667  ...  0.728571   0.9  0.840000  0.804762   \n",
       "1     0.653333  0.566725  0.492742  ...  0.464516   0.6  0.504545  0.548750   \n",
       "2     0.828571  0.739817  0.694805  ...  0.662162   0.8  0.700000  0.742857   \n",
       "3     0.500000  0.755914  0.631579  ...  0.800000   0.0  0.800000  0.725000   \n",
       "4     0.000000  0.669822  0.656180  ...  0.429412   0.8  0.641667  0.615000   \n",
       "\n",
       "    Romance    Sci-Fi  Short  Thriller       War   Western  \n",
       "0  0.810811  0.784211    0.0  0.811111  0.816667  0.733333  \n",
       "1  0.536408  0.509357    0.0  0.531180  0.575556  0.556522  \n",
       "2  0.723832  0.656566    0.0  0.701917  0.721212  0.769565  \n",
       "3  0.740541  0.640000    0.0  0.709709  0.762500  0.600000  \n",
       "4  0.670940  0.597561    0.0  0.634375  0.684211  0.635294  \n",
       "\n",
       "[5 rows x 21 columns]"
      ],
      "text/html": "<div>\n<style scoped>\n    .dataframe tbody tr th:only-of-type {\n        vertical-align: middle;\n    }\n\n    .dataframe tbody tr th {\n        vertical-align: top;\n    }\n\n    .dataframe thead th {\n        text-align: right;\n    }\n</style>\n<table border=\"1\" class=\"dataframe\">\n  <thead>\n    <tr style=\"text-align: right;\">\n      <th></th>\n      <th>userID</th>\n      <th>Action</th>\n      <th>Adventure</th>\n      <th>Animation</th>\n      <th>Children</th>\n      <th>Comedy</th>\n      <th>Crime</th>\n      <th>Documentary</th>\n      <th>Drama</th>\n      <th>Fantasy</th>\n      <th>...</th>\n      <th>Horror</th>\n      <th>IMAX</th>\n      <th>Musical</th>\n      <th>Mystery</th>\n      <th>Romance</th>\n      <th>Sci-Fi</th>\n      <th>Short</th>\n      <th>Thriller</th>\n      <th>War</th>\n      <th>Western</th>\n    </tr>\n  </thead>\n  <tbody>\n    <tr>\n      <th>0</th>\n      <td>51198</td>\n      <td>0.783824</td>\n      <td>0.798000</td>\n      <td>0.788889</td>\n      <td>0.766667</td>\n      <td>0.779000</td>\n      <td>0.865116</td>\n      <td>0.883333</td>\n      <td>0.833028</td>\n      <td>0.796667</td>\n      <td>...</td>\n      <td>0.728571</td>\n      <td>0.9</td>\n      <td>0.840000</td>\n      <td>0.804762</td>\n      <td>0.810811</td>\n      <td>0.784211</td>\n      <td>0.0</td>\n      <td>0.811111</td>\n      <td>0.816667</td>\n      <td>0.733333</td>\n    </tr>\n    <tr>\n      <th>1</th>\n      <td>29202</td>\n      <td>0.512500</td>\n      <td>0.503182</td>\n      <td>0.447059</td>\n      <td>0.433333</td>\n      <td>0.443613</td>\n      <td>0.534911</td>\n      <td>0.653333</td>\n      <td>0.566725</td>\n      <td>0.492742</td>\n      <td>...</td>\n      <td>0.464516</td>\n      <td>0.6</td>\n      <td>0.504545</td>\n      <td>0.548750</td>\n      <td>0.536408</td>\n      <td>0.509357</td>\n      <td>0.0</td>\n      <td>0.531180</td>\n      <td>0.575556</td>\n      <td>0.556522</td>\n    </tr>\n    <tr>\n      <th>2</th>\n      <td>32283</td>\n      <td>0.687004</td>\n      <td>0.694545</td>\n      <td>0.806452</td>\n      <td>0.758333</td>\n      <td>0.694751</td>\n      <td>0.728571</td>\n      <td>0.828571</td>\n      <td>0.739817</td>\n      <td>0.694805</td>\n      <td>...</td>\n      <td>0.662162</td>\n      <td>0.8</td>\n      <td>0.700000</td>\n      <td>0.742857</td>\n      <td>0.723832</td>\n      <td>0.656566</td>\n      <td>0.0</td>\n      <td>0.701917</td>\n      <td>0.721212</td>\n      <td>0.769565</td>\n    </tr>\n    <tr>\n      <th>3</th>\n      <td>36495</td>\n      <td>0.673034</td>\n      <td>0.677551</td>\n      <td>0.763636</td>\n      <td>0.742857</td>\n      <td>0.764198</td>\n      <td>0.767241</td>\n      <td>0.500000</td>\n      <td>0.755914</td>\n      <td>0.631579</td>\n      <td>...</td>\n      <td>0.800000</td>\n      <td>0.0</td>\n      <td>0.800000</td>\n      <td>0.725000</td>\n      <td>0.740541</td>\n      <td>0.640000</td>\n      <td>0.0</td>\n      <td>0.709709</td>\n      <td>0.762500</td>\n      <td>0.600000</td>\n    </tr>\n    <tr>\n      <th>4</th>\n      <td>28350</td>\n      <td>0.653191</td>\n      <td>0.666667</td>\n      <td>0.705769</td>\n      <td>0.658915</td>\n      <td>0.632463</td>\n      <td>0.635714</td>\n      <td>0.000000</td>\n      <td>0.669822</td>\n      <td>0.656180</td>\n      <td>...</td>\n      <td>0.429412</td>\n      <td>0.8</td>\n      <td>0.641667</td>\n      <td>0.615000</td>\n      <td>0.670940</td>\n      <td>0.597561</td>\n      <td>0.0</td>\n      <td>0.634375</td>\n      <td>0.684211</td>\n      <td>0.635294</td>\n    </tr>\n  </tbody>\n</table>\n<p>5 rows × 21 columns</p>\n</div>"
     },
     "metadata": {},
     "execution_count": 6
    }
   ],
   "source": [
    "df_profile = pd.DataFrame.from_dict(list_of_profiles).fillna(0)\n",
    "df_profile.head()"
   ]
  },
  {
   "cell_type": "code",
   "execution_count": 7,
   "metadata": {},
   "outputs": [],
   "source": [
    "df_profile.to_csv('./data/profile_by_user.csv', index=False)"
   ]
  },
  {
   "cell_type": "code",
   "execution_count": null,
   "metadata": {},
   "outputs": [],
   "source": []
  }
 ]
}