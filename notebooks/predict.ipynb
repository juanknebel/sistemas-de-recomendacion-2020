{
 "metadata": {
  "language_info": {
   "codemirror_mode": {
    "name": "ipython",
    "version": 3
   },
   "file_extension": ".py",
   "mimetype": "text/x-python",
   "name": "python",
   "nbconvert_exporter": "python",
   "pygments_lexer": "ipython3",
   "version": "3.8.5-final"
  },
  "orig_nbformat": 2,
  "kernelspec": {
   "name": "python3",
   "display_name": "Python 3"
  }
 },
 "nbformat": 4,
 "nbformat_minor": 2,
 "cells": [
  {
   "cell_type": "code",
   "execution_count": 1,
   "metadata": {},
   "outputs": [],
   "source": [
    "import pandas as pd\n",
    "import numpy as np\n",
    "from tqdm import tqdm\n",
    "\n",
    "from sklearn.model_selection import train_test_split\n",
    "from sklearn.linear_model import LinearRegression\n",
    "from sklearn.metrics import mean_squared_error, r2_score\n",
    "import lightgbm\n",
    "import xgboost\n",
    "from lightfm import LightFM\n",
    "from lightfm.evaluation import precision_at_k"
   ]
  },
  {
   "cell_type": "code",
   "execution_count": null,
   "metadata": {},
   "outputs": [],
   "source": [
    "df_actors = pd.read_csv('./data/movie_actors.csv')\n",
    "df_countries = pd.read_csv('./data/movie_countries.csv')\n",
    "df_directors = pd.read_csv('./data/movie_directors.csv')\n",
    "df_genres = pd.read_csv('./data/movie_genres.csv')\n",
    "df_imdb = pd.read_csv('./data/movie_imdb.csv')\n",
    "df_locations = pd.read_csv('./data/movie_locations.csv')\n",
    "df_tags = pd.read_csv('./data/movie_tags.csv')\n",
    "df_rottem = pd.read_csv('./data/movies_rt.csv')\n",
    "df_movies = pd.read_csv('./data/movies.csv')\n",
    "\n",
    "df_ratings = pd.read_csv('./data/ratings_train_mean_similarity.csv')\n",
    "df_test = pd.read_csv('./data/ratings_test_mean_similarity.csv')"
   ]
  },
  {
   "cell_type": "code",
   "execution_count": null,
   "metadata": {},
   "outputs": [],
   "source": [
    "# Separo mi train & test\n",
    "X_train, X_test, y_train, y_test =\\\n",
    "    train_test_split(df_ratings.drop(['rating', 'ID'], axis=1), df_ratings.rating, test_size=0.3, random_state=0)"
   ]
  },
  {
   "cell_type": "code",
   "execution_count": null,
   "metadata": {},
   "outputs": [],
   "source": [
    "# Entrenamiento regresion lineal\n",
    "model = LinearRegression()\n",
    "model.fit(X_train, y_train)\n",
    "y_predicted = model.predict(X_test)\n",
    "scores = model.score(X_test, y_test)\n",
    "print(\"Linear regression: \", mean_squared_error(y_test, y_predicted))\n",
    "print(\"Linear regression R2: \", r2_score(y_test, y_predicted))"
   ]
  },
  {
   "cell_type": "code",
   "execution_count": null,
   "metadata": {},
   "outputs": [],
   "source": [
    "model.fit(df_ratings.drop(['rating', 'ID'], axis=1), df_ratings.rating)\n",
    "prediction = model.predict(df_test.drop(['rating', 'ID', 'rating'], axis=1))\n",
    "submission = pd.DataFrame(\n",
    "        {'ID': df_test.ID, 'rating': np.around(prediction, 2)})\n",
    "submission.to_csv('./submission_mean_similarity.csv', index=False)"
   ]
  },
  {
   "cell_type": "code",
   "execution_count": null,
   "metadata": {},
   "outputs": [],
   "source": [
    "!kaggle competitions submit -c recomendacion-de-peliculas-fcen-2020 -f submission_mean_similarity.csv -m \"Con similaridad * 5\""
   ]
  },
  {
   "cell_type": "code",
   "execution_count": null,
   "metadata": {},
   "outputs": [],
   "source": [
    "lgbm = lightgbm.LGBMRegressor()\n",
    "model = lgbm.fit(X_train, y_train)\n",
    "y_predicted = model.predict(X_test)\n",
    "scores = model.score(X_test, y_test)\n",
    "print(\"Linear regression: \", mean_squared_error(y_test, y_predicted))\n",
    "print(\"Linear regression R2: \", r2_score(y_test, y_predicted))"
   ]
  },
  {
   "cell_type": "code",
   "execution_count": null,
   "metadata": {},
   "outputs": [],
   "source": [
    "model.fit(df_ratings.drop(['rating', 'ID'], axis=1), df_ratings.rating)\n",
    "prediction = model.predict(df_test.drop(['rating', 'ID', 'rating'], axis=1))\n",
    "submission = pd.DataFrame(\n",
    "        {'ID': df_test.ID, 'rating': np.around(prediction, 2)})\n",
    "submission.to_csv('./submission_mean_similarity_gbm.csv', index=False)"
   ]
  },
  {
   "cell_type": "code",
   "execution_count": null,
   "metadata": {},
   "outputs": [],
   "source": [
    "!kaggle competitions submit -c recomendacion-de-peliculas-fcen-2020 -f submission_mean_similarity_gbm.csv -m \"Con similaridad gbm\""
   ]
  },
  {
   "cell_type": "code",
   "execution_count": null,
   "metadata": {},
   "outputs": [],
   "source": [
    "xgb = xgboost.XGBRegressor()\n",
    "model = xgb.fit(X_train, y_train)\n",
    "y_predicted = model.predict(X_test)\n",
    "scores = model.score(X_test, y_test)\n",
    "print(\"Linear regression: \", mean_squared_error(y_test, y_predicted))\n",
    "print(\"Linear regression R2: \", r2_score(y_test, y_predicted))"
   ]
  },
  {
   "cell_type": "code",
   "execution_count": null,
   "metadata": {},
   "outputs": [],
   "source": [
    "model.fit(df_ratings.drop(['rating', 'ID'], axis=1), df_ratings.rating)\n",
    "prediction = model.predict(df_test.drop(['rating', 'ID', 'rating'], axis=1))\n",
    "submission = pd.DataFrame(\n",
    "        {'ID': df_test.ID, 'rating': np.around(prediction, 2)})\n",
    "submission.to_csv('./submission_mean_similarity_xgb.csv', index=False)"
   ]
  },
  {
   "cell_type": "code",
   "execution_count": null,
   "metadata": {},
   "outputs": [],
   "source": [
    "!kaggle competitions submit -c recomendacion-de-peliculas-fcen-2020 -f submission_mean_similarity_xgb.csv -m \"Con similaridad xgb\""
   ]
  },
  {
   "cell_type": "code",
   "execution_count": null,
   "metadata": {},
   "outputs": [],
   "source": [
    "from lightfm.datasets import fetch_movielens\n",
    "data = fetch_movielens(min_rating=5.0)"
   ]
  },
  {
   "cell_type": "code",
   "execution_count": null,
   "metadata": {},
   "outputs": [],
   "source": [
    "# Instantiate and train the model\n",
    "model = LightFM(loss='warp')\n",
    "model.fit(data['train'], epochs=30, num_threads=2)\n",
    "\n",
    "# Evaluate the trained model\n",
    "test_precision = precision_at_k(model, data['test'], k=5).mean()"
   ]
  },
  {
   "cell_type": "code",
   "execution_count": null,
   "metadata": {},
   "outputs": [],
   "source": []
  },
  {
   "cell_type": "code",
   "execution_count": null,
   "metadata": {},
   "outputs": [],
   "source": []
  },
  {
   "cell_type": "code",
   "execution_count": null,
   "metadata": {},
   "outputs": [],
   "source": []
  }
 ]
}