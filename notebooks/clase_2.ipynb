{
 "metadata": {
  "language_info": {
   "codemirror_mode": {
    "name": "ipython",
    "version": 3
   },
   "file_extension": ".py",
   "mimetype": "text/x-python",
   "name": "python",
   "nbconvert_exporter": "python",
   "pygments_lexer": "ipython3",
   "version": 3
  },
  "orig_nbformat": 2
 },
 "nbformat": 4,
 "nbformat_minor": 2,
 "cells": [
  {
   "cell_type": "code",
   "execution_count": null,
   "metadata": {},
   "outputs": [],
   "source": [
    "import pandas as pd\n",
    "import numpy as np\n",
    "\n",
    "from sklearn.model_selection import train_test_split\n",
    "from sklearn.linear_model import LinearRegression\n",
    "import xgboost as xgb\n",
    "from sklearn.metrics import mean_squared_error, r2_score, confusion_matrix,\\\n",
    "    classification_report, plot_roc_curve, auc\n",
    "from sklearn.impute import SimpleImputer\n",
    "\n",
    "import matplotlib.pyplot as plt\n",
    "\n",
    "import warnings\n",
    "warnings.filterwarnings(\"ignore\")"
   ]
  },
  {
   "cell_type": "code",
   "execution_count": null,
   "metadata": {},
   "outputs": [],
   "source": [
    "df_actors = pd.read_csv('./data/movie_actors.csv')\n",
    "df_countries = pd.read_csv('./data/movie_countries.csv')\n",
    "df_directors = pd.read_csv('./data/movie_directors.csv')\n",
    "df_genres = pd.read_csv('./data/movie_genres.csv')\n",
    "df_imdb = pd.read_csv('./data/movie_imdb.csv')\n",
    "df_locations = pd.read_csv('./data/movie_locations.csv')\n",
    "df_tags = pd.read_csv('./data/movie_tags.csv')\n",
    "df_rottem = pd.read_csv('./data/movies_rt.csv')\n",
    "df_movies = pd.read_csv('./data/movies.csv')\n",
    "df_train = pd.read_csv('./data/ratings_train.csv')\n",
    "\n",
    "df_test = pd.read_csv('./data/ratings_test.csv')\n",
    "df_solution = pd.read_csv('./data/ejemplo_solucion.csv')"
   ]
  }
 ]
}