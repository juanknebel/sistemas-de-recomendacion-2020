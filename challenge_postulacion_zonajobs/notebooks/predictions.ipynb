{
 "cells": [
  {
   "cell_type": "code",
   "execution_count": 129,
   "metadata": {},
   "outputs": [],
   "source": [
    "import os\n",
    "import sys\n",
    "module_path = os.path.abspath(os.path.join('..'))\n",
    "if module_path not in sys.path:\n",
    "    sys.path.append(module_path)\n",
    "\n",
    "import pandas as pd\n",
    "import numpy as np\n",
    "from scipy import spatial\n",
    "from scipy import sparse\n",
    "from scipy import linalg, mat\n",
    "from tqdm import tqdm, notebook\n",
    "import math\n",
    "import datetime\n",
    "\n",
    "import lightfm as lfm\n",
    "from lightfm.data import Dataset\n",
    "from scipy.sparse import csr_matrix"
   ]
  },
  {
   "cell_type": "code",
   "execution_count": 2,
   "metadata": {},
   "outputs": [],
   "source": [
    "df_notice = pd.read_csv(\"../data/02_intermediate/avisos/avisos_detalle.csv\")\n",
    "df_applicants_with_rank = pd.read_csv(\"../data/02_intermediate/postulaciones/postulaciones_train_rank.csv\")\n",
    "df_applicants_test = pd.read_csv(\"../data/02_intermediate/postulaciones/postulaciones_test.csv\")\n",
    "\n",
    "dtypes = {\n",
    "    \"idaviso\": \"int64\",\n",
    "    \"tipo_de_trabajo\": \"string\",\n",
    "    \"nivel_laboral\": \"string\",\n",
    "    \"nombre_area\": \"string\",\n",
    "}\n",
    "mydateparser = lambda x: datetime.datetime.strptime(x, \"%Y-%m-%d\")\n",
    "df_notice = pd.read_csv(\n",
    "    \"../data/02_intermediate/avisos/avisos_detalle.csv\",\n",
    "    parse_dates=[\"online_desde\", \"online_hasta\"],\n",
    "    date_parser=mydateparser,\n",
    "    dtype=dtypes,\n",
    ")\n",
    "df_applicants_genre = pd.read_csv(\"../data/02_intermediate/postulantes/postulantes_genero_edad.csv\")\n",
    "df_applicants_education = pd.read_csv(\"../data/02_intermediate/postulantes/postulantes_educacion.csv\")"
   ]
  },
  {
   "cell_type": "code",
   "execution_count": 263,
   "metadata": {},
   "outputs": [],
   "source": [
    "live_until = datetime.datetime(2018, 4, 1)\n",
    "available_notices = set(df_notice[df_notice.online_hasta >= live_until].idaviso)"
   ]
  },
  {
   "cell_type": "code",
   "execution_count": 3,
   "metadata": {},
   "outputs": [],
   "source": [
    "columns_dict = pd.read_csv('../data/02_intermediate/postulantes/atributos_diccionario.csv')\n",
    "matrix_train = pd.read_csv('../data/02_intermediate/postulantes/postulantes_matrix_train.csv', index_col='idpostulante')\n",
    "matrix_test = pd.read_csv('../data/02_intermediate/postulantes/postulantes_matrix_test.csv', index_col='idpostulante')\n",
    "numpy_matrix_test = matrix_test.to_numpy()\n",
    "numpy_matrix_train = matrix_train.to_numpy()\n",
    "normalized_test = normalize(numpy_matrix_test, norm='l2')\n",
    "normalized_train = normalize(numpy_matrix_train, norm='l2')"
   ]
  },
  {
   "cell_type": "code",
   "execution_count": 4,
   "metadata": {},
   "outputs": [],
   "source": [
    "ids_to_predict = set(df_applicants_test.idpostulante)\n",
    "ids_train = set(df_applicants_with_rank.idpostulante)\n",
    "intersect = ids_to_predict.intersection(ids_train)\n",
    "only_in_prediction = ids_to_predict - ids_train\n",
    "only_in_train = ids_train - ids_to_predict"
   ]
  },
  {
   "cell_type": "code",
   "execution_count": 5,
   "metadata": {},
   "outputs": [
    {
     "name": "stdout",
     "output_type": "stream",
     "text": [
      "Ids que estan solo en test: 41204. Usar algo random.\n"
     ]
    }
   ],
   "source": [
    "print(f\"Ids que estan solo en test: {len(only_in_prediction)}. Usar algo random.\")"
   ]
  },
  {
   "cell_type": "code",
   "execution_count": 6,
   "metadata": {},
   "outputs": [
    {
     "name": "stdout",
     "output_type": "stream",
     "text": [
      "Ids que estan en train y test: 115028.\n"
     ]
    }
   ],
   "source": [
    "print(f\"Ids que estan en train y test: {len(intersect)}.\")"
   ]
  },
  {
   "cell_type": "code",
   "execution_count": 7,
   "metadata": {},
   "outputs": [],
   "source": [
    "df_intersect = df_applicants_with_rank[df_applicants_with_rank.idpostulante.isin(intersect)]"
   ]
  },
  {
   "cell_type": "code",
   "execution_count": 8,
   "metadata": {},
   "outputs": [],
   "source": [
    "ranking_by_applicant = (\n",
    "    df_applicants_with_rank[\n",
    "        df_applicants_with_rank.idpostulante.isin(intersect)\n",
    "    ]\n",
    "    .groupby(\"idpostulante\")\n",
    "    .agg({\"idaviso\": \"count\"})\n",
    "    .reset_index()\n",
    "    .rename(columns={\"idaviso\": \"cantidad\"})\n",
    "    .sort_values(by=\"cantidad\", ascending=False)\n",
    ")"
   ]
  },
  {
   "cell_type": "code",
   "execution_count": 9,
   "metadata": {},
   "outputs": [
    {
     "name": "stdout",
     "output_type": "stream",
     "text": [
      "Ids de los hardusers: 4265.\n"
     ]
    }
   ],
   "source": [
    "ids_hard_users = ranking_by_applicant[\n",
    "    ranking_by_applicant.cantidad > 100\n",
    "].idpostulante.values\n",
    "print(f\"Ids de los hardusers: {len(ids_hard_users)}.\")"
   ]
  },
  {
   "cell_type": "code",
   "execution_count": 10,
   "metadata": {},
   "outputs": [],
   "source": [
    "df_hard_users = df_applicants_with_rank[df_applicants_with_rank.idpostulante.isin(ids_hard_users)]\n",
    "df_test_hard_users = df_applicants_test[df_applicants_test.idpostulante.isin(ids_hard_users)]"
   ]
  },
  {
   "cell_type": "raw",
   "metadata": {},
   "source": [
    "Aca arranca el lightfm"
   ]
  },
  {
   "cell_type": "code",
   "execution_count": 111,
   "metadata": {},
   "outputs": [],
   "source": [
    "user_feature = df_applicants_genre.merge(df_applicants_education, on='idpostulante', how='left')\n",
    "user_feature['estudio'] = user_feature.nombre + '-' + user_feature.estado\n",
    "user_feature.drop(columns=['nombre', 'estado', 'fechanacimiento'], inplace=True)"
   ]
  },
  {
   "cell_type": "code",
   "execution_count": 109,
   "metadata": {},
   "outputs": [],
   "source": [
    "user_feature_hard_user = user_feature[user_feature.idpostulante.isin(ids_hard_users)]"
   ]
  },
  {
   "cell_type": "code",
   "execution_count": 138,
   "metadata": {},
   "outputs": [],
   "source": [
    "col = []\n",
    "value = []\n",
    "for a_column in user_feature.columns.values:\n",
    "    if 'idpostulante' != a_column:\n",
    "        col += [a_column] * len(user_feature[a_column].unique())\n",
    "        value += list(user_feature[a_column].unique())\n",
    "\n",
    "uf = []\n",
    "for x,y in zip(col, value):\n",
    "    res = str(x)+ \":\" +str(y)\n",
    "    uf += [res]"
   ]
  },
  {
   "cell_type": "code",
   "execution_count": 142,
   "metadata": {},
   "outputs": [],
   "source": [
    "dataset1 = Dataset()\n",
    "dataset1.fit(\n",
    "        df_hard_users.idpostulante.unique(), # all the users\n",
    "        df_hard_users.idaviso.unique(), # all the items\n",
    "        user_features = uf # additional user features\n",
    ")\n",
    "# plugging in the interactions and their weights\n",
    "(interactions, weights) = dataset1.build_interactions([(x[1], x[0], x[3]) for x in df_hard_users.values ])"
   ]
  },
  {
   "cell_type": "code",
   "execution_count": 204,
   "metadata": {},
   "outputs": [],
   "source": [
    "def generate_user_feature(features, features_names):\n",
    "    res = []\n",
    "    for one_feature in features:\n",
    "        one = []\n",
    "        for index, feat_name in enumerate(features_names):\n",
    "            one += [feat_name + \":\" + str(one_feature[index])]\n",
    "        res += [one]\n",
    "    return res"
   ]
  },
  {
   "cell_type": "code",
   "execution_count": 205,
   "metadata": {},
   "outputs": [],
   "source": [
    "feature_list = generate_user_feature(user_feature_hard_user[['sexo', 'estudio']].values, ['sexo', 'estudio'])"
   ]
  },
  {
   "cell_type": "code",
   "execution_count": 206,
   "metadata": {},
   "outputs": [],
   "source": [
    "user_tuple = list(zip(user_feature_hard_user.idpostulante, feature_list))"
   ]
  },
  {
   "cell_type": "code",
   "execution_count": 208,
   "metadata": {},
   "outputs": [],
   "source": [
    "user_features = dataset1.build_user_features(user_tuple, normalize= False)"
   ]
  },
  {
   "cell_type": "code",
   "execution_count": 213,
   "metadata": {},
   "outputs": [],
   "source": [
    "user_id_map, user_feature_map, item_id_map, item_feature_map = dataset1.mapping()"
   ]
  },
  {
   "cell_type": "code",
   "execution_count": 261,
   "metadata": {},
   "outputs": [],
   "source": [
    "inv_item_id_map = {v: k for k, v in item_id_map.items()}"
   ]
  },
  {
   "cell_type": "code",
   "execution_count": 272,
   "metadata": {},
   "outputs": [
    {
     "data": {
      "text/plain": [
       "<lightfm.lightfm.LightFM at 0x7f81974b0e80>"
      ]
     },
     "execution_count": 272,
     "metadata": {},
     "output_type": "execute_result"
    }
   ],
   "source": [
    "model = lfm.LightFM(loss='warp')\n",
    "model.fit(interactions,\n",
    "      user_features= user_features,\n",
    "      sample_weight= weights,\n",
    "      epochs=1000,\n",
    "      num_threads=8)"
   ]
  },
  {
   "cell_type": "code",
   "execution_count": 266,
   "metadata": {},
   "outputs": [
    {
     "data": {
      "application/vnd.jupyter.widget-view+json": {
       "model_id": "3c69a9641f4b475d9c2df4e2d122334d",
       "version_major": 2,
       "version_minor": 0
      },
      "text/plain": [
       "HBox(children=(HTML(value=''), FloatProgress(value=0.0, max=4265.0), HTML(value='')))"
      ]
     },
     "metadata": {},
     "output_type": "display_data"
    },
    {
     "name": "stdout",
     "output_type": "stream",
     "text": [
      "\n"
     ]
    }
   ],
   "source": [
    "final_predictions = {}\n",
    "for a_user in notebook.tqdm(df_test_hard_users.idpostulante.unique()):\n",
    "    user_x = user_id_map[a_user]\n",
    "    n_users, n_items = interactions.shape\n",
    "    prediction = np.argsort(model.predict(user_x, np.arange(n_items)))[::-1]\n",
    "    prediction_for_user = []\n",
    "    for pred in prediction:\n",
    "        notice = inv_item_id_map[pred]\n",
    "        if notice in available_notices:\n",
    "            prediction_for_user += [notice]\n",
    "        if len(prediction_for_user) == 10:\n",
    "            break\n",
    "    final_predictions[a_user] = prediction_for_user\n",
    "            "
   ]
  },
  {
   "cell_type": "code",
   "execution_count": 248,
   "metadata": {},
   "outputs": [
    {
     "data": {
      "text/plain": [
       "array([ 6639,  6825,  2444, ..., 12242, 12554, 14347])"
      ]
     },
     "execution_count": 248,
     "metadata": {},
     "output_type": "execute_result"
    }
   ],
   "source": [
    "np.argsort(prediction)[::-1]"
   ]
  },
  {
   "cell_type": "code",
   "execution_count": 249,
   "metadata": {},
   "outputs": [
    {
     "data": {
      "text/plain": [
       "array([-17.649326, -17.671553, -17.749048, ..., -27.943615, -27.950895,\n",
       "       -28.698471], dtype=float32)"
      ]
     },
     "execution_count": 249,
     "metadata": {},
     "output_type": "execute_result"
    }
   ],
   "source": [
    "np.sort(prediction)[::-1]"
   ]
  },
  {
   "cell_type": "code",
   "execution_count": 262,
   "metadata": {},
   "outputs": [
    {
     "data": {
      "text/plain": [
       "1112352308"
      ]
     },
     "execution_count": 262,
     "metadata": {},
     "output_type": "execute_result"
    }
   ],
   "source": [
    "inv_item_id_map[6639]"
   ]
  },
  {
   "cell_type": "code",
   "execution_count": 274,
   "metadata": {},
   "outputs": [],
   "source": [
    "sub = pd.read_csv('/home/zero/git/sistemas-de-recomendacion-2020/challenge_postulacion_zonajobs/data/07_model_output/all.csv')"
   ]
  },
  {
   "cell_type": "code",
   "execution_count": 278,
   "metadata": {},
   "outputs": [],
   "source": [
    "sub[['idaviso','idpostulante']].to_csv('/home/zero/git/sistemas-de-recomendacion-2020/challenge_postulacion_zonajobs/data/07_model_output/all.csv', index=False)"
   ]
  },
  {
   "cell_type": "code",
   "execution_count": null,
   "metadata": {},
   "outputs": [],
   "source": []
  }
 ],
 "metadata": {
  "kernelspec": {
   "display_name": "Python 3",
   "language": "python",
   "name": "python3"
  },
  "language_info": {
   "codemirror_mode": {
    "name": "ipython",
    "version": 3
   },
   "file_extension": ".py",
   "mimetype": "text/x-python",
   "name": "python",
   "nbconvert_exporter": "python",
   "pygments_lexer": "ipython3",
   "version": "3.8.6"
  }
 },
 "nbformat": 4,
 "nbformat_minor": 2
}
