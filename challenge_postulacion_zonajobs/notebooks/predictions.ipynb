{
 "cells": [
  {
   "cell_type": "code",
   "execution_count": 1,
   "metadata": {},
   "outputs": [],
   "source": [
    "import os\n",
    "import sys\n",
    "module_path = os.path.abspath(os.path.join('..'))\n",
    "if module_path not in sys.path:\n",
    "    sys.path.append(module_path)\n",
    "\n",
    "import pandas as pd\n",
    "import numpy as np\n",
    "from tqdm import tqdm, notebook\n",
    "import math\n",
    "import datetime\n",
    "import whoosh as wh\n",
    "from whoosh import fields\n",
    "from whoosh import index\n",
    "from whoosh import query"
   ]
  },
  {
   "cell_type": "code",
   "execution_count": 2,
   "metadata": {},
   "outputs": [],
   "source": [
    "df_applicants_with_rank = pd.read_csv(\"../data/02_intermediate/postulaciones/postulaciones_train_rank.csv\")\n",
    "df_applicants_test = pd.read_csv(\"../data/02_intermediate/postulaciones/postulaciones_test.csv\")\n",
    "\n",
    "dtypes = {\n",
    "    \"idaviso\": \"int64\",\n",
    "    \"tipo_de_trabajo\": \"string\",\n",
    "    \"nivel_laboral\": \"string\",\n",
    "    \"nombre_area\": \"string\",\n",
    "}\n",
    "mydateparser = lambda x: datetime.datetime.strptime(x, \"%Y-%m-%d\")\n",
    "df_notice = pd.read_csv(\n",
    "    \"../data/02_intermediate/avisos/avisos_detalle.csv\",\n",
    "    parse_dates=[\"online_desde\", \"online_hasta\"],\n",
    "    date_parser=mydateparser,\n",
    "    dtype=dtypes,\n",
    ")\n",
    "df_applicants_genre = pd.read_csv(\"../data/02_intermediate/postulantes/postulantes_genero_edad.csv\")\n",
    "df_applicants_education = pd.read_csv(\"../data/02_intermediate/postulantes/postulantes_educacion.csv\")"
   ]
  },
  {
   "cell_type": "code",
   "execution_count": 3,
   "metadata": {},
   "outputs": [],
   "source": [
    "live_until = datetime.datetime(2018, 4, 1)\n",
    "available_notices = set(df_notice[df_notice.online_hasta >= live_until].idaviso)"
   ]
  },
  {
   "cell_type": "raw",
   "metadata": {},
   "source": [
    "columns_dict = pd.read_csv('../data/02_intermediate/postulantes/atributos_diccionario.csv')\n",
    "matrix_train = pd.read_csv('../data/02_intermediate/postulantes/postulantes_matrix_train.csv', index_col='idpostulante')\n",
    "matrix_test = pd.read_csv('../data/02_intermediate/postulantes/postulantes_matrix_test.csv', index_col='idpostulante')\n",
    "numpy_matrix_test = matrix_test.to_numpy()\n",
    "numpy_matrix_train = matrix_train.to_numpy()\n",
    "normalized_test = normalize(numpy_matrix_test, norm='l2')\n",
    "normalized_train = normalize(numpy_matrix_train, norm='l2')"
   ]
  },
  {
   "cell_type": "code",
   "execution_count": 4,
   "metadata": {},
   "outputs": [],
   "source": [
    "ids_to_predict = set(df_applicants_test.idpostulante)\n",
    "ids_train = set(df_applicants_with_rank.idpostulante)\n",
    "intersect = ids_to_predict.intersection(ids_train)\n",
    "only_in_prediction = ids_to_predict - ids_train\n",
    "only_in_train = ids_train - ids_to_predict"
   ]
  },
  {
   "cell_type": "code",
   "execution_count": 5,
   "metadata": {},
   "outputs": [
    {
     "name": "stdout",
     "output_type": "stream",
     "text": [
      "Ids que estan solo en test: 41204. Usar algo random.\n"
     ]
    }
   ],
   "source": [
    "print(f\"Ids que estan solo en test: {len(only_in_prediction)}. Usar algo random.\")"
   ]
  },
  {
   "cell_type": "code",
   "execution_count": 6,
   "metadata": {},
   "outputs": [
    {
     "name": "stdout",
     "output_type": "stream",
     "text": [
      "Ids que estan en train y test: 115028.\n"
     ]
    }
   ],
   "source": [
    "print(f\"Ids que estan en train y test: {len(intersect)}.\")"
   ]
  },
  {
   "cell_type": "code",
   "execution_count": 7,
   "metadata": {},
   "outputs": [],
   "source": [
    "df_intersect = df_applicants_with_rank[df_applicants_with_rank.idpostulante.isin(intersect)]"
   ]
  },
  {
   "cell_type": "code",
   "execution_count": 8,
   "metadata": {},
   "outputs": [],
   "source": [
    "ranking_by_applicant = (\n",
    "    df_applicants_with_rank[\n",
    "        df_applicants_with_rank.idpostulante.isin(intersect)\n",
    "    ]\n",
    "    .groupby(\"idpostulante\")\n",
    "    .agg({\"idaviso\": \"count\"})\n",
    "    .reset_index()\n",
    "    .rename(columns={\"idaviso\": \"cantidad\"})\n",
    "    .sort_values(by=\"cantidad\", ascending=False)\n",
    ")"
   ]
  },
  {
   "cell_type": "code",
   "execution_count": 9,
   "metadata": {},
   "outputs": [
    {
     "name": "stdout",
     "output_type": "stream",
     "text": [
      "Ids de los hardusers: 4265.\n"
     ]
    }
   ],
   "source": [
    "ids_hard_users = ranking_by_applicant[\n",
    "    ranking_by_applicant.cantidad > 100\n",
    "].idpostulante.values\n",
    "print(f\"Ids de los hardusers: {len(ids_hard_users)}.\")"
   ]
  },
  {
   "cell_type": "code",
   "execution_count": 10,
   "metadata": {},
   "outputs": [],
   "source": [
    "df_hard_users = df_applicants_with_rank[df_applicants_with_rank.idpostulante.isin(ids_hard_users)]\n",
    "df_test_hard_users = df_applicants_test[df_applicants_test.idpostulante.isin(ids_hard_users)]"
   ]
  },
  {
   "cell_type": "raw",
   "metadata": {},
   "source": [
    "Aca arranca el woosh"
   ]
  },
  {
   "cell_type": "code",
   "execution_count": 11,
   "metadata": {},
   "outputs": [],
   "source": [
    "schema = wh.fields.Schema(\n",
    "    id=wh.fields.ID(stored=True),\n",
    "    genres=wh.fields.KEYWORD(stored=True, lowercase=True, commas=True)\n",
    ")"
   ]
  },
  {
   "cell_type": "code",
   "execution_count": null,
   "metadata": {},
   "outputs": [],
   "source": [
    "ix = wh.index.create_in(\"../index_dir\", schema)\n",
    "writer = ix.writer()\n",
    "\n",
    "for mid in df_movies_genres.movieID.unique():\n",
    "    genre = df_movies_genres.loc[df_movies_genres.movieID == mid, 'genre'].tolist()\n",
    "    writer.add_document(id=str(mid), genres=u\",\".join(df_movies_genres.loc[df_movies_genres[\"movieID\"]==mid, \"genre\"].tolist()))\n",
    "writer.commit()"
   ]
  },
  {
   "cell_type": "code",
   "execution_count": null,
   "metadata": {},
   "outputs": [],
   "source": []
  },
  {
   "cell_type": "code",
   "execution_count": null,
   "metadata": {},
   "outputs": [],
   "source": []
  },
  {
   "cell_type": "code",
   "execution_count": null,
   "metadata": {},
   "outputs": [],
   "source": []
  }
 ],
 "metadata": {
  "kernelspec": {
   "display_name": "Python 3",
   "language": "python",
   "name": "python3"
  },
  "language_info": {
   "codemirror_mode": {
    "name": "ipython",
    "version": 3
   },
   "file_extension": ".py",
   "mimetype": "text/x-python",
   "name": "python",
   "nbconvert_exporter": "python",
   "pygments_lexer": "ipython3",
   "version": "3.8.6"
  }
 },
 "nbformat": 4,
 "nbformat_minor": 2
}
