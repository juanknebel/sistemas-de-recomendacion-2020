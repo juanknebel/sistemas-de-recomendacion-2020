{
 "cells": [
  {
   "cell_type": "code",
   "execution_count": 1,
   "metadata": {},
   "outputs": [],
   "source": [
    "import os\n",
    "import sys\n",
    "module_path = os.path.abspath(os.path.join('..'))\n",
    "if module_path not in sys.path:\n",
    "    sys.path.append(module_path)\n",
    "\n",
    "import pandas as pd\n",
    "import numpy as np\n",
    "from scipy import spatial\n",
    "from scipy import sparse\n",
    "from scipy import linalg, mat\n",
    "from tqdm import tqdm, notebook\n",
    "import math\n",
    "import datetime\n",
    "\n",
    "from sklearn.model_selection import train_test_split\n",
    "from sklearn.preprocessing import normalize\n",
    "from random import randint\n",
    "from src.utils import split_in, extended_describe, cos_cdist\n",
    "import lightfm as lfm\n",
    "from lightfm import data\n",
    "from lightfm import cross_validation\n",
    "from lightfm import evaluation\n",
    "import lightgbm as lgb"
   ]
  },
  {
   "cell_type": "code",
   "execution_count": 19,
   "metadata": {},
   "outputs": [],
   "source": [
    "df_applicants_to_predict = pd.read_csv(\"../data/02_intermediate/postulaciones/postulaciones_test.csv\")\n",
    "df_notice = pd.read_csv(\"../data/02_intermediate/avisos/avisos_extended.csv\")\n",
    "dtypes = {\"idaviso\": \"int64\", \"idpostulante\": \"string\"}\n",
    "mydateparser = lambda x: datetime.datetime.strptime(x, \"%Y-%m-%d %H:%M:%S\")\n",
    "df_applicants_with_rank = pd.read_csv(\"../data/02_intermediate/postulaciones/postulaciones_train_rank.csv\", parse_dates=[\"fechapostulacion\"], date_parser=mydateparser, dtype=dtypes)\n",
    "df_applicants_test = pd.read_csv(\"../data/02_intermediate/postulaciones/postulaciones_test.csv\")"
   ]
  },
  {
   "cell_type": "code",
   "execution_count": 87,
   "metadata": {},
   "outputs": [],
   "source": [
    "columns_dict = pd.read_csv('../data/02_intermediate/postulantes/atributos_diccionario.csv')\n",
    "matrix_train = pd.read_csv('../data/02_intermediate/postulantes/postulantes_matrix_train.csv', index_col='idpostulante')\n",
    "matrix_test = pd.read_csv('../data/02_intermediate/postulantes/postulantes_matrix_test.csv', index_col='idpostulante')\n",
    "numpy_matrix_test = matrix_test.to_numpy()\n",
    "numpy_matrix_train = matrix_train.to_numpy()\n",
    "normalized_test = normalize(numpy_matrix_test, norm='l2')\n",
    "normalized_train = normalize(numpy_matrix_train, norm='l2')"
   ]
  },
  {
   "cell_type": "code",
   "execution_count": 37,
   "metadata": {},
   "outputs": [],
   "source": [
    "ranking_notice = df_applicants_with_rank.groupby(['idaviso', 'sexo']).agg({'idpostulante': 'count'}).reset_index().rename(columns={'idpostulante': 'cantidad'}).sort_values(by='cantidad', ascending=False)\n",
    "top_ten_by_sex = {}\n",
    "top_ten_by_sex['FEM'] = ranking_notice[ranking_notice.sexo=='FEM'].head(10).idaviso.values\n",
    "top_ten_by_sex['MASC'] = ranking_notice[ranking_notice.sexo=='MASC'].head(10).idaviso.values\n",
    "top_ten_by_sex['NO_DECLARA'] = ranking_notice[ranking_notice.sexo=='NO_DECLARA'].head(10).idaviso.values"
   ]
  },
  {
   "cell_type": "code",
   "execution_count": 153,
   "metadata": {},
   "outputs": [],
   "source": [
    "ids_to_predict = set(df_applicants_to_predict.idpostulante)\n",
    "ids_train = set(df_applicants_with_rank.idpostulante)\n",
    "intersect = ids_to_predict.intersection(ids_train)\n",
    "only_in_prediction = ids_to_predict - ids_train\n",
    "only_in_train = ids_train - ids_to_predict"
   ]
  },
  {
   "cell_type": "code",
   "execution_count": 45,
   "metadata": {},
   "outputs": [
    {
     "name": "stdout",
     "output_type": "stream",
     "text": [
      "Ids que estan solo en test: 41204. Usar algo random.\n"
     ]
    }
   ],
   "source": [
    "print(f\"Ids que estan solo en test: {len(only_in_prediction)}. Usar algo random.\")"
   ]
  },
  {
   "cell_type": "code",
   "execution_count": 46,
   "metadata": {},
   "outputs": [
    {
     "name": "stdout",
     "output_type": "stream",
     "text": [
      "Ids que estan en train y test: 115028.\n"
     ]
    }
   ],
   "source": [
    "print(f\"Ids que estan en train y test: {len(intersect)}.\")"
   ]
  },
  {
   "cell_type": "code",
   "execution_count": 154,
   "metadata": {},
   "outputs": [],
   "source": [
    "df_intersect = df_applicants_with_rank[df_applicants_with_rank.idpostulante.isin(intersect)]"
   ]
  },
  {
   "cell_type": "code",
   "execution_count": 160,
   "metadata": {},
   "outputs": [],
   "source": [
    "ranking_by_applicant = (\n",
    "    df_applicants_with_rank[\n",
    "        df_applicants_with_rank.idpostulante.isin(intersect)\n",
    "    ]\n",
    "    .groupby(\"idpostulante\")\n",
    "    .agg({\"idaviso\": \"count\"})\n",
    "    .reset_index()\n",
    "    .rename(columns={\"idaviso\": \"cantidad\"})\n",
    "    .sort_values(by=\"cantidad\", ascending=False)\n",
    ")"
   ]
  },
  {
   "cell_type": "code",
   "execution_count": 171,
   "metadata": {},
   "outputs": [
    {
     "data": {
      "text/plain": [
       "8528"
      ]
     },
     "execution_count": 171,
     "metadata": {},
     "output_type": "execute_result"
    }
   ],
   "source": [
    "ids_hard_users = ranking_by_applicant[\n",
    "    ranking_by_applicant.cantidad > 100\n",
    "].idpostulante.values\n",
    "len(ids_hard_users)"
   ]
  },
  {
   "cell_type": "code",
   "execution_count": 174,
   "metadata": {},
   "outputs": [],
   "source": [
    "df_hard_users = df_applicants_with_rank[df_applicants_with_rank.idpostulante.isin(ids_hard_users)]\n",
    "df_test_hard_users = df_applicants_to_predict[df_applicants_to_predict.idpostulante.isin(ids_hard_users)]"
   ]
  },
  {
   "cell_type": "code",
   "execution_count": 187,
   "metadata": {},
   "outputs": [
    {
     "data": {
      "text/html": [
       "<div>\n",
       "<style scoped>\n",
       "    .dataframe tbody tr th:only-of-type {\n",
       "        vertical-align: middle;\n",
       "    }\n",
       "\n",
       "    .dataframe tbody tr th {\n",
       "        vertical-align: top;\n",
       "    }\n",
       "\n",
       "    .dataframe thead th {\n",
       "        text-align: right;\n",
       "    }\n",
       "</style>\n",
       "<table border=\"1\" class=\"dataframe\">\n",
       "  <thead>\n",
       "    <tr style=\"text-align: right;\">\n",
       "      <th></th>\n",
       "      <th>idaviso</th>\n",
       "      <th>idpostulante</th>\n",
       "      <th>tipo_de_trabajo</th>\n",
       "      <th>nivel_laboral</th>\n",
       "      <th>nombre_area</th>\n",
       "      <th>sexo</th>\n",
       "      <th>anios_al_postularse</th>\n",
       "      <th>fechapostulacion</th>\n",
       "      <th>rank</th>\n",
       "    </tr>\n",
       "  </thead>\n",
       "  <tbody>\n",
       "    <tr>\n",
       "      <th>166</th>\n",
       "      <td>1112433297</td>\n",
       "      <td>0zB0Xwd</td>\n",
       "      <td>Full-time</td>\n",
       "      <td>Otro</td>\n",
       "      <td>Ventas</td>\n",
       "      <td>FEM</td>\n",
       "      <td>28.0</td>\n",
       "      <td>2018-03-30 21:14:48</td>\n",
       "      <td>0</td>\n",
       "    </tr>\n",
       "    <tr>\n",
       "      <th>167</th>\n",
       "      <td>1112399864</td>\n",
       "      <td>0zB0Xwd</td>\n",
       "      <td>Full-time</td>\n",
       "      <td>Senior / Semi-Senior</td>\n",
       "      <td>Administración</td>\n",
       "      <td>FEM</td>\n",
       "      <td>28.0</td>\n",
       "      <td>2018-03-30 16:38:53</td>\n",
       "      <td>1</td>\n",
       "    </tr>\n",
       "    <tr>\n",
       "      <th>168</th>\n",
       "      <td>1112401437</td>\n",
       "      <td>0zB0Xwd</td>\n",
       "      <td>Full-time</td>\n",
       "      <td>Senior / Semi-Senior</td>\n",
       "      <td>Administración</td>\n",
       "      <td>FEM</td>\n",
       "      <td>28.0</td>\n",
       "      <td>2018-03-30 16:35:54</td>\n",
       "      <td>2</td>\n",
       "    </tr>\n",
       "    <tr>\n",
       "      <th>169</th>\n",
       "      <td>1112219347</td>\n",
       "      <td>0zB0Xwd</td>\n",
       "      <td>Full-time</td>\n",
       "      <td>Senior / Semi-Senior</td>\n",
       "      <td>Administración de Personal</td>\n",
       "      <td>FEM</td>\n",
       "      <td>28.0</td>\n",
       "      <td>2018-03-30 16:34:14</td>\n",
       "      <td>3</td>\n",
       "    </tr>\n",
       "    <tr>\n",
       "      <th>170</th>\n",
       "      <td>1112423908</td>\n",
       "      <td>0zB0Xwd</td>\n",
       "      <td>Full-time</td>\n",
       "      <td>Junior</td>\n",
       "      <td>Administración de Personal</td>\n",
       "      <td>FEM</td>\n",
       "      <td>28.0</td>\n",
       "      <td>2018-03-30 16:31:03</td>\n",
       "      <td>4</td>\n",
       "    </tr>\n",
       "  </tbody>\n",
       "</table>\n",
       "</div>"
      ],
      "text/plain": [
       "        idaviso idpostulante tipo_de_trabajo         nivel_laboral  \\\n",
       "166  1112433297      0zB0Xwd       Full-time                  Otro   \n",
       "167  1112399864      0zB0Xwd       Full-time  Senior / Semi-Senior   \n",
       "168  1112401437      0zB0Xwd       Full-time  Senior / Semi-Senior   \n",
       "169  1112219347      0zB0Xwd       Full-time  Senior / Semi-Senior   \n",
       "170  1112423908      0zB0Xwd       Full-time                Junior   \n",
       "\n",
       "                    nombre_area sexo  anios_al_postularse    fechapostulacion  \\\n",
       "166                      Ventas  FEM                 28.0 2018-03-30 21:14:48   \n",
       "167              Administración  FEM                 28.0 2018-03-30 16:38:53   \n",
       "168              Administración  FEM                 28.0 2018-03-30 16:35:54   \n",
       "169  Administración de Personal  FEM                 28.0 2018-03-30 16:34:14   \n",
       "170  Administración de Personal  FEM                 28.0 2018-03-30 16:31:03   \n",
       "\n",
       "     rank  \n",
       "166     0  \n",
       "167     1  \n",
       "168     2  \n",
       "169     3  \n",
       "170     4  "
      ]
     },
     "execution_count": 187,
     "metadata": {},
     "output_type": "execute_result"
    }
   ],
   "source": [
    "df_hard_users.head()"
   ]
  },
  {
   "cell_type": "code",
   "execution_count": 188,
   "metadata": {},
   "outputs": [
    {
     "data": {
      "text/html": [
       "<div>\n",
       "<style scoped>\n",
       "    .dataframe tbody tr th:only-of-type {\n",
       "        vertical-align: middle;\n",
       "    }\n",
       "\n",
       "    .dataframe tbody tr th {\n",
       "        vertical-align: top;\n",
       "    }\n",
       "\n",
       "    .dataframe thead th {\n",
       "        text-align: right;\n",
       "    }\n",
       "</style>\n",
       "<table border=\"1\" class=\"dataframe\">\n",
       "  <thead>\n",
       "    <tr style=\"text-align: right;\">\n",
       "      <th></th>\n",
       "      <th>idpostulante</th>\n",
       "      <th>fechanacimiento</th>\n",
       "      <th>sexo</th>\n",
       "    </tr>\n",
       "  </thead>\n",
       "  <tbody>\n",
       "    <tr>\n",
       "      <th>7</th>\n",
       "      <td>ZPWlE</td>\n",
       "      <td>1962-05-18</td>\n",
       "      <td>FEM</td>\n",
       "    </tr>\n",
       "    <tr>\n",
       "      <th>9</th>\n",
       "      <td>N0V2D</td>\n",
       "      <td>1978-09-29</td>\n",
       "      <td>FEM</td>\n",
       "    </tr>\n",
       "    <tr>\n",
       "      <th>21</th>\n",
       "      <td>EppJmb</td>\n",
       "      <td>1960-06-20</td>\n",
       "      <td>MASC</td>\n",
       "    </tr>\n",
       "    <tr>\n",
       "      <th>60</th>\n",
       "      <td>5M8apw</td>\n",
       "      <td>1974-10-09</td>\n",
       "      <td>FEM</td>\n",
       "    </tr>\n",
       "    <tr>\n",
       "      <th>71</th>\n",
       "      <td>YNlRzP</td>\n",
       "      <td>1980-05-01</td>\n",
       "      <td>MASC</td>\n",
       "    </tr>\n",
       "  </tbody>\n",
       "</table>\n",
       "</div>"
      ],
      "text/plain": [
       "   idpostulante fechanacimiento  sexo\n",
       "7         ZPWlE      1962-05-18   FEM\n",
       "9         N0V2D      1978-09-29   FEM\n",
       "21       EppJmb      1960-06-20  MASC\n",
       "60       5M8apw      1974-10-09   FEM\n",
       "71       YNlRzP      1980-05-01  MASC"
      ]
     },
     "execution_count": 188,
     "metadata": {},
     "output_type": "execute_result"
    }
   ],
   "source": [
    "df_test_hard_users.head()"
   ]
  },
  {
   "cell_type": "code",
   "execution_count": 198,
   "metadata": {},
   "outputs": [],
   "source": [
    "rank_notices = df_hard_users.groupby('idaviso').agg({'rank': 'count'}).reset_index().rename(columns={'rank': 'cantidad'})"
   ]
  },
  {
   "cell_type": "code",
   "execution_count": 202,
   "metadata": {},
   "outputs": [],
   "source": [
    "notice = df_notice.merge(rank_notices, on='idaviso', how='left').fillna(0).drop(columns=['online_desde', 'online_hasta'])"
   ]
  },
  {
   "cell_type": "code",
   "execution_count": 203,
   "metadata": {},
   "outputs": [
    {
     "data": {
      "text/html": [
       "<div>\n",
       "<style scoped>\n",
       "    .dataframe tbody tr th:only-of-type {\n",
       "        vertical-align: middle;\n",
       "    }\n",
       "\n",
       "    .dataframe tbody tr th {\n",
       "        vertical-align: top;\n",
       "    }\n",
       "\n",
       "    .dataframe thead th {\n",
       "        text-align: right;\n",
       "    }\n",
       "</style>\n",
       "<table border=\"1\" class=\"dataframe\">\n",
       "  <thead>\n",
       "    <tr style=\"text-align: right;\">\n",
       "      <th></th>\n",
       "      <th>idaviso</th>\n",
       "      <th>tipo_de_trabajo</th>\n",
       "      <th>nivel_laboral</th>\n",
       "      <th>nombre_area</th>\n",
       "      <th>cantidad</th>\n",
       "    </tr>\n",
       "  </thead>\n",
       "  <tbody>\n",
       "    <tr>\n",
       "      <th>0</th>\n",
       "      <td>8725750</td>\n",
       "      <td>Full-time</td>\n",
       "      <td>Senior / Semi-Senior</td>\n",
       "      <td>Comercial</td>\n",
       "      <td>16.0</td>\n",
       "    </tr>\n",
       "    <tr>\n",
       "      <th>1</th>\n",
       "      <td>12543760</td>\n",
       "      <td>Full-time</td>\n",
       "      <td>Senior / Semi-Senior</td>\n",
       "      <td>Diseño Gráfico</td>\n",
       "      <td>77.0</td>\n",
       "    </tr>\n",
       "    <tr>\n",
       "      <th>2</th>\n",
       "      <td>12812680</td>\n",
       "      <td>Full-time</td>\n",
       "      <td>Senior / Semi-Senior</td>\n",
       "      <td>Otros</td>\n",
       "      <td>23.0</td>\n",
       "    </tr>\n",
       "    <tr>\n",
       "      <th>3</th>\n",
       "      <td>17903700</td>\n",
       "      <td>Full-time</td>\n",
       "      <td>Senior / Semi-Senior</td>\n",
       "      <td>Salud</td>\n",
       "      <td>2.0</td>\n",
       "    </tr>\n",
       "    <tr>\n",
       "      <th>4</th>\n",
       "      <td>1000132160</td>\n",
       "      <td>Full-time</td>\n",
       "      <td>Senior / Semi-Senior</td>\n",
       "      <td>Programación</td>\n",
       "      <td>6.0</td>\n",
       "    </tr>\n",
       "    <tr>\n",
       "      <th>...</th>\n",
       "      <td>...</td>\n",
       "      <td>...</td>\n",
       "      <td>...</td>\n",
       "      <td>...</td>\n",
       "      <td>...</td>\n",
       "    </tr>\n",
       "    <tr>\n",
       "      <th>18357</th>\n",
       "      <td>1112470166</td>\n",
       "      <td>Full-time</td>\n",
       "      <td>Junior</td>\n",
       "      <td>Mantenimiento y Limpieza</td>\n",
       "      <td>0.0</td>\n",
       "    </tr>\n",
       "    <tr>\n",
       "      <th>18358</th>\n",
       "      <td>1112470172</td>\n",
       "      <td>Full-time</td>\n",
       "      <td>Senior / Semi-Senior</td>\n",
       "      <td>Ventas</td>\n",
       "      <td>0.0</td>\n",
       "    </tr>\n",
       "    <tr>\n",
       "      <th>18359</th>\n",
       "      <td>1112470230</td>\n",
       "      <td>Full-time</td>\n",
       "      <td>Otro</td>\n",
       "      <td>Transporte</td>\n",
       "      <td>0.0</td>\n",
       "    </tr>\n",
       "    <tr>\n",
       "      <th>18360</th>\n",
       "      <td>1112470244</td>\n",
       "      <td>Full-time</td>\n",
       "      <td>Senior / Semi-Senior</td>\n",
       "      <td>Ingeniería  Automotriz</td>\n",
       "      <td>0.0</td>\n",
       "    </tr>\n",
       "    <tr>\n",
       "      <th>18361</th>\n",
       "      <td>1112470281</td>\n",
       "      <td>Full-time</td>\n",
       "      <td>Senior / Semi-Senior</td>\n",
       "      <td>Ventas</td>\n",
       "      <td>0.0</td>\n",
       "    </tr>\n",
       "  </tbody>\n",
       "</table>\n",
       "<p>18362 rows × 5 columns</p>\n",
       "</div>"
      ],
      "text/plain": [
       "          idaviso tipo_de_trabajo         nivel_laboral  \\\n",
       "0         8725750       Full-time  Senior / Semi-Senior   \n",
       "1        12543760       Full-time  Senior / Semi-Senior   \n",
       "2        12812680       Full-time  Senior / Semi-Senior   \n",
       "3        17903700       Full-time  Senior / Semi-Senior   \n",
       "4      1000132160       Full-time  Senior / Semi-Senior   \n",
       "...           ...             ...                   ...   \n",
       "18357  1112470166       Full-time                Junior   \n",
       "18358  1112470172       Full-time  Senior / Semi-Senior   \n",
       "18359  1112470230       Full-time                  Otro   \n",
       "18360  1112470244       Full-time  Senior / Semi-Senior   \n",
       "18361  1112470281       Full-time  Senior / Semi-Senior   \n",
       "\n",
       "                    nombre_area  cantidad  \n",
       "0                     Comercial      16.0  \n",
       "1                Diseño Gráfico      77.0  \n",
       "2                         Otros      23.0  \n",
       "3                         Salud       2.0  \n",
       "4                  Programación       6.0  \n",
       "...                         ...       ...  \n",
       "18357  Mantenimiento y Limpieza       0.0  \n",
       "18358                    Ventas       0.0  \n",
       "18359                Transporte       0.0  \n",
       "18360    Ingeniería  Automotriz       0.0  \n",
       "18361                    Ventas       0.0  \n",
       "\n",
       "[18362 rows x 5 columns]"
      ]
     },
     "execution_count": 203,
     "metadata": {},
     "output_type": "execute_result"
    }
   ],
   "source": [
    "notice"
   ]
  },
  {
   "cell_type": "code",
   "execution_count": null,
   "metadata": {},
   "outputs": [],
   "source": []
  },
  {
   "cell_type": "code",
   "execution_count": 190,
   "metadata": {},
   "outputs": [
    {
     "data": {
      "text/plain": [
       "(8528, 18362)"
      ]
     },
     "execution_count": 190,
     "metadata": {},
     "output_type": "execute_result"
    }
   ],
   "source": [
    "ds = lfm.data.Dataset()\n",
    "ds.fit(users=df_hard_users.idpostulante.unique(), items=notice.idaviso.unique())\n",
    "ds.interactions_shape()"
   ]
  },
  {
   "cell_type": "code",
   "execution_count": 192,
   "metadata": {},
   "outputs": [
    {
     "data": {
      "text/plain": [
       "<8528x18362 sparse matrix of type '<class 'numpy.int32'>'\n",
       "\twith 1736724 stored elements in COOrdinate format>"
      ]
     },
     "execution_count": 192,
     "metadata": {},
     "output_type": "execute_result"
    }
   ],
   "source": [
    "# transformar  'fechapostulacion' en un int\n",
    "(interactions, weights) = ds.build_interactions(df_hard_users[['idpostulante', 'idaviso', 'rank']].itertuples(index=False))\n",
    "interactions"
   ]
  },
  {
   "cell_type": "code",
   "execution_count": 182,
   "metadata": {},
   "outputs": [
    {
     "data": {
      "text/plain": [
       "<lightfm.lightfm.LightFM at 0x7f5c33b2a820>"
      ]
     },
     "execution_count": 182,
     "metadata": {},
     "output_type": "execute_result"
    }
   ],
   "source": [
    "train, test = lfm.cross_validation.random_train_test_split(interactions, test_percentage=0.2)\n",
    "model = lfm.LightFM(no_components=20)\n",
    "model.fit(train, epochs=50, num_threads=8)"
   ]
  },
  {
   "cell_type": "code",
   "execution_count": 183,
   "metadata": {},
   "outputs": [
    {
     "name": "stdout",
     "output_type": "stream",
     "text": [
      "Precision en train: 0.17938555777072906\n",
      "Precision en test: 0.06287524104118347\n"
     ]
    }
   ],
   "source": [
    "train_precision = lfm.evaluation.precision_at_k(model, train, k=10, num_threads=8).mean()\n",
    "test_precision  = lfm.evaluation.precision_at_k(model, test,  k=10, num_threads=8).mean()\n",
    "print(f'Precision en train: {train_precision}')\n",
    "print(f'Precision en test: {test_precision}')"
   ]
  },
  {
   "cell_type": "code",
   "execution_count": null,
   "metadata": {},
   "outputs": [],
   "source": []
  }
 ],
 "metadata": {
  "kernelspec": {
   "display_name": "Python 3",
   "language": "python",
   "name": "python3"
  },
  "language_info": {
   "codemirror_mode": {
    "name": "ipython",
    "version": 3
   },
   "file_extension": ".py",
   "mimetype": "text/x-python",
   "name": "python",
   "nbconvert_exporter": "python",
   "pygments_lexer": "ipython3",
   "version": "3.8.6"
  }
 },
 "nbformat": 4,
 "nbformat_minor": 2
}
